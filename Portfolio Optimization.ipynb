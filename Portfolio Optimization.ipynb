{
 "cells": [
  {
   "cell_type": "code",
   "execution_count": 3,
   "metadata": {},
   "outputs": [],
   "source": [
    "import numpy as np\n",
    "import pandas as pd\n",
    "import fix_yahoo_finance as yf\n",
    "import matplotlib.pyplot as plt\n",
    "%matplotlib inline\n"
   ]
  },
  {
   "cell_type": "code",
   "execution_count": 4,
   "metadata": {},
   "outputs": [
    {
     "name": "stdout",
     "output_type": "stream",
     "text": [
      "\r[                       0%                       ]"
     ]
    },
    {
     "name": "stdout",
     "output_type": "stream",
     "text": [
      "\r[***********           22%                       ]  2 of 9 downloaded"
     ]
    },
    {
     "name": "stdout",
     "output_type": "stream",
     "text": [
      "\r[****************      33%                       ]  3 of 9 downloaded"
     ]
    },
    {
     "name": "stdout",
     "output_type": "stream",
     "text": [
      "\r[********************* 44%                       ]  4 of 9 downloaded"
     ]
    },
    {
     "name": "stdout",
     "output_type": "stream",
     "text": [
      "\r[**********************56%**                     ]  5 of 9 downloaded"
     ]
    },
    {
     "name": "stdout",
     "output_type": "stream",
     "text": [
      "\r[**********************67%*******                ]  6 of 9 downloaded"
     ]
    },
    {
     "name": "stdout",
     "output_type": "stream",
     "text": [
      "\r[**********************78%************           ]  7 of 9 downloaded"
     ]
    },
    {
     "name": "stdout",
     "output_type": "stream",
     "text": [
      "\r[**********************89%******************     ]  8 of 9 downloaded"
     ]
    },
    {
     "name": "stdout",
     "output_type": "stream",
     "text": [
      "\r[*********************100%***********************]  9 of 9 downloaded"
     ]
    },
    {
     "name": "stdout",
     "output_type": "stream",
     "text": [
      "\r[*********************100%***********************]  9 of 9 downloaded"
     ]
    },
    {
     "name": "stdout",
     "output_type": "stream",
     "text": [
      "\n"
     ]
    }
   ],
   "source": [
    "from datetime import date,datetime\n",
    "from dateutil.relativedelta import relativedelta\n",
    "ticks = ['XLB','XLI','XLY','XLP', 'XLE','XLF','XLU','XLV','XLK']\n",
    "end = date.today()\n",
    "beg = end - relativedelta(years = 10)\n",
    "data = pd.DataFrame(yf.download(ticks, start=beg, end=end)['Adj Close'])"
   ]
  },
  {
   "cell_type": "code",
   "execution_count": 5,
   "metadata": {
    "scrolled": true
   },
   "outputs": [],
   "source": [
    "#lets calc returns and cov matrix\n",
    "rets = np.log(1+data.pct_change()).dropna()\n",
    "mean_rets = rets.mean()*252\n",
    "cov = rets.cov()*252\n",
    "syms = len(ticks)\n"
   ]
  },
  {
   "cell_type": "code",
   "execution_count": 6,
   "metadata": {},
   "outputs": [],
   "source": [
    "##now we simulate the returns of the portfolio across random samples\n",
    "prets = []\n",
    "pvols = []\n",
    "\n",
    "for trial in range(20000):\n",
    "    weights = np.random.random(syms)\n",
    "    weights /= np.sum(weights)\n",
    "    prets.append(np.sum(mean_rets*weights))\n",
    "    pvols.append(np.sqrt(np.dot(weights.T,\n",
    "                                np.dot(cov,weights))))\n",
    "prets = np.array(prets)\n",
    "pvols = np.array(pvols)"
   ]
  },
  {
   "cell_type": "code",
   "execution_count": 7,
   "metadata": {},
   "outputs": [],
   "source": [
    "#function for computing portfolio returns, std, and shapre\n",
    "def port_stats(weights):\n",
    "    w = np.array(weights)\n",
    "    r = np.sum(w*mean_rets)\n",
    "    std = np.sqrt(np.dot(w.T,np.dot(cov,w)))\n",
    "    sharpe = r/std\n",
    "    return np.array([r,std,sharpe])"
   ]
  },
  {
   "cell_type": "code",
   "execution_count": 8,
   "metadata": {},
   "outputs": [],
   "source": [
    "import scipy.optimize as sco\n",
    "#boundaries\n",
    "bnds = tuple((0,.3) for x in range(syms))\n",
    "#constraints\n",
    "cons = ({'type':'eq','fun':lambda x: np.sum(x)-1})\n",
    "\n",
    "#returns negative of sharpe b/c minimum of negative sharpe is the maximum of the sharpe ratio\n",
    "def max_sharpe(weights):\n",
    "    return -port_stats(weights)[2]\n",
    "\n",
    "guess = syms*[1/syms]\n",
    "sharpe_opt = sco.minimize(max_sharpe, guess, method = 'SLSQP',constraints=cons, bounds=bnds)\n",
    "\n",
    "#now lets find the min variance portfolio\n",
    "\n",
    "def min_var(weights):\n",
    "    return port_stats(weights)[1]\n",
    "\n",
    "min_var_opt = sco.minimize(min_var, guess, method = 'SLSQP',constraints=cons, bounds=bnds)\n"
   ]
  },
  {
   "cell_type": "code",
   "execution_count": 9,
   "metadata": {},
   "outputs": [],
   "source": [
    "#now lets create an efficient frontier for this dataset\n",
    "frets = np.linspace(0.06, .13, 50)\n",
    "fvols = []\n",
    "for ret in frets:\n",
    "    cons = ({'type':'eq', 'fun':lambda x: port_stats(x)[0]-ret},\n",
    "            {'type':'eq','fun':lambda x: np.sum(x)-1})\n",
    "    res = sco.minimize(min_var, guess, constraints = cons, bounds = bnds, method ='SLSQP')\n",
    "    fvols.append(res['fun']) ## this is the actual vol\n",
    "fvols = np.array(fvols)"
   ]
  },
  {
   "cell_type": "code",
   "execution_count": 10,
   "metadata": {},
   "outputs": [
    {
     "data": {
      "text/plain": [
       "<matplotlib.colorbar.Colorbar at 0x1ef303ecef0>"
      ]
     },
     "execution_count": 10,
     "metadata": {},
     "output_type": "execute_result"
    },
    {
     "data": {
      "image/png": "[encoded data removed]",
      "text/plain": [
       "<Figure size 576x288 with 2 Axes>"
      ]
     },
     "metadata": {},
     "output_type": "display_data"
    }
   ],
   "source": [
    "plt.figure(figsize=(8, 4))\n",
    "plt.scatter(pvols, prets,\n",
    "c=prets / pvols, marker='o')\n",
    "# random portfolio composition\n",
    "plt.scatter(fvols, frets,\n",
    "c=frets / fvols, marker='x')\n",
    "# efficient frontier\n",
    "plt.plot(port_stats(sharpe_opt['x'])[1], port_stats(sharpe_opt['x'])[0],\n",
    "'r*', markersize=15.0)\n",
    "# portfolio with highest Sharpe ratio\n",
    "plt.plot(port_stats(min_var_opt['x'])[1], port_stats(min_var_opt['x'])[0],\n",
    "'y*', markersize=15.0)\n",
    "# minimum variance portfolio\n",
    "plt.grid(True)\n",
    "plt.xlabel('‘expected volatility’')\n",
    "plt.ylabel('‘expected return’')\n",
    "plt.colorbar(label='‘Sharpe ratio’')"
   ]
  },
  {
   "cell_type": "code",
   "execution_count": 11,
   "metadata": {},
   "outputs": [],
   "source": [
    "import scipy.interpolate as sci\n",
    "##this code starts the interpolation at the minvar Portfolion\n",
    "ind = np.argmin(fvols)\n",
    "evols = fvols[ind:]\n",
    "erets = frets[ind:]\n",
    "tck = sci.splrep(evols, erets)"
   ]
  },
  {
   "cell_type": "code",
   "execution_count": 12,
   "metadata": {},
   "outputs": [
    {
     "data": {
      "text/plain": [
       "array([0.0175    , 0.65177943, 0.16397355])"
      ]
     },
     "execution_count": 12,
     "metadata": {},
     "output_type": "execute_result"
    }
   ],
   "source": [
    "#define function\n",
    "def f(x):\n",
    "    return sci.splev(x,tck,der=0)\n",
    "def df(x):\n",
    "    return sci.splev(x,tck,der=1)\n",
    "\n",
    "def CAPM_eq(p,rf=0.0175):\n",
    "    eq1 = rf - p[0]\n",
    "    eq2 = rf + p[1]*p[2]-f(p[2])\n",
    "    eq3 = p[1] - df(p[2])\n",
    "    return eq1,eq2,eq3\n",
    "\n",
    "#solivng the CAPM equation\n",
    "CAPM_opt = sco.fsolve(CAPM_eq,[.0175,.5,.15])\n",
    "CAPM_opt"
   ]
  },
  {
   "cell_type": "code",
   "execution_count": 26,
   "metadata": {},
   "outputs": [
    {
     "data": {
      "image/png": "[encoded data removed]",
      "text/plain": [
       "<Figure size 576x288 with 1 Axes>"
      ]
     },
     "metadata": {},
     "output_type": "display_data"
    }
   ],
   "source": [
    "plt.figure(figsize=(8, 4))\n",
    "plt.scatter(pvols, prets,\n",
    "c=(prets - 0.01) / pvols, marker='o')\n",
    "# random portfolio composition\n",
    "plt.plot(evols, erets, 'b', lw=4.0)\n",
    "rang = np.linspace(.0175,.174)\n",
    "plt.plot(rang, CAPM_opt[0] + CAPM_opt[1]*rang)\n",
    "plt.plot(CAPM_opt[2], f(CAPM_opt[2]), 'r*', markersize=15.0)\n",
    "plt.grid(True)"
   ]
  },
  {
   "cell_type": "code",
   "execution_count": 13,
   "metadata": {},
   "outputs": [
    {
     "name": "stdout",
     "output_type": "stream",
     "text": [
      "\r[                       0%                       ]"
     ]
    },
    {
     "name": "stdout",
     "output_type": "stream",
     "text": [
      "\r[*********************100%***********************]  1 of 1 downloaded"
     ]
    },
    {
     "name": "stdout",
     "output_type": "stream",
     "text": [
      "\n"
     ]
    }
   ],
   "source": [
    "#lets mess around with a rolling optimization portfolio\n",
    "monthly_bm = pd.DataFrame(yf.download('BRK-B', start=beg, end=end)['Adj Close'])\n",
    "monthly_bm = np.log(1+monthly_bm.pct_change())\n",
    "monthly_bm = monthly_bm.resample('BM').asfreq().ffill()\n",
    "monthly_bm.columns = ['Brk-B']\n",
    "monthly = rets.resample('BM').asfreq().ffill()\n"
   ]
  },
  {
   "cell_type": "code",
   "execution_count": 58,
   "metadata": {},
   "outputs": [],
   "source": [
    "lookback = 12\n",
    "def quadfit(train,trainBM,test,testBM):\n",
    "    syms = train.shape[1]\n",
    "    #boundaries\n",
    "    bnds = tuple((0,.1) for x in range(syms))\n",
    "    #constraints\n",
    "    cons = ({'type':'eq','fun':lambda x: np.sum(x)-1})\n",
    "    guess = syms*[1/syms]\n",
    "    \n",
    "    #now lets find the min variance portfolio\n",
    "    train_rets = train.mean()*12\n",
    "    train_cov = train.cov()*12\n",
    "    def port_stats(weights):\n",
    "        w = np.array(weights)\n",
    "        r = np.sum(w*train_rets)\n",
    "        std = np.sqrt(np.dot(w.T,np.dot(train_cov,w)))\n",
    "        sharpe = r/std\n",
    "        return np.array([r,std,sharpe])\n",
    "    max_sharpe_opt = sco.minimize(max_sharpe, guess, method = 'SLSQP',constraints=cons, bounds=bnds)\n",
    "    weights = min_var_opt['x']\n",
    "    test_rets = np.dot(weights,test)\n",
    "    test_rets_bm = testBM\n",
    "    cols = ticks+['Port Returns']+['Brk-B Returns']\n",
    "    arr = np.hstack([weights,np.array(test_rets),test_rets_bm]).reshape(1,11)\n",
    "    result = pd.DataFrame(arr,columns=cols)\n",
    "    return result"
   ]
  },
  {
   "cell_type": "code",
   "execution_count": 61,
   "metadata": {
    "collapsed": true
   },
   "outputs": [
    {
     "name": "stdout",
     "output_type": "stream",
     "text": [
      "                 XLB       XLE       XLF       XLI       XLK       XLP  \\\nDate                                                                     \n2008-08-29 -0.006769 -0.004678  0.001402 -0.011012 -0.022600 -0.009901   \n2008-09-30  0.021181  0.059391  0.068670  0.009788  0.043765  0.034651   \n2008-10-31  0.011251  0.020639  0.047471  0.032697 -0.005988 -0.006199   \n2008-11-28  0.004329 -0.016177  0.024792  0.021431  0.001313  0.015070   \n2008-12-31  0.017299  0.010522  0.031646  0.023765  0.012406  0.009682   \n2009-01-30 -0.040024 -0.013969 -0.027749 -0.021599 -0.030194 -0.031114   \n2009-02-27 -0.010272 -0.024497 -0.067412 -0.025406 -0.007057 -0.006365   \n2009-03-31  0.004513 -0.008443  0.053626  0.005987  0.018741 -0.001894   \n2009-04-30  0.027648 -0.016680 -0.013882  0.003683  0.002903 -0.004083   \n2009-05-29  0.029507  0.018553  0.018152  0.023848  0.010823  0.010872   \n2009-06-30 -0.009644 -0.006017 -0.009991 -0.010419 -0.007659 -0.007799   \n2009-07-31  0.010356  0.009727  0.010042  0.003776 -0.003547 -0.002037   \n\n                 XLU       XLV       XLY  \nDate                                      \n2008-08-29 -0.013975 -0.010979 -0.011410  \n2008-09-30  0.015467 -0.003322  0.021740  \n2008-10-31 -0.026959  0.000752  0.039952  \n2008-11-28  0.017416  0.012924  0.015245  \n2008-12-31  0.015973  0.009081  0.017774  \n2009-01-30 -0.020154 -0.010619 -0.025097  \n2009-02-27 -0.015656 -0.040927 -0.006822  \n2009-03-31  0.010228  0.003724  0.007663  \n2009-04-30  0.000774 -0.000827  0.016887  \n2009-05-29  0.007123  0.017181  0.016572  \n2009-06-30 -0.007501 -0.008327 -0.007339  \n2009-07-31 -0.012704 -0.007863  0.000000  \n"
     ]
    },
    {
     "name": "stdout",
     "output_type": "stream",
     "text": [
      "                 XLB       XLE       XLF       XLI       XLK       XLP  \\\nDate                                                                     \n2008-09-30  0.021181  0.059391  0.068670  0.009788  0.043765  0.034651   \n2008-10-31  0.011251  0.020639  0.047471  0.032697 -0.005988 -0.006199   \n2008-11-28  0.004329 -0.016177  0.024792  0.021431  0.001313  0.015070   \n2008-12-31  0.017299  0.010522  0.031646  0.023765  0.012406  0.009682   \n2009-01-30 -0.040024 -0.013969 -0.027749 -0.021599 -0.030194 -0.031114   \n2009-02-27 -0.010272 -0.024497 -0.067412 -0.025406 -0.007057 -0.006365   \n2009-03-31  0.004513 -0.008443  0.053626  0.005987  0.018741 -0.001894   \n2009-04-30  0.027648 -0.016680 -0.013882  0.003683  0.002903 -0.004083   \n2009-05-29  0.029507  0.018553  0.018152  0.023848  0.010823  0.010872   \n2009-06-30 -0.009644 -0.006017 -0.009991 -0.010419 -0.007659 -0.007799   \n2009-07-31  0.010356  0.009727  0.010042  0.003776 -0.003547 -0.002037   \n2009-08-31 -0.013329 -0.019546 -0.003396 -0.011919 -0.012903  0.002017   \n\n                 XLU       XLV       XLY  \nDate                                      \n2008-09-30  0.015467 -0.003322  0.021740  \n2008-10-31 -0.026959  0.000752  0.039952  \n2008-11-28  0.017416  0.012924  0.015245  \n2008-12-31  0.015973  0.009081  0.017774  \n2009-01-30 -0.020154 -0.010619 -0.025097  \n2009-02-27 -0.015656 -0.040927 -0.006822  \n2009-03-31  0.010228  0.003724  0.007663  \n2009-04-30  0.000774 -0.000827  0.016887  \n2009-05-29  0.007123  0.017181  0.016572  \n2009-06-30 -0.007501 -0.008327 -0.007339  \n2009-07-31 -0.012704 -0.007863  0.000000  \n2009-08-31 -0.008517 -0.001745 -0.017055  \n"
     ]
    },
    {
     "name": "stdout",
     "output_type": "stream",
     "text": [
      "                 XLB       XLE       XLF       XLI       XLK       XLP  \\\nDate                                                                     \n2008-10-31  0.011251  0.020639  0.047471  0.032697 -0.005988 -0.006199   \n2008-11-28  0.004329 -0.016177  0.024792  0.021431  0.001313  0.015070   \n2008-12-31  0.017299  0.010522  0.031646  0.023765  0.012406  0.009682   \n2009-01-30 -0.040024 -0.013969 -0.027749 -0.021599 -0.030194 -0.031114   \n2009-02-27 -0.010272 -0.024497 -0.067412 -0.025406 -0.007057 -0.006365   \n2009-03-31  0.004513 -0.008443  0.053626  0.005987  0.018741 -0.001894   \n2009-04-30  0.027648 -0.016680 -0.013882  0.003683  0.002903 -0.004083   \n2009-05-29  0.029507  0.018553  0.018152  0.023848  0.010823  0.010872   \n2009-06-30 -0.009644 -0.006017 -0.009991 -0.010419 -0.007659 -0.007799   \n2009-07-31  0.010356  0.009727  0.010042  0.003776 -0.003547 -0.002037   \n2009-08-31 -0.013329 -0.019546 -0.003396 -0.011919 -0.012903  0.002017   \n2009-09-30 -0.006764 -0.006471 -0.004674 -0.010199  0.002879  0.001966   \n\n                 XLU       XLV       XLY  \nDate                                      \n2008-10-31 -0.026959  0.000752  0.039952  \n2008-11-28  0.017416  0.012924  0.015245  \n2008-12-31  0.015973  0.009081  0.017774  \n2009-01-30 -0.020154 -0.010619 -0.025097  \n2009-02-27 -0.015656 -0.040927 -0.006822  \n2009-03-31  0.010228  0.003724  0.007663  \n2009-04-30  0.000774 -0.000827  0.016887  \n2009-05-29  0.007123  0.017181  0.016572  \n2009-06-30 -0.007501 -0.008327 -0.007339  \n2009-07-31 -0.012704 -0.007863  0.000000  \n2009-08-31 -0.008517 -0.001745 -0.017055  \n2009-09-30 -0.006118 -0.007298 -0.005446  \n"
     ]
    },
    {
     "name": "stdout",
     "output_type": "stream",
     "text": [
      "                 XLB       XLE       XLF       XLI       XLK       XLP  \\\nDate                                                                     \n2008-11-28  0.004329 -0.016177  0.024792  0.021431  0.001313  0.015070   \n2008-12-31  0.017299  0.010522  0.031646  0.023765  0.012406  0.009682   \n2009-01-30 -0.040024 -0.013969 -0.027749 -0.021599 -0.030194 -0.031114   \n2009-02-27 -0.010272 -0.024497 -0.067412 -0.025406 -0.007057 -0.006365   \n2009-03-31  0.004513 -0.008443  0.053626  0.005987  0.018741 -0.001894   \n2009-04-30  0.027648 -0.016680 -0.013882  0.003683  0.002903 -0.004083   \n2009-05-29  0.029507  0.018553  0.018152  0.023848  0.010823  0.010872   \n2009-06-30 -0.009644 -0.006017 -0.009991 -0.010419 -0.007659 -0.007799   \n2009-07-31  0.010356  0.009727  0.010042  0.003776 -0.003547 -0.002037   \n2009-08-31 -0.013329 -0.019546 -0.003396 -0.011919 -0.012903  0.002017   \n2009-09-30 -0.006764 -0.006471 -0.004674 -0.010199  0.002879  0.001966   \n2009-10-30 -0.036477 -0.038698 -0.047943 -0.034587 -0.026809 -0.015749   \n\n                 XLU       XLV       XLY  \nDate                                      \n2008-11-28  0.017416  0.012924  0.015245  \n2008-12-31  0.015973  0.009081  0.017774  \n2009-01-30 -0.020154 -0.010619 -0.025097  \n2009-02-27 -0.015656 -0.040927 -0.006822  \n2009-03-31  0.010228  0.003724  0.007663  \n2009-04-30  0.000774 -0.000827  0.016887  \n2009-05-29  0.007123  0.017181  0.016572  \n2009-06-30 -0.007501 -0.008327 -0.007339  \n2009-07-31 -0.012704 -0.007863  0.000000  \n2009-08-31 -0.008517 -0.001745 -0.017055  \n2009-09-30 -0.006118 -0.007298 -0.005446  \n2009-10-30 -0.018842 -0.014501 -0.026492  \n"
     ]
    },
    {
     "name": "stdout",
     "output_type": "stream",
     "text": [
      "                 XLB       XLE       XLF       XLI       XLK       XLP  \\\nDate                                                                     \n2008-12-31  0.017299  0.010522  0.031646  0.023765  0.012406  0.009682   \n2009-01-30 -0.040024 -0.013969 -0.027749 -0.021599 -0.030194 -0.031114   \n2009-02-27 -0.010272 -0.024497 -0.067412 -0.025406 -0.007057 -0.006365   \n2009-03-31  0.004513 -0.008443  0.053626  0.005987  0.018741 -0.001894   \n2009-04-30  0.027648 -0.016680 -0.013882  0.003683  0.002903 -0.004083   \n2009-05-29  0.029507  0.018553  0.018152  0.023848  0.010823  0.010872   \n2009-06-30 -0.009644 -0.006017 -0.009991 -0.010419 -0.007659 -0.007799   \n2009-07-31  0.010356  0.009727  0.010042  0.003776 -0.003547 -0.002037   \n2009-08-31 -0.013329 -0.019546 -0.003396 -0.011919 -0.012903  0.002017   \n2009-09-30 -0.006764 -0.006471 -0.004674 -0.010199  0.002879  0.001966   \n2009-10-30 -0.036477 -0.038698 -0.047943 -0.034587 -0.026809 -0.015749   \n2009-11-30  0.004626 -0.003514  0.026262  0.003277  0.001841 -0.003728   \n\n                 XLU       XLV       XLY  \nDate                                      \n2008-12-31  0.015973  0.009081  0.017774  \n2009-01-30 -0.020154 -0.010619 -0.025097  \n2009-02-27 -0.015656 -0.040927 -0.006822  \n2009-03-31  0.010228  0.003724  0.007663  \n2009-04-30  0.000774 -0.000827  0.016887  \n2009-05-29  0.007123  0.017181  0.016572  \n2009-06-30 -0.007501 -0.008327 -0.007339  \n2009-07-31 -0.012704 -0.007863  0.000000  \n2009-08-31 -0.008517 -0.001745 -0.017055  \n2009-09-30 -0.006118 -0.007298 -0.005446  \n2009-10-30 -0.018842 -0.014501 -0.026492  \n2009-11-30  0.008436 -0.003579  0.000000  \n"
     ]
    },
    {
     "name": "stdout",
     "output_type": "stream",
     "text": [
      "                 XLB       XLE       XLF       XLI       XLK       XLP  \\\nDate                                                                     \n2009-01-30 -0.040024 -0.013969 -0.027749 -0.021599 -0.030194 -0.031114   \n2009-02-27 -0.010272 -0.024497 -0.067412 -0.025406 -0.007057 -0.006365   \n2009-03-31  0.004513 -0.008443  0.053626  0.005987  0.018741 -0.001894   \n2009-04-30  0.027648 -0.016680 -0.013882  0.003683  0.002903 -0.004083   \n2009-05-29  0.029507  0.018553  0.018152  0.023848  0.010823  0.010872   \n2009-06-30 -0.009644 -0.006017 -0.009991 -0.010419 -0.007659 -0.007799   \n2009-07-31  0.010356  0.009727  0.010042  0.003776 -0.003547 -0.002037   \n2009-08-31 -0.013329 -0.019546 -0.003396 -0.011919 -0.012903  0.002017   \n2009-09-30 -0.006764 -0.006471 -0.004674 -0.010199  0.002879  0.001966   \n2009-10-30 -0.036477 -0.038698 -0.047943 -0.034587 -0.026809 -0.015749   \n2009-11-30  0.004626 -0.003514  0.026262  0.003277  0.001841 -0.003728   \n2009-12-31 -0.013847 -0.008037 -0.002081 -0.012516 -0.008684 -0.009775   \n\n                 XLU       XLV       XLY  \nDate                                      \n2009-01-30 -0.020154 -0.010619 -0.025097  \n2009-02-27 -0.015656 -0.040927 -0.006822  \n2009-03-31  0.010228  0.003724  0.007663  \n2009-04-30  0.000774 -0.000827  0.016887  \n2009-05-29  0.007123  0.017181  0.016572  \n2009-06-30 -0.007501 -0.008327 -0.007339  \n2009-07-31 -0.012704 -0.007863  0.000000  \n2009-08-31 -0.008517 -0.001745 -0.017055  \n2009-09-30 -0.006118 -0.007298 -0.005446  \n2009-10-30 -0.018842 -0.014501 -0.026492  \n2009-11-30  0.008436 -0.003579  0.000000  \n2009-12-31 -0.014402 -0.013428 -0.009361  \n"
     ]
    },
    {
     "name": "stdout",
     "output_type": "stream",
     "text": [
      "                 XLB       XLE       XLF       XLI       XLK       XLP  \\\nDate                                                                     \n2009-02-27 -0.010272 -0.024497 -0.067412 -0.025406 -0.007057 -0.006365   \n2009-03-31  0.004513 -0.008443  0.053626  0.005987  0.018741 -0.001894   \n2009-04-30  0.027648 -0.016680 -0.013882  0.003683  0.002903 -0.004083   \n2009-05-29  0.029507  0.018553  0.018152  0.023848  0.010823  0.010872   \n2009-06-30 -0.009644 -0.006017 -0.009991 -0.010419 -0.007659 -0.007799   \n2009-07-31  0.010356  0.009727  0.010042  0.003776 -0.003547 -0.002037   \n2009-08-31 -0.013329 -0.019546 -0.003396 -0.011919 -0.012903  0.002017   \n2009-09-30 -0.006764 -0.006471 -0.004674 -0.010199  0.002879  0.001966   \n2009-10-30 -0.036477 -0.038698 -0.047943 -0.034587 -0.026809 -0.015749   \n2009-11-30  0.004626 -0.003514  0.026262  0.003277  0.001841 -0.003728   \n2009-12-31 -0.013847 -0.008037 -0.002081 -0.012516 -0.008684 -0.009775   \n2010-01-29 -0.016127 -0.018182 -0.007027 -0.010174 -0.017498 -0.003810   \n\n                 XLU       XLV       XLY  \nDate                                      \n2009-02-27 -0.015656 -0.040927 -0.006822  \n2009-03-31  0.010228  0.003724  0.007663  \n2009-04-30  0.000774 -0.000827  0.016887  \n2009-05-29  0.007123  0.017181  0.016572  \n2009-06-30 -0.007501 -0.008327 -0.007339  \n2009-07-31 -0.012704 -0.007863  0.000000  \n2009-08-31 -0.008517 -0.001745 -0.017055  \n2009-09-30 -0.006118 -0.007298 -0.005446  \n2009-10-30 -0.018842 -0.014501 -0.026492  \n2009-11-30  0.008436 -0.003579  0.000000  \n2009-12-31 -0.014402 -0.013428 -0.009361  \n2010-01-29 -0.006077 -0.007009 -0.006207  \n                 XLB       XLE       XLF       XLI       XLK       XLP  \\\nDate                                                                     \n2009-03-31  0.004513 -0.008443  0.053626  0.005987  0.018741 -0.001894   \n2009-04-30  0.027648 -0.016680 -0.013882  0.003683  0.002903 -0.004083   \n2009-05-29  0.029507  0.018553  0.018152  0.023848  0.010823  0.010872   \n2009-06-30 -0.009644 -0.006017 -0.009991 -0.010419 -0.007659 -0.007799   \n2009-07-31  0.010356  0.009727  0.010042  0.003776 -0.003547 -0.002037   \n2009-08-31 -0.013329 -0.019546 -0.003396 -0.011919 -0.012903  0.002017   \n2009-09-30 -0.006764 -0.006471 -0.004674 -0.010199  0.002879  0.001966   \n2009-10-30 -0.036477 -0.038698 -0.047943 -0.034587 -0.026809 -0.015749   \n2009-11-30  0.004626 -0.003514  0.026262  0.003277  0.001841 -0.003728   \n2009-12-31 -0.013847 -0.008037 -0.002081 -0.012516 -0.008684 -0.009775   \n2010-01-29 -0.016127 -0.018182 -0.007027 -0.010174 -0.017498 -0.003810   \n2010-02-26  0.000318  0.002318  0.006149  0.003821  0.001384 -0.004798   \n\n                 XLU       XLV       XLY  \nDate                                      \n2009-03-31  0.010228  0.003724  0.007663  \n2009-04-30  0.000774 -0.000827  0.016887  \n2009-05-29  0.007123  0.017181  0.016572  \n2009-06-30 -0.007501 -0.008327 -0.007339  \n2009-07-31 -0.012704 -0.007863  0.000000  \n2009-08-31 -0.008517 -0.001745 -0.017055  \n2009-09-30 -0.006118 -0.007298 -0.005446  \n2009-10-30 -0.018842 -0.014501 -0.026492  \n2009-11-30  0.008436 -0.003579  0.000000  \n2009-12-31 -0.014402 -0.013428 -0.009361  \n2010-01-29 -0.006077 -0.007009 -0.006207  \n2010-02-26 -0.007862  0.000318  0.001640  "
     ]
    },
    {
     "name": "stdout",
     "output_type": "stream",
     "text": [
      "\n"
     ]
    },
    {
     "name": "stdout",
     "output_type": "stream",
     "text": [
      "                 XLB       XLE       XLF       XLI       XLK       XLP  \\\nDate                                                                     \n2009-04-30  0.027648 -0.016680 -0.013882  0.003683  0.002903 -0.004083   \n2009-05-29  0.029507  0.018553  0.018152  0.023848  0.010823  0.010872   \n2009-06-30 -0.009644 -0.006017 -0.009991 -0.010419 -0.007659 -0.007799   \n2009-07-31  0.010356  0.009727  0.010042  0.003776 -0.003547 -0.002037   \n2009-08-31 -0.013329 -0.019546 -0.003396 -0.011919 -0.012903  0.002017   \n2009-09-30 -0.006764 -0.006471 -0.004674 -0.010199  0.002879  0.001966   \n2009-10-30 -0.036477 -0.038698 -0.047943 -0.034587 -0.026809 -0.015749   \n2009-11-30  0.004626 -0.003514  0.026262  0.003277  0.001841 -0.003728   \n2009-12-31 -0.013847 -0.008037 -0.002081 -0.012516 -0.008684 -0.009775   \n2010-01-29 -0.016127 -0.018182 -0.007027 -0.010174 -0.017498 -0.003810   \n2010-02-26  0.000318  0.002318  0.006149  0.003821  0.001384 -0.004798   \n2010-03-31 -0.005000  0.004530  0.001883 -0.005745 -0.003026 -0.005713   \n\n                 XLU       XLV       XLY  \nDate                                      \n2009-04-30  0.000774 -0.000827  0.016887  \n2009-05-29  0.007123  0.017181  0.016572  \n2009-06-30 -0.007501 -0.008327 -0.007339  \n2009-07-31 -0.012704 -0.007863  0.000000  \n2009-08-31 -0.008517 -0.001745 -0.017055  \n2009-09-30 -0.006118 -0.007298 -0.005446  \n2009-10-30 -0.018842 -0.014501 -0.026492  \n2009-11-30  0.008436 -0.003579  0.000000  \n2009-12-31 -0.014402 -0.013428 -0.009361  \n2010-01-29 -0.006077 -0.007009 -0.006207  \n2010-02-26 -0.007862  0.000318  0.001640  \n2010-03-31 -0.002357 -0.003418 -0.007282  \n"
     ]
    },
    {
     "name": "stdout",
     "output_type": "stream",
     "text": [
      "                 XLB       XLE       XLF       XLI       XLK       XLP  \\\nDate                                                                     \n2009-05-29  0.029507  0.018553  0.018152  0.023848  0.010823  0.010872   \n2009-06-30 -0.009644 -0.006017 -0.009991 -0.010419 -0.007659 -0.007799   \n2009-07-31  0.010356  0.009727  0.010042  0.003776 -0.003547 -0.002037   \n2009-08-31 -0.013329 -0.019546 -0.003396 -0.011919 -0.012903  0.002017   \n2009-09-30 -0.006764 -0.006471 -0.004674 -0.010199  0.002879  0.001966   \n2009-10-30 -0.036477 -0.038698 -0.047943 -0.034587 -0.026809 -0.015749   \n2009-11-30  0.004626 -0.003514  0.026262  0.003277  0.001841 -0.003728   \n2009-12-31 -0.013847 -0.008037 -0.002081 -0.012516 -0.008684 -0.009775   \n2010-01-29 -0.016127 -0.018182 -0.007027 -0.010174 -0.017498 -0.003810   \n2010-02-26  0.000318  0.002318  0.006149  0.003821  0.001384 -0.004798   \n2010-03-31 -0.005000  0.004530  0.001883 -0.005745 -0.003026 -0.005713   \n2010-04-30 -0.017787 -0.012441 -0.024452 -0.023966 -0.021151 -0.005774   \n\n                 XLU       XLV       XLY  \nDate                                      \n2009-05-29  0.007123  0.017181  0.016572  \n2009-06-30 -0.007501 -0.008327 -0.007339  \n2009-07-31 -0.012704 -0.007863  0.000000  \n2009-08-31 -0.008517 -0.001745 -0.017055  \n2009-09-30 -0.006118 -0.007298 -0.005446  \n2009-10-30 -0.018842 -0.014501 -0.026492  \n2009-11-30  0.008436 -0.003579  0.000000  \n2009-12-31 -0.014402 -0.013428 -0.009361  \n2010-01-29 -0.006077 -0.007009 -0.006207  \n2010-02-26 -0.007862  0.000318  0.001640  \n2010-03-31 -0.002357 -0.003418 -0.007282  \n2010-04-30  0.003950 -0.012870 -0.021030  \n"
     ]
    },
    {
     "name": "stdout",
     "output_type": "stream",
     "text": [
      "                 XLB       XLE       XLF       XLI       XLK       XLP  \\\nDate                                                                     \n2009-06-30 -0.009644 -0.006017 -0.009991 -0.010419 -0.007659 -0.007799   \n2009-07-31  0.010356  0.009727  0.010042  0.003776 -0.003547 -0.002037   \n2009-08-31 -0.013329 -0.019546 -0.003396 -0.011919 -0.012903  0.002017   \n2009-09-30 -0.006764 -0.006471 -0.004674 -0.010199  0.002879  0.001966   \n2009-10-30 -0.036477 -0.038698 -0.047943 -0.034587 -0.026809 -0.015749   \n2009-11-30  0.004626 -0.003514  0.026262  0.003277  0.001841 -0.003728   \n2009-12-31 -0.013847 -0.008037 -0.002081 -0.012516 -0.008684 -0.009775   \n2010-01-29 -0.016127 -0.018182 -0.007027 -0.010174 -0.017498 -0.003810   \n2010-02-26  0.000318  0.002318  0.006149  0.003821  0.001384 -0.004798   \n2010-03-31 -0.005000  0.004530  0.001883 -0.005745 -0.003026 -0.005713   \n2010-04-30 -0.017787 -0.012441 -0.024452 -0.023966 -0.021151 -0.005774   \n2010-05-31 -0.017787 -0.012441 -0.024452 -0.023966 -0.021151 -0.005774   \n\n                 XLU       XLV       XLY  \nDate                                      \n2009-06-30 -0.007501 -0.008327 -0.007339  \n2009-07-31 -0.012704 -0.007863  0.000000  \n2009-08-31 -0.008517 -0.001745 -0.017055  \n2009-09-30 -0.006118 -0.007298 -0.005446  \n2009-10-30 -0.018842 -0.014501 -0.026492  \n2009-11-30  0.008436 -0.003579  0.000000  \n2009-12-31 -0.014402 -0.013428 -0.009361  \n2010-01-29 -0.006077 -0.007009 -0.006207  \n2010-02-26 -0.007862  0.000318  0.001640  \n2010-03-31 -0.002357 -0.003418 -0.007282  \n2010-04-30  0.003950 -0.012870 -0.021030  \n2010-05-31  0.003950 -0.012870 -0.021030  \n"
     ]
    },
    {
     "name": "stdout",
     "output_type": "stream",
     "text": [
      "                 XLB       XLE       XLF       XLI       XLK       XLP  \\\nDate                                                                     \n2009-07-31  0.010356  0.009727  0.010042  0.003776 -0.003547 -0.002037   \n2009-08-31 -0.013329 -0.019546 -0.003396 -0.011919 -0.012903  0.002017   \n2009-09-30 -0.006764 -0.006471 -0.004674 -0.010199  0.002879  0.001966   \n2009-10-30 -0.036477 -0.038698 -0.047943 -0.034587 -0.026809 -0.015749   \n2009-11-30  0.004626 -0.003514  0.026262  0.003277  0.001841 -0.003728   \n2009-12-31 -0.013847 -0.008037 -0.002081 -0.012516 -0.008684 -0.009775   \n2010-01-29 -0.016127 -0.018182 -0.007027 -0.010174 -0.017498 -0.003810   \n2010-02-26  0.000318  0.002318  0.006149  0.003821  0.001384 -0.004798   \n2010-03-31 -0.005000  0.004530  0.001883 -0.005745 -0.003026 -0.005713   \n2010-04-30 -0.017787 -0.012441 -0.024452 -0.023966 -0.021151 -0.005774   \n2010-05-31 -0.017787 -0.012441 -0.024452 -0.023966 -0.021151 -0.005774   \n2010-06-30 -0.010170 -0.007819 -0.012235 -0.006541 -0.015564 -0.007034   \n\n                 XLU       XLV       XLY  \nDate                                      \n2009-07-31 -0.012704 -0.007863  0.000000  \n2009-08-31 -0.008517 -0.001745 -0.017055  \n2009-09-30 -0.006118 -0.007298 -0.005446  \n2009-10-30 -0.018842 -0.014501 -0.026492  \n2009-11-30  0.008436 -0.003579  0.000000  \n2009-12-31 -0.014402 -0.013428 -0.009361  \n2010-01-29 -0.006077 -0.007009 -0.006207  \n2010-02-26 -0.007862  0.000318  0.001640  \n2010-03-31 -0.002357 -0.003418 -0.007282  \n2010-04-30  0.003950 -0.012870 -0.021030  \n2010-05-31  0.003950 -0.012870 -0.021030  \n2010-06-30 -0.006350 -0.008123 -0.012283  \n"
     ]
    },
    {
     "name": "stdout",
     "output_type": "stream",
     "text": [
      "                 XLB       XLE       XLF       XLI       XLK       XLP  \\\nDate                                                                     \n2009-08-31 -0.013329 -0.019546 -0.003396 -0.011919 -0.012903  0.002017   \n2009-09-30 -0.006764 -0.006471 -0.004674 -0.010199  0.002879  0.001966   \n2009-10-30 -0.036477 -0.038698 -0.047943 -0.034587 -0.026809 -0.015749   \n2009-11-30  0.004626 -0.003514  0.026262  0.003277  0.001841 -0.003728   \n2009-12-31 -0.013847 -0.008037 -0.002081 -0.012516 -0.008684 -0.009775   \n2010-01-29 -0.016127 -0.018182 -0.007027 -0.010174 -0.017498 -0.003810   \n2010-02-26  0.000318  0.002318  0.006149  0.003821  0.001384 -0.004798   \n2010-03-31 -0.005000  0.004530  0.001883 -0.005745 -0.003026 -0.005713   \n2010-04-30 -0.017787 -0.012441 -0.024452 -0.023966 -0.021151 -0.005774   \n2010-05-31 -0.017787 -0.012441 -0.024452 -0.023966 -0.021151 -0.005774   \n2010-06-30 -0.010170 -0.007819 -0.012235 -0.006541 -0.015564 -0.007034   \n2010-07-30  0.006268 -0.002041 -0.000680  0.003969 -0.004097  0.002598   \n\n                 XLU       XLV       XLY  \nDate                                      \n2009-08-31 -0.008517 -0.001745 -0.017055  \n2009-09-30 -0.006118 -0.007298 -0.005446  \n2009-10-30 -0.018842 -0.014501 -0.026492  \n2009-11-30  0.008436 -0.003579  0.000000  \n2009-12-31 -0.014402 -0.013428 -0.009361  \n2010-01-29 -0.006077 -0.007009 -0.006207  \n2010-02-26 -0.007862  0.000318  0.001640  \n2010-03-31 -0.002357 -0.003418 -0.007282  \n2010-04-30  0.003950 -0.012870 -0.021030  \n2010-05-31  0.003950 -0.012870 -0.021030  \n2010-06-30 -0.006350 -0.008123 -0.012283  \n2010-07-30 -0.004927  0.003858  0.006702  \n"
     ]
    },
    {
     "name": "stdout",
     "output_type": "stream",
     "text": [
      "                 XLB       XLE       XLF       XLI       XLK       XLP  \\\nDate                                                                     \n2009-09-30 -0.006764 -0.006471 -0.004674 -0.010199  0.002879  0.001966   \n2009-10-30 -0.036477 -0.038698 -0.047943 -0.034587 -0.026809 -0.015749   \n2009-11-30  0.004626 -0.003514  0.026262  0.003277  0.001841 -0.003728   \n2009-12-31 -0.013847 -0.008037 -0.002081 -0.012516 -0.008684 -0.009775   \n2010-01-29 -0.016127 -0.018182 -0.007027 -0.010174 -0.017498 -0.003810   \n2010-02-26  0.000318  0.002318  0.006149  0.003821  0.001384 -0.004798   \n2010-03-31 -0.005000  0.004530  0.001883 -0.005745 -0.003026 -0.005713   \n2010-04-30 -0.017787 -0.012441 -0.024452 -0.023966 -0.021151 -0.005774   \n2010-05-31 -0.017787 -0.012441 -0.024452 -0.023966 -0.021151 -0.005774   \n2010-06-30 -0.010170 -0.007819 -0.012235 -0.006541 -0.015564 -0.007034   \n2010-07-30  0.006268 -0.002041 -0.000680  0.003969 -0.004097  0.002598   \n2010-08-31  0.004197 -0.002731  0.008889 -0.003895 -0.003377  0.000755   \n\n                 XLU       XLV       XLY  \nDate                                      \n2009-09-30 -0.006118 -0.007298 -0.005446  \n2009-10-30 -0.018842 -0.014501 -0.026492  \n2009-11-30  0.008436 -0.003579  0.000000  \n2009-12-31 -0.014402 -0.013428 -0.009361  \n2010-01-29 -0.006077 -0.007009 -0.006207  \n2010-02-26 -0.007862  0.000318  0.001640  \n2010-03-31 -0.002357 -0.003418 -0.007282  \n2010-04-30  0.003950 -0.012870 -0.021030  \n2010-05-31  0.003950 -0.012870 -0.021030  \n2010-06-30 -0.006350 -0.008123 -0.012283  \n2010-07-30 -0.004927  0.003858  0.006702  \n2010-08-31  0.004555 -0.003907  0.001326  \n"
     ]
    },
    {
     "name": "stdout",
     "output_type": "stream",
     "text": [
      "                 XLB       XLE       XLF       XLI       XLK       XLP  \\\nDate                                                                     \n2009-10-30 -0.036477 -0.038698 -0.047943 -0.034587 -0.026809 -0.015749   \n2009-11-30  0.004626 -0.003514  0.026262  0.003277  0.001841 -0.003728   \n2009-12-31 -0.013847 -0.008037 -0.002081 -0.012516 -0.008684 -0.009775   \n2010-01-29 -0.016127 -0.018182 -0.007027 -0.010174 -0.017498 -0.003810   \n2010-02-26  0.000318  0.002318  0.006149  0.003821  0.001384 -0.004798   \n2010-03-31 -0.005000  0.004530  0.001883 -0.005745 -0.003026 -0.005713   \n2010-04-30 -0.017787 -0.012441 -0.024452 -0.023966 -0.021151 -0.005774   \n2010-05-31 -0.017787 -0.012441 -0.024452 -0.023966 -0.021151 -0.005774   \n2010-06-30 -0.010170 -0.007819 -0.012235 -0.006541 -0.015564 -0.007034   \n2010-07-30  0.006268 -0.002041 -0.000680  0.003969 -0.004097  0.002598   \n2010-08-31  0.004197 -0.002731  0.008889 -0.003895 -0.003377  0.000755   \n2010-09-30 -0.003958  0.000357 -0.001393 -0.003829 -0.003902 -0.003580   \n\n                 XLU       XLV       XLY  \nDate                                      \n2009-10-30 -0.018842 -0.014501 -0.026492  \n2009-11-30  0.008436 -0.003579  0.000000  \n2009-12-31 -0.014402 -0.013428 -0.009361  \n2010-01-29 -0.006077 -0.007009 -0.006207  \n2010-02-26 -0.007862  0.000318  0.001640  \n2010-03-31 -0.002357 -0.003418 -0.007282  \n2010-04-30  0.003950 -0.012870 -0.021030  \n2010-05-31  0.003950 -0.012870 -0.021030  \n2010-06-30 -0.006350 -0.008123 -0.012283  \n2010-07-30 -0.004927  0.003858  0.006702  \n2010-08-31  0.004555 -0.003907  0.001326  \n2010-09-30 -0.003182 -0.002621 -0.002690  \n"
     ]
    },
    {
     "name": "stdout",
     "output_type": "stream",
     "text": [
      "                 XLB       XLE       XLF       XLI       XLK       XLP  \\\nDate                                                                     \n2009-11-30  0.004626 -0.003514  0.026262  0.003277  0.001841 -0.003728   \n2009-12-31 -0.013847 -0.008037 -0.002081 -0.012516 -0.008684 -0.009775   \n2010-01-29 -0.016127 -0.018182 -0.007027 -0.010174 -0.017498 -0.003810   \n2010-02-26  0.000318  0.002318  0.006149  0.003821  0.001384 -0.004798   \n2010-03-31 -0.005000  0.004530  0.001883 -0.005745 -0.003026 -0.005713   \n2010-04-30 -0.017787 -0.012441 -0.024452 -0.023966 -0.021151 -0.005774   \n2010-05-31 -0.017787 -0.012441 -0.024452 -0.023966 -0.021151 -0.005774   \n2010-06-30 -0.010170 -0.007819 -0.012235 -0.006541 -0.015564 -0.007034   \n2010-07-30  0.006268 -0.002041 -0.000680  0.003969 -0.004097  0.002598   \n2010-08-31  0.004197 -0.002731  0.008889 -0.003895 -0.003377  0.000755   \n2010-09-30 -0.003958  0.000357 -0.001393 -0.003829 -0.003902 -0.003580   \n2010-10-29  0.008078  0.000676 -0.001373  0.001555  0.001644  0.003482   \n\n                 XLU       XLV       XLY  \nDate                                      \n2009-11-30  0.008436 -0.003579  0.000000  \n2009-12-31 -0.014402 -0.013428 -0.009361  \n2010-01-29 -0.006077 -0.007009 -0.006207  \n2010-02-26 -0.007862  0.000318  0.001640  \n2010-03-31 -0.002357 -0.003418 -0.007282  \n2010-04-30  0.003950 -0.012870 -0.021030  \n2010-05-31  0.003950 -0.012870 -0.021030  \n2010-06-30 -0.006350 -0.008123 -0.012283  \n2010-07-30 -0.004927  0.003858  0.006702  \n2010-08-31  0.004555 -0.003907  0.001326  \n2010-09-30 -0.003182 -0.002621 -0.002690  \n2010-10-29  0.001578 -0.004162 -0.000283  \n"
     ]
    },
    {
     "name": "stdout",
     "output_type": "stream",
     "text": [
      "                 XLB       XLE       XLF       XLI       XLK       XLP  \\\nDate                                                                     \n2009-12-31 -0.013847 -0.008037 -0.002081 -0.012516 -0.008684 -0.009775   \n2010-01-29 -0.016127 -0.018182 -0.007027 -0.010174 -0.017498 -0.003810   \n2010-02-26  0.000318  0.002318  0.006149  0.003821  0.001384 -0.004798   \n2010-03-31 -0.005000  0.004530  0.001883 -0.005745 -0.003026 -0.005713   \n2010-04-30 -0.017787 -0.012441 -0.024452 -0.023966 -0.021151 -0.005774   \n2010-05-31 -0.017787 -0.012441 -0.024452 -0.023966 -0.021151 -0.005774   \n2010-06-30 -0.010170 -0.007819 -0.012235 -0.006541 -0.015564 -0.007034   \n2010-07-30  0.006268 -0.002041 -0.000680  0.003969 -0.004097  0.002598   \n2010-08-31  0.004197 -0.002731  0.008889 -0.003895 -0.003377  0.000755   \n2010-09-30 -0.003958  0.000357 -0.001393 -0.003829 -0.003902 -0.003580   \n2010-10-29  0.008078  0.000676 -0.001373  0.001555  0.001644  0.003482   \n2010-11-30  0.000569 -0.003502 -0.005517 -0.002450 -0.009971 -0.004580   \n\n                 XLU       XLV       XLY  \nDate                                      \n2009-12-31 -0.014402 -0.013428 -0.009361  \n2010-01-29 -0.006077 -0.007009 -0.006207  \n2010-02-26 -0.007862  0.000318  0.001640  \n2010-03-31 -0.002357 -0.003418 -0.007282  \n2010-04-30  0.003950 -0.012870 -0.021030  \n2010-05-31  0.003950 -0.012870 -0.021030  \n2010-06-30 -0.006350 -0.008123 -0.012283  \n2010-07-30 -0.004927  0.003858  0.006702  \n2010-08-31  0.004555 -0.003907  0.001326  \n2010-09-30 -0.003182 -0.002621 -0.002690  \n2010-10-29  0.001578 -0.004162 -0.000283  \n2010-11-30 -0.001300 -0.009208 -0.002210  \n"
     ]
    },
    {
     "name": "stdout",
     "output_type": "stream",
     "text": [
      "                 XLB       XLE       XLF       XLI       XLK       XLP  \\\nDate                                                                     \n2010-01-29 -0.016127 -0.018182 -0.007027 -0.010174 -0.017498 -0.003810   \n2010-02-26  0.000318  0.002318  0.006149  0.003821  0.001384 -0.004798   \n2010-03-31 -0.005000  0.004530  0.001883 -0.005745 -0.003026 -0.005713   \n2010-04-30 -0.017787 -0.012441 -0.024452 -0.023966 -0.021151 -0.005774   \n2010-05-31 -0.017787 -0.012441 -0.024452 -0.023966 -0.021151 -0.005774   \n2010-06-30 -0.010170 -0.007819 -0.012235 -0.006541 -0.015564 -0.007034   \n2010-07-30  0.006268 -0.002041 -0.000680  0.003969 -0.004097  0.002598   \n2010-08-31  0.004197 -0.002731  0.008889 -0.003895 -0.003377  0.000755   \n2010-09-30 -0.003958  0.000357 -0.001393 -0.003829 -0.003902 -0.003580   \n2010-10-29  0.008078  0.000676 -0.001373  0.001555  0.001644  0.003482   \n2010-11-30  0.000569 -0.003502 -0.005517 -0.002450 -0.009971 -0.004580   \n2010-12-31 -0.000781  0.001466  0.001255  0.001148 -0.001190  0.000341   \n\n                 XLU       XLV       XLY  \nDate                                      \n2010-01-29 -0.006077 -0.007009 -0.006207  \n2010-02-26 -0.007862  0.000318  0.001640  \n2010-03-31 -0.002357 -0.003418 -0.007282  \n2010-04-30  0.003950 -0.012870 -0.021030  \n2010-05-31  0.003950 -0.012870 -0.021030  \n2010-06-30 -0.006350 -0.008123 -0.012283  \n2010-07-30 -0.004927  0.003858  0.006702  \n2010-08-31  0.004555 -0.003907  0.001326  \n2010-09-30 -0.003182 -0.002621 -0.002690  \n2010-10-29  0.001578 -0.004162 -0.000283  \n2010-11-30 -0.001300 -0.009208 -0.002210  \n2010-12-31  0.000319 -0.000317 -0.002136  \n"
     ]
    },
    {
     "name": "stdout",
     "output_type": "stream",
     "text": [
      "                 XLB       XLE       XLF       XLI       XLK       XLP  \\\nDate                                                                     \n2010-02-26  0.000318  0.002318  0.006149  0.003821  0.001384 -0.004798   \n2010-03-31 -0.005000  0.004530  0.001883 -0.005745 -0.003026 -0.005713   \n2010-04-30 -0.017787 -0.012441 -0.024452 -0.023966 -0.021151 -0.005774   \n2010-05-31 -0.017787 -0.012441 -0.024452 -0.023966 -0.021151 -0.005774   \n2010-06-30 -0.010170 -0.007819 -0.012235 -0.006541 -0.015564 -0.007034   \n2010-07-30  0.006268 -0.002041 -0.000680  0.003969 -0.004097  0.002598   \n2010-08-31  0.004197 -0.002731  0.008889 -0.003895 -0.003377  0.000755   \n2010-09-30 -0.003958  0.000357 -0.001393 -0.003829 -0.003902 -0.003580   \n2010-10-29  0.008078  0.000676 -0.001373  0.001555  0.001644  0.003482   \n2010-11-30  0.000569 -0.003502 -0.005517 -0.002450 -0.009971 -0.004580   \n2010-12-31 -0.000781  0.001466  0.001255  0.001148 -0.001190  0.000341   \n2011-01-31  0.016525  0.028284  0.009188  0.011378  0.006175 -0.003457   \n\n                 XLU       XLV       XLY  \nDate                                      \n2010-02-26 -0.007862  0.000318  0.001640  \n2010-03-31 -0.002357 -0.003418 -0.007282  \n2010-04-30  0.003950 -0.012870 -0.021030  \n2010-05-31  0.003950 -0.012870 -0.021030  \n2010-06-30 -0.006350 -0.008123 -0.012283  \n2010-07-30 -0.004927  0.003858  0.006702  \n2010-08-31  0.004555 -0.003907  0.001326  \n2010-09-30 -0.003182 -0.002621 -0.002690  \n2010-10-29  0.001578 -0.004162 -0.000283  \n2010-11-30 -0.001300 -0.009208 -0.002210  \n2010-12-31  0.000319 -0.000317 -0.002136  \n2011-01-31  0.002209  0.002212  0.002154  \n"
     ]
    },
    {
     "name": "stdout",
     "output_type": "stream",
     "text": [
      "                 XLB       XLE       XLF       XLI       XLK       XLP  \\\nDate                                                                     \n2010-03-31 -0.005000  0.004530  0.001883 -0.005745 -0.003026 -0.005713   \n2010-04-30 -0.017787 -0.012441 -0.024452 -0.023966 -0.021151 -0.005774   \n2010-05-31 -0.017787 -0.012441 -0.024452 -0.023966 -0.021151 -0.005774   \n2010-06-30 -0.010170 -0.007819 -0.012235 -0.006541 -0.015564 -0.007034   \n2010-07-30  0.006268 -0.002041 -0.000680  0.003969 -0.004097  0.002598   \n2010-08-31  0.004197 -0.002731  0.008889 -0.003895 -0.003377  0.000755   \n2010-09-30 -0.003958  0.000357 -0.001393 -0.003829 -0.003902 -0.003580   \n2010-10-29  0.008078  0.000676 -0.001373  0.001555  0.001644  0.003482   \n2010-11-30  0.000569 -0.003502 -0.005517 -0.002450 -0.009971 -0.004580   \n2010-12-31 -0.000781  0.001466  0.001255  0.001148 -0.001190  0.000341   \n2011-01-31  0.016525  0.028284  0.009188  0.011378  0.006175 -0.003457   \n2011-02-28  0.010701  0.007669  0.004759  0.004875  0.004150  0.005736   \n\n                 XLU       XLV       XLY  \nDate                                      \n2010-03-31 -0.002357 -0.003418 -0.007282  \n2010-04-30  0.003950 -0.012870 -0.021030  \n2010-05-31  0.003950 -0.012870 -0.021030  \n2010-06-30 -0.006350 -0.008123 -0.012283  \n2010-07-30 -0.004927  0.003858  0.006702  \n2010-08-31  0.004555 -0.003907  0.001326  \n2010-09-30 -0.003182 -0.002621 -0.002690  \n2010-10-29  0.001578 -0.004162 -0.000283  \n2010-11-30 -0.001300 -0.009208 -0.002210  \n2010-12-31  0.000319 -0.000317 -0.002136  \n2011-01-31  0.002209  0.002212  0.002154  \n2011-02-28  0.010960  0.011080  0.007642  \n"
     ]
    },
    {
     "name": "stdout",
     "output_type": "stream",
     "text": [
      "                 XLB       XLE       XLF       XLI       XLK       XLP  \\\nDate                                                                     \n2010-04-30 -0.017787 -0.012441 -0.024452 -0.023966 -0.021151 -0.005774   \n2010-05-31 -0.017787 -0.012441 -0.024452 -0.023966 -0.021151 -0.005774   \n2010-06-30 -0.010170 -0.007819 -0.012235 -0.006541 -0.015564 -0.007034   \n2010-07-30  0.006268 -0.002041 -0.000680  0.003969 -0.004097  0.002598   \n2010-08-31  0.004197 -0.002731  0.008889 -0.003895 -0.003377  0.000755   \n2010-09-30 -0.003958  0.000357 -0.001393 -0.003829 -0.003902 -0.003580   \n2010-10-29  0.008078  0.000676 -0.001373  0.001555  0.001644  0.003482   \n2010-11-30  0.000569 -0.003502 -0.005517 -0.002450 -0.009971 -0.004580   \n2010-12-31 -0.000781  0.001466  0.001255  0.001148 -0.001190  0.000341   \n2011-01-31  0.016525  0.028284  0.009188  0.011378  0.006175 -0.003457   \n2011-02-28  0.010701  0.007669  0.004759  0.004875  0.004150  0.005736   \n2011-03-31  0.003755 -0.003255 -0.003654  0.003990 -0.001917 -0.002003   \n\n                 XLU       XLV       XLY  \nDate                                      \n2010-04-30  0.003950 -0.012870 -0.021030  \n2010-05-31  0.003950 -0.012870 -0.021030  \n2010-06-30 -0.006350 -0.008123 -0.012283  \n2010-07-30 -0.004927  0.003858  0.006702  \n2010-08-31  0.004555 -0.003907  0.001326  \n2010-09-30 -0.003182 -0.002621 -0.002690  \n2010-10-29  0.001578 -0.004162 -0.000283  \n2010-11-30 -0.001300 -0.009208 -0.002210  \n2010-12-31  0.000319 -0.000317 -0.002136  \n2011-01-31  0.002209  0.002212  0.002154  \n2011-02-28  0.010960  0.011080  0.007642  \n2011-03-31 -0.002507  0.000604 -0.003579  \n"
     ]
    },
    {
     "name": "stdout",
     "output_type": "stream",
     "text": [
      "                 XLB       XLE       XLF       XLI       XLK       XLP  \\\nDate                                                                     \n2010-05-31 -0.017787 -0.012441 -0.024452 -0.023966 -0.021151 -0.005774   \n2010-06-30 -0.010170 -0.007819 -0.012235 -0.006541 -0.015564 -0.007034   \n2010-07-30  0.006268 -0.002041 -0.000680  0.003969 -0.004097  0.002598   \n2010-08-31  0.004197 -0.002731  0.008889 -0.003895 -0.003377  0.000755   \n2010-09-30 -0.003958  0.000357 -0.001393 -0.003829 -0.003902 -0.003580   \n2010-10-29  0.008078  0.000676 -0.001373  0.001555  0.001644  0.003482   \n2010-11-30  0.000569 -0.003502 -0.005517 -0.002450 -0.009971 -0.004580   \n2010-12-31 -0.000781  0.001466  0.001255  0.001148 -0.001190  0.000341   \n2011-01-31  0.016525  0.028284  0.009188  0.011378  0.006175 -0.003457   \n2011-02-28  0.010701  0.007669  0.004759  0.004875  0.004150  0.005736   \n2011-03-31  0.003755 -0.003255 -0.003654  0.003990 -0.001917 -0.002003   \n2011-04-29  0.003922  0.014770 -0.001830  0.004143 -0.000748  0.002859   \n\n                 XLU       XLV       XLY  \nDate                                      \n2010-05-31  0.003950 -0.012870 -0.021030  \n2010-06-30 -0.006350 -0.008123 -0.012283  \n2010-07-30 -0.004927  0.003858  0.006702  \n2010-08-31  0.004555 -0.003907  0.001326  \n2010-09-30 -0.003182 -0.002621 -0.002690  \n2010-10-29  0.001578 -0.004162 -0.000283  \n2010-11-30 -0.001300 -0.009208 -0.002210  \n2010-12-31  0.000319 -0.000317 -0.002136  \n2011-01-31  0.002209  0.002212  0.002154  \n2011-02-28  0.010960  0.011080  0.007642  \n2011-03-31 -0.002507  0.000604 -0.003579  \n2011-04-29  0.002114 -0.000567 -0.000740  \n"
     ]
    },
    {
     "name": "stdout",
     "output_type": "stream",
     "text": [
      "                 XLB       XLE       XLF       XLI       XLK       XLP  \\\nDate                                                                     \n2010-06-30 -0.010170 -0.007819 -0.012235 -0.006541 -0.015564 -0.007034   \n2010-07-30  0.006268 -0.002041 -0.000680  0.003969 -0.004097  0.002598   \n2010-08-31  0.004197 -0.002731  0.008889 -0.003895 -0.003377  0.000755   \n2010-09-30 -0.003958  0.000357 -0.001393 -0.003829 -0.003902 -0.003580   \n2010-10-29  0.008078  0.000676 -0.001373  0.001555  0.001644  0.003482   \n2010-11-30  0.000569 -0.003502 -0.005517 -0.002450 -0.009971 -0.004580   \n2010-12-31 -0.000781  0.001466  0.001255  0.001148 -0.001190  0.000341   \n2011-01-31  0.016525  0.028284  0.009188  0.011378  0.006175 -0.003457   \n2011-02-28  0.010701  0.007669  0.004759  0.004875  0.004150  0.005736   \n2011-03-31  0.003755 -0.003255 -0.003654  0.003990 -0.001917 -0.002003   \n2011-04-29  0.003922  0.014770 -0.001830  0.004143 -0.000748  0.002859   \n2011-05-31  0.010114  0.010036  0.010152  0.009076  0.013699  0.008392   \n\n                 XLU       XLV       XLY  \nDate                                      \n2010-06-30 -0.006350 -0.008123 -0.012283  \n2010-07-30 -0.004927  0.003858  0.006702  \n2010-08-31  0.004555 -0.003907  0.001326  \n2010-09-30 -0.003182 -0.002621 -0.002690  \n2010-10-29  0.001578 -0.004162 -0.000283  \n2010-11-30 -0.001300 -0.009208 -0.002210  \n2010-12-31  0.000319 -0.000317 -0.002136  \n2011-01-31  0.002209  0.002212  0.002154  \n2011-02-28  0.010960  0.011080  0.007642  \n2011-03-31 -0.002507  0.000604 -0.003579  \n2011-04-29  0.002114 -0.000567 -0.000740  \n2011-05-31  0.007409  0.011699  0.006948  \n"
     ]
    },
    {
     "name": "stdout",
     "output_type": "stream",
     "text": [
      "                 XLB       XLE       XLF       XLI       XLK       XLP  \\\nDate                                                                     \n2010-07-30  0.006268 -0.002041 -0.000680  0.003969 -0.004097  0.002598   \n2010-08-31  0.004197 -0.002731  0.008889 -0.003895 -0.003377  0.000755   \n2010-09-30 -0.003958  0.000357 -0.001393 -0.003829 -0.003902 -0.003580   \n2010-10-29  0.008078  0.000676 -0.001373  0.001555  0.001644  0.003482   \n2010-11-30  0.000569 -0.003502 -0.005517 -0.002450 -0.009971 -0.004580   \n2010-12-31 -0.000781  0.001466  0.001255  0.001148 -0.001190  0.000341   \n2011-01-31  0.016525  0.028284  0.009188  0.011378  0.006175 -0.003457   \n2011-02-28  0.010701  0.007669  0.004759  0.004875  0.004150  0.005736   \n2011-03-31  0.003755 -0.003255 -0.003654  0.003990 -0.001917 -0.002003   \n2011-04-29  0.003922  0.014770 -0.001830  0.004143 -0.000748  0.002859   \n2011-05-31  0.010114  0.010036  0.010152  0.009076  0.013699  0.008392   \n2011-06-30  0.012267  0.014706  0.003917  0.015697  0.012530  0.007714   \n\n                 XLU       XLV       XLY  \nDate                                      \n2010-07-30 -0.004927  0.003858  0.006702  \n2010-08-31  0.004555 -0.003907  0.001326  \n2010-09-30 -0.003182 -0.002621 -0.002690  \n2010-10-29  0.001578 -0.004162 -0.000283  \n2010-11-30 -0.001300 -0.009208 -0.002210  \n2010-12-31  0.000319 -0.000317 -0.002136  \n2011-01-31  0.002209  0.002212  0.002154  \n2011-02-28  0.010960  0.011080  0.007642  \n2011-03-31 -0.002507  0.000604 -0.003579  \n2011-04-29  0.002114 -0.000567 -0.000740  \n2011-05-31  0.007409  0.011699  0.006948  \n2011-06-30  0.002093  0.003100  0.007990  \n"
     ]
    },
    {
     "name": "stdout",
     "output_type": "stream",
     "text": [
      "                 XLB       XLE       XLF       XLI       XLK       XLP  \\\nDate                                                                     \n2010-08-31  0.004197 -0.002731  0.008889 -0.003895 -0.003377  0.000755   \n2010-09-30 -0.003958  0.000357 -0.001393 -0.003829 -0.003902 -0.003580   \n2010-10-29  0.008078  0.000676 -0.001373  0.001555  0.001644  0.003482   \n2010-11-30  0.000569 -0.003502 -0.005517 -0.002450 -0.009971 -0.004580   \n2010-12-31 -0.000781  0.001466  0.001255  0.001148 -0.001190  0.000341   \n2011-01-31  0.016525  0.028284  0.009188  0.011378  0.006175 -0.003457   \n2011-02-28  0.010701  0.007669  0.004759  0.004875  0.004150  0.005736   \n2011-03-31  0.003755 -0.003255 -0.003654  0.003990 -0.001917 -0.002003   \n2011-04-29  0.003922  0.014770 -0.001830  0.004143 -0.000748  0.002859   \n2011-05-31  0.010114  0.010036  0.010152  0.009076  0.013699  0.008392   \n2011-06-30  0.012267  0.014706  0.003917  0.015697  0.012530  0.007714   \n2011-07-29 -0.011249 -0.010022 -0.002699 -0.004890 -0.008103 -0.006466   \n\n                 XLU       XLV       XLY  \nDate                                      \n2010-08-31  0.004555 -0.003907  0.001326  \n2010-09-30 -0.003182 -0.002621 -0.002690  \n2010-10-29  0.001578 -0.004162 -0.000283  \n2010-11-30 -0.001300 -0.009208 -0.002210  \n2010-12-31  0.000319 -0.000317 -0.002136  \n2011-01-31  0.002209  0.002212  0.002154  \n2011-02-28  0.010960  0.011080  0.007642  \n2011-03-31 -0.002507  0.000604 -0.003579  \n2011-04-29  0.002114 -0.000567 -0.000740  \n2011-05-31  0.007409  0.011699  0.006948  \n2011-06-30  0.002093  0.003100  0.007990  \n2011-07-29 -0.010198 -0.005262 -0.004781  \n"
     ]
    },
    {
     "name": "stdout",
     "output_type": "stream",
     "text": [
      "                 XLB       XLE       XLF       XLI       XLK       XLP  \\\nDate                                                                     \n2010-09-30 -0.003958  0.000357 -0.001393 -0.003829 -0.003902 -0.003580   \n2010-10-29  0.008078  0.000676 -0.001373  0.001555  0.001644  0.003482   \n2010-11-30  0.000569 -0.003502 -0.005517 -0.002450 -0.009971 -0.004580   \n2010-12-31 -0.000781  0.001466  0.001255  0.001148 -0.001190  0.000341   \n2011-01-31  0.016525  0.028284  0.009188  0.011378  0.006175 -0.003457   \n2011-02-28  0.010701  0.007669  0.004759  0.004875  0.004150  0.005736   \n2011-03-31  0.003755 -0.003255 -0.003654  0.003990 -0.001917 -0.002003   \n2011-04-29  0.003922  0.014770 -0.001830  0.004143 -0.000748  0.002859   \n2011-05-31  0.010114  0.010036  0.010152  0.009076  0.013699  0.008392   \n2011-06-30  0.012267  0.014706  0.003917  0.015697  0.012530  0.007714   \n2011-07-29 -0.011249 -0.010022 -0.002699 -0.004890 -0.008103 -0.006466   \n2011-08-31  0.002550  0.007458  0.012787  0.006813 -0.002452  0.003243   \n\n                 XLU       XLV       XLY  \nDate                                      \n2010-09-30 -0.003182 -0.002621 -0.002690  \n2010-10-29  0.001578 -0.004162 -0.000283  \n2010-11-30 -0.001300 -0.009208 -0.002210  \n2010-12-31  0.000319 -0.000317 -0.002136  \n2011-01-31  0.002209  0.002212  0.002154  \n2011-02-28  0.010960  0.011080  0.007642  \n2011-03-31 -0.002507  0.000604 -0.003579  \n2011-04-29  0.002114 -0.000567 -0.000740  \n2011-05-31  0.007409  0.011699  0.006948  \n2011-06-30  0.002093  0.003100  0.007990  \n2011-07-29 -0.010198 -0.005262 -0.004781  \n2011-08-31  0.006513  0.006910  0.006141  \n"
     ]
    },
    {
     "name": "stdout",
     "output_type": "stream",
     "text": [
      "                 XLB       XLE       XLF       XLI       XLK       XLP  \\\nDate                                                                     \n2010-10-29  0.008078  0.000676 -0.001373  0.001555  0.001644  0.003482   \n2010-11-30  0.000569 -0.003502 -0.005517 -0.002450 -0.009971 -0.004580   \n2010-12-31 -0.000781  0.001466  0.001255  0.001148 -0.001190  0.000341   \n2011-01-31  0.016525  0.028284  0.009188  0.011378  0.006175 -0.003457   \n2011-02-28  0.010701  0.007669  0.004759  0.004875  0.004150  0.005736   \n2011-03-31  0.003755 -0.003255 -0.003654  0.003990 -0.001917 -0.002003   \n2011-04-29  0.003922  0.014770 -0.001830  0.004143 -0.000748  0.002859   \n2011-05-31  0.010114  0.010036  0.010152  0.009076  0.013699  0.008392   \n2011-06-30  0.012267  0.014706  0.003917  0.015697  0.012530  0.007714   \n2011-07-29 -0.011249 -0.010022 -0.002699 -0.004890 -0.008103 -0.006466   \n2011-08-31  0.002550  0.007458  0.012787  0.006813 -0.002452  0.003243   \n2011-09-30 -0.037437 -0.029803 -0.035762 -0.033982 -0.025519 -0.010397   \n\n                 XLU       XLV       XLY  \nDate                                      \n2010-10-29  0.001578 -0.004162 -0.000283  \n2010-11-30 -0.001300 -0.009208 -0.002210  \n2010-12-31  0.000319 -0.000317 -0.002136  \n2011-01-31  0.002209  0.002212  0.002154  \n2011-02-28  0.010960  0.011080  0.007642  \n2011-03-31 -0.002507  0.000604 -0.003579  \n2011-04-29  0.002114 -0.000567 -0.000740  \n2011-05-31  0.007409  0.011699  0.006948  \n2011-06-30  0.002093  0.003100  0.007990  \n2011-07-29 -0.010198 -0.005262 -0.004781  \n2011-08-31  0.006513  0.006910  0.006141  \n2011-09-30 -0.011240 -0.012839 -0.029119  \n"
     ]
    },
    {
     "name": "stdout",
     "output_type": "stream",
     "text": [
      "                 XLB       XLE       XLF       XLI       XLK       XLP  \\\nDate                                                                     \n2010-11-30  0.000569 -0.003502 -0.005517 -0.002450 -0.009971 -0.004580   \n2010-12-31 -0.000781  0.001466  0.001255  0.001148 -0.001190  0.000341   \n2011-01-31  0.016525  0.028284  0.009188  0.011378  0.006175 -0.003457   \n2011-02-28  0.010701  0.007669  0.004759  0.004875  0.004150  0.005736   \n2011-03-31  0.003755 -0.003255 -0.003654  0.003990 -0.001917 -0.002003   \n2011-04-29  0.003922  0.014770 -0.001830  0.004143 -0.000748  0.002859   \n2011-05-31  0.010114  0.010036  0.010152  0.009076  0.013699  0.008392   \n2011-06-30  0.012267  0.014706  0.003917  0.015697  0.012530  0.007714   \n2011-07-29 -0.011249 -0.010022 -0.002699 -0.004890 -0.008103 -0.006466   \n2011-08-31  0.002550  0.007458  0.012787  0.006813 -0.002452  0.003243   \n2011-09-30 -0.037437 -0.029803 -0.035762 -0.033982 -0.025519 -0.010397   \n2011-10-31 -0.043732 -0.046663 -0.039933 -0.024824 -0.017909 -0.015028   \n\n                 XLU       XLV       XLY  \nDate                                      \n2010-11-30 -0.001300 -0.009208 -0.002210  \n2010-12-31  0.000319 -0.000317 -0.002136  \n2011-01-31  0.002209  0.002212  0.002154  \n2011-02-28  0.010960  0.011080  0.007642  \n2011-03-31 -0.002507  0.000604 -0.003579  \n2011-04-29  0.002114 -0.000567 -0.000740  \n2011-05-31  0.007409  0.011699  0.006948  \n2011-06-30  0.002093  0.003100  0.007990  \n2011-07-29 -0.010198 -0.005262 -0.004781  \n2011-08-31  0.006513  0.006910  0.006141  \n2011-09-30 -0.011240 -0.012839 -0.029119  \n2011-10-31 -0.004580 -0.019183 -0.015513  \n"
     ]
    },
    {
     "name": "stdout",
     "output_type": "stream",
     "text": [
      "                 XLB       XLE       XLF       XLI       XLK       XLP  \\\nDate                                                                     \n2010-12-31 -0.000781  0.001466  0.001255  0.001148 -0.001190  0.000341   \n2011-01-31  0.016525  0.028284  0.009188  0.011378  0.006175 -0.003457   \n2011-02-28  0.010701  0.007669  0.004759  0.004875  0.004150  0.005736   \n2011-03-31  0.003755 -0.003255 -0.003654  0.003990 -0.001917 -0.002003   \n2011-04-29  0.003922  0.014770 -0.001830  0.004143 -0.000748  0.002859   \n2011-05-31  0.010114  0.010036  0.010152  0.009076  0.013699  0.008392   \n2011-06-30  0.012267  0.014706  0.003917  0.015697  0.012530  0.007714   \n2011-07-29 -0.011249 -0.010022 -0.002699 -0.004890 -0.008103 -0.006466   \n2011-08-31  0.002550  0.007458  0.012787  0.006813 -0.002452  0.003243   \n2011-09-30 -0.037437 -0.029803 -0.035762 -0.033982 -0.025519 -0.010397   \n2011-10-31 -0.043732 -0.046663 -0.039933 -0.024824 -0.017909 -0.015028   \n2011-11-30  0.055694  0.053621  0.059503  0.049912  0.037786  0.023150   \n\n                 XLU       XLV       XLY  \nDate                                      \n2010-12-31  0.000319 -0.000317 -0.002136  \n2011-01-31  0.002209  0.002212  0.002154  \n2011-02-28  0.010960  0.011080  0.007642  \n2011-03-31 -0.002507  0.000604 -0.003579  \n2011-04-29  0.002114 -0.000567 -0.000740  \n2011-05-31  0.007409  0.011699  0.006948  \n2011-06-30  0.002093  0.003100  0.007990  \n2011-07-29 -0.010198 -0.005262 -0.004781  \n2011-08-31  0.006513  0.006910  0.006141  \n2011-09-30 -0.011240 -0.012839 -0.029119  \n2011-10-31 -0.004580 -0.019183 -0.015513  \n2011-11-30  0.028520  0.035450  0.030667  \n"
     ]
    },
    {
     "name": "stdout",
     "output_type": "stream",
     "text": [
      "                 XLB       XLE       XLF       XLI       XLK       XLP  \\\nDate                                                                     \n2011-01-31  0.016525  0.028284  0.009188  0.011378  0.006175 -0.003457   \n2011-02-28  0.010701  0.007669  0.004759  0.004875  0.004150  0.005736   \n2011-03-31  0.003755 -0.003255 -0.003654  0.003990 -0.001917 -0.002003   \n2011-04-29  0.003922  0.014770 -0.001830  0.004143 -0.000748  0.002859   \n2011-05-31  0.010114  0.010036  0.010152  0.009076  0.013699  0.008392   \n2011-06-30  0.012267  0.014706  0.003917  0.015697  0.012530  0.007714   \n2011-07-29 -0.011249 -0.010022 -0.002699 -0.004890 -0.008103 -0.006466   \n2011-08-31  0.002550  0.007458  0.012787  0.006813 -0.002452  0.003243   \n2011-09-30 -0.037437 -0.029803 -0.035762 -0.033982 -0.025519 -0.010397   \n2011-10-31 -0.043732 -0.046663 -0.039933 -0.024824 -0.017909 -0.015028   \n2011-11-30  0.055694  0.053621  0.059503  0.049912  0.037786  0.023150   \n2011-12-30 -0.000597 -0.000434 -0.005370 -0.006203 -0.003139 -0.004606   \n\n                 XLU       XLV       XLY  \nDate                                      \n2011-01-31  0.002209  0.002212  0.002154  \n2011-02-28  0.010960  0.011080  0.007642  \n2011-03-31 -0.002507  0.000604 -0.003579  \n2011-04-29  0.002114 -0.000567 -0.000740  \n2011-05-31  0.007409  0.011699  0.006948  \n2011-06-30  0.002093  0.003100  0.007990  \n2011-07-29 -0.010198 -0.005262 -0.004781  \n2011-08-31  0.006513  0.006910  0.006141  \n2011-09-30 -0.011240 -0.012839 -0.029119  \n2011-10-31 -0.004580 -0.019183 -0.015513  \n2011-11-30  0.028520  0.035450  0.030667  \n2011-12-30 -0.007200 -0.001728 -0.006387  \n"
     ]
    },
    {
     "name": "stdout",
     "output_type": "stream",
     "text": [
      "                 XLB       XLE       XLF       XLI       XLK       XLP  \\\nDate                                                                     \n2011-02-28  0.010701  0.007669  0.004759  0.004875  0.004150  0.005736   \n2011-03-31  0.003755 -0.003255 -0.003654  0.003990 -0.001917 -0.002003   \n2011-04-29  0.003922  0.014770 -0.001830  0.004143 -0.000748  0.002859   \n2011-05-31  0.010114  0.010036  0.010152  0.009076  0.013699  0.008392   \n2011-06-30  0.012267  0.014706  0.003917  0.015697  0.012530  0.007714   \n2011-07-29 -0.011249 -0.010022 -0.002699 -0.004890 -0.008103 -0.006466   \n2011-08-31  0.002550  0.007458  0.012787  0.006813 -0.002452  0.003243   \n2011-09-30 -0.037437 -0.029803 -0.035762 -0.033982 -0.025519 -0.010397   \n2011-10-31 -0.043732 -0.046663 -0.039933 -0.024824 -0.017909 -0.015028   \n2011-11-30  0.055694  0.053621  0.059503  0.049912  0.037786  0.023150   \n2011-12-30 -0.000597 -0.000434 -0.005370 -0.006203 -0.003139 -0.004606   \n2012-01-31  0.001076 -0.006346  0.004277 -0.003033  0.001852  0.000625   \n\n                 XLU       XLV       XLY  \nDate                                      \n2011-02-28  0.010960  0.011080  0.007642  \n2011-03-31 -0.002507  0.000604 -0.003579  \n2011-04-29  0.002114 -0.000567 -0.000740  \n2011-05-31  0.007409  0.011699  0.006948  \n2011-06-30  0.002093  0.003100  0.007990  \n2011-07-29 -0.010198 -0.005262 -0.004781  \n2011-08-31  0.006513  0.006910  0.006141  \n2011-09-30 -0.011240 -0.012839 -0.029119  \n2011-10-31 -0.004580 -0.019183 -0.015513  \n2011-11-30  0.028520  0.035450  0.030667  \n2011-12-30 -0.007200 -0.001728 -0.006387  \n2012-01-31  0.004914  0.000838 -0.000242  \n"
     ]
    },
    {
     "name": "stdout",
     "output_type": "stream",
     "text": [
      "                 XLB       XLE       XLF       XLI       XLK       XLP  \\\nDate                                                                     \n2011-03-31  0.003755 -0.003255 -0.003654  0.003990 -0.001917 -0.002003   \n2011-04-29  0.003922  0.014770 -0.001830  0.004143 -0.000748  0.002859   \n2011-05-31  0.010114  0.010036  0.010152  0.009076  0.013699  0.008392   \n2011-06-30  0.012267  0.014706  0.003917  0.015697  0.012530  0.007714   \n2011-07-29 -0.011249 -0.010022 -0.002699 -0.004890 -0.008103 -0.006466   \n2011-08-31  0.002550  0.007458  0.012787  0.006813 -0.002452  0.003243   \n2011-09-30 -0.037437 -0.029803 -0.035762 -0.033982 -0.025519 -0.010397   \n2011-10-31 -0.043732 -0.046663 -0.039933 -0.024824 -0.017909 -0.015028   \n2011-11-30  0.055694  0.053621  0.059503  0.049912  0.037786  0.023150   \n2011-12-30 -0.000597 -0.000434 -0.005370 -0.006203 -0.003139 -0.004606   \n2012-01-31  0.001076 -0.006346  0.004277 -0.003033  0.001852  0.000625   \n2012-02-29 -0.019022 -0.011420 -0.004056 -0.006159 -0.004480  0.001808   \n\n                 XLU       XLV       XLY  \nDate                                      \n2011-03-31 -0.002507  0.000604 -0.003579  \n2011-04-29  0.002114 -0.000567 -0.000740  \n2011-05-31  0.007409  0.011699  0.006948  \n2011-06-30  0.002093  0.003100  0.007990  \n2011-07-29 -0.010198 -0.005262 -0.004781  \n2011-08-31  0.006513  0.006910  0.006141  \n2011-09-30 -0.011240 -0.012839 -0.029119  \n2011-10-31 -0.004580 -0.019183 -0.015513  \n2011-11-30  0.028520  0.035450  0.030667  \n2011-12-30 -0.007200 -0.001728 -0.006387  \n2012-01-31  0.004914  0.000838 -0.000242  \n2012-02-29 -0.000287 -0.006063 -0.003698  \n"
     ]
    },
    {
     "name": "stdout",
     "output_type": "stream",
     "text": [
      "                 XLB       XLE       XLF       XLI       XLK       XLP  \\\nDate                                                                     \n2011-04-29  0.003922  0.014770 -0.001830  0.004143 -0.000748  0.002859   \n2011-05-31  0.010114  0.010036  0.010152  0.009076  0.013699  0.008392   \n2011-06-30  0.012267  0.014706  0.003917  0.015697  0.012530  0.007714   \n2011-07-29 -0.011249 -0.010022 -0.002699 -0.004890 -0.008103 -0.006466   \n2011-08-31  0.002550  0.007458  0.012787  0.006813 -0.002452  0.003243   \n2011-09-30 -0.037437 -0.029803 -0.035762 -0.033982 -0.025519 -0.010397   \n2011-10-31 -0.043732 -0.046663 -0.039933 -0.024824 -0.017909 -0.015028   \n2011-11-30  0.055694  0.053621  0.059503  0.049912  0.037786  0.023150   \n2011-12-30 -0.000597 -0.000434 -0.005370 -0.006203 -0.003139 -0.004606   \n2012-01-31  0.001076 -0.006346  0.004277 -0.003033  0.001852  0.000625   \n2012-02-29 -0.019022 -0.011420 -0.004056 -0.006159 -0.004480  0.001808   \n2012-03-30  0.003523  0.008116  0.005713  0.004553 -0.002980  0.005886   \n\n                 XLU       XLV       XLY  \nDate                                      \n2011-04-29  0.002114 -0.000567 -0.000740  \n2011-05-31  0.007409  0.011699  0.006948  \n2011-06-30  0.002093  0.003100  0.007990  \n2011-07-29 -0.010198 -0.005262 -0.004781  \n2011-08-31  0.006513  0.006910  0.006141  \n2011-09-30 -0.011240 -0.012839 -0.029119  \n2011-10-31 -0.004580 -0.019183 -0.015513  \n2011-11-30  0.028520  0.035450  0.030667  \n2011-12-30 -0.007200 -0.001728 -0.006387  \n2012-01-31  0.004914  0.000838 -0.000242  \n2012-02-29 -0.000287 -0.006063 -0.003698  \n2012-03-30  0.005150  0.007473  0.004445  \n"
     ]
    },
    {
     "name": "stdout",
     "output_type": "stream",
     "text": [
      "                 XLB       XLE       XLF       XLI       XLK       XLP  \\\nDate                                                                     \n2011-05-31  0.010114  0.010036  0.010152  0.009076  0.013699  0.008392   \n2011-06-30  0.012267  0.014706  0.003917  0.015697  0.012530  0.007714   \n2011-07-29 -0.011249 -0.010022 -0.002699 -0.004890 -0.008103 -0.006466   \n2011-08-31  0.002550  0.007458  0.012787  0.006813 -0.002452  0.003243   \n2011-09-30 -0.037437 -0.029803 -0.035762 -0.033982 -0.025519 -0.010397   \n2011-10-31 -0.043732 -0.046663 -0.039933 -0.024824 -0.017909 -0.015028   \n2011-11-30  0.055694  0.053621  0.059503  0.049912  0.037786  0.023150   \n2011-12-30 -0.000597 -0.000434 -0.005370 -0.006203 -0.003139 -0.004606   \n2012-01-31  0.001076 -0.006346  0.004277 -0.003033  0.001852  0.000625   \n2012-02-29 -0.019022 -0.011420 -0.004056 -0.006159 -0.004480  0.001808   \n2012-03-30  0.003523  0.008116  0.005713  0.004553 -0.002980  0.005886   \n2012-04-30 -0.007065  0.006195 -0.005816 -0.009413 -0.007018 -0.002630   \n\n                 XLU       XLV       XLY  \nDate                                      \n2011-05-31  0.007409  0.011699  0.006948  \n2011-06-30  0.002093  0.003100  0.007990  \n2011-07-29 -0.010198 -0.005262 -0.004781  \n2011-08-31  0.006513  0.006910  0.006141  \n2011-09-30 -0.011240 -0.012839 -0.029119  \n2011-10-31 -0.004580 -0.019183 -0.015513  \n2011-11-30  0.028520  0.035450  0.030667  \n2011-12-30 -0.007200 -0.001728 -0.006387  \n2012-01-31  0.004914  0.000838 -0.000242  \n2012-02-29 -0.000287 -0.006063 -0.003698  \n2012-03-30  0.005150  0.007473  0.004445  \n2012-04-30  0.001403 -0.000533 -0.005684  \n"
     ]
    },
    {
     "name": "stdout",
     "output_type": "stream",
     "text": [
      "                 XLB       XLE       XLF       XLI       XLK       XLP  \\\nDate                                                                     \n2011-06-30  0.012267  0.014706  0.003917  0.015697  0.012530  0.007714   \n2011-07-29 -0.011249 -0.010022 -0.002699 -0.004890 -0.008103 -0.006466   \n2011-08-31  0.002550  0.007458  0.012787  0.006813 -0.002452  0.003243   \n2011-09-30 -0.037437 -0.029803 -0.035762 -0.033982 -0.025519 -0.010397   \n2011-10-31 -0.043732 -0.046663 -0.039933 -0.024824 -0.017909 -0.015028   \n2011-11-30  0.055694  0.053621  0.059503  0.049912  0.037786  0.023150   \n2011-12-30 -0.000597 -0.000434 -0.005370 -0.006203 -0.003139 -0.004606   \n2012-01-31  0.001076 -0.006346  0.004277 -0.003033  0.001852  0.000625   \n2012-02-29 -0.019022 -0.011420 -0.004056 -0.006159 -0.004480  0.001808   \n2012-03-30  0.003523  0.008116  0.005713  0.004553 -0.002980  0.005886   \n2012-04-30 -0.007065  0.006195 -0.005816 -0.009413 -0.007018 -0.002630   \n2012-05-31 -0.004131 -0.008762  0.008602 -0.003743 -0.004644 -0.002070   \n\n                 XLU       XLV       XLY  \nDate                                      \n2011-06-30  0.002093  0.003100  0.007990  \n2011-07-29 -0.010198 -0.005262 -0.004781  \n2011-08-31  0.006513  0.006910  0.006141  \n2011-09-30 -0.011240 -0.012839 -0.029119  \n2011-10-31 -0.004580 -0.019183 -0.015513  \n2011-11-30  0.028520  0.035450  0.030667  \n2011-12-30 -0.007200 -0.001728 -0.006387  \n2012-01-31  0.004914  0.000838 -0.000242  \n2012-02-29 -0.000287 -0.006063 -0.003698  \n2012-03-30  0.005150  0.007473  0.004445  \n2012-04-30  0.001403 -0.000533 -0.005684  \n2012-05-31  0.005313 -0.004967 -0.002086  \n"
     ]
    },
    {
     "name": "stdout",
     "output_type": "stream",
     "text": [
      "                 XLB       XLE       XLF       XLI       XLK       XLP  \\\nDate                                                                     \n2011-07-29 -0.011249 -0.010022 -0.002699 -0.004890 -0.008103 -0.006466   \n2011-08-31  0.002550  0.007458  0.012787  0.006813 -0.002452  0.003243   \n2011-09-30 -0.037437 -0.029803 -0.035762 -0.033982 -0.025519 -0.010397   \n2011-10-31 -0.043732 -0.046663 -0.039933 -0.024824 -0.017909 -0.015028   \n2011-11-30  0.055694  0.053621  0.059503  0.049912  0.037786  0.023150   \n2011-12-30 -0.000597 -0.000434 -0.005370 -0.006203 -0.003139 -0.004606   \n2012-01-31  0.001076 -0.006346  0.004277 -0.003033  0.001852  0.000625   \n2012-02-29 -0.019022 -0.011420 -0.004056 -0.006159 -0.004480  0.001808   \n2012-03-30  0.003523  0.008116  0.005713  0.004553 -0.002980  0.005886   \n2012-04-30 -0.007065  0.006195 -0.005816 -0.009413 -0.007018 -0.002630   \n2012-05-31 -0.004131 -0.008762  0.008602 -0.003743 -0.004644 -0.002070   \n2012-06-29  0.029621  0.029666  0.025598  0.034221  0.027524  0.018578   \n\n                 XLU       XLV       XLY  \nDate                                      \n2011-07-29 -0.010198 -0.005262 -0.004781  \n2011-08-31  0.006513  0.006910  0.006141  \n2011-09-30 -0.011240 -0.012839 -0.029119  \n2011-10-31 -0.004580 -0.019183 -0.015513  \n2011-11-30  0.028520  0.035450  0.030667  \n2011-12-30 -0.007200 -0.001728 -0.006387  \n2012-01-31  0.004914  0.000838 -0.000242  \n2012-02-29 -0.000287 -0.006063 -0.003698  \n2012-03-30  0.005150  0.007473  0.004445  \n2012-04-30  0.001403 -0.000533 -0.005684  \n2012-05-31  0.005313 -0.004967 -0.002086  \n2012-06-29  0.005694  0.018856  0.021004  \n"
     ]
    },
    {
     "name": "stdout",
     "output_type": "stream",
     "text": [
      "                 XLB       XLE       XLF       XLI       XLK       XLP  \\\nDate                                                                     \n2011-08-31  0.002550  0.007458  0.012787  0.006813 -0.002452  0.003243   \n2011-09-30 -0.037437 -0.029803 -0.035762 -0.033982 -0.025519 -0.010397   \n2011-10-31 -0.043732 -0.046663 -0.039933 -0.024824 -0.017909 -0.015028   \n2011-11-30  0.055694  0.053621  0.059503  0.049912  0.037786  0.023150   \n2011-12-30 -0.000597 -0.000434 -0.005370 -0.006203 -0.003139 -0.004606   \n2012-01-31  0.001076 -0.006346  0.004277 -0.003033  0.001852  0.000625   \n2012-02-29 -0.019022 -0.011420 -0.004056 -0.006159 -0.004480  0.001808   \n2012-03-30  0.003523  0.008116  0.005713  0.004553 -0.002980  0.005886   \n2012-04-30 -0.007065  0.006195 -0.005816 -0.009413 -0.007018 -0.002630   \n2012-05-31 -0.004131 -0.008762  0.008602 -0.003743 -0.004644 -0.002070   \n2012-06-29  0.029621  0.029666  0.025598  0.034221  0.027524  0.018578   \n2012-07-31 -0.006865 -0.010995 -0.004764 -0.002788  0.004110 -0.004481   \n\n                 XLU       XLV       XLY  \nDate                                      \n2011-08-31  0.006513  0.006910  0.006141  \n2011-09-30 -0.011240 -0.012839 -0.029119  \n2011-10-31 -0.004580 -0.019183 -0.015513  \n2011-11-30  0.028520  0.035450  0.030667  \n2011-12-30 -0.007200 -0.001728 -0.006387  \n2012-01-31  0.004914  0.000838 -0.000242  \n2012-02-29 -0.000287 -0.006063 -0.003698  \n2012-03-30  0.005150  0.007473  0.004445  \n2012-04-30  0.001403 -0.000533 -0.005684  \n2012-05-31  0.005313 -0.004967 -0.002086  \n2012-06-29  0.005694  0.018856  0.021004  \n2012-07-31 -0.008142 -0.006232 -0.013007  \n"
     ]
    },
    {
     "name": "stdout",
     "output_type": "stream",
     "text": [
      "                 XLB       XLE       XLF       XLI       XLK       XLP  \\\nDate                                                                     \n2011-09-30 -0.037437 -0.029803 -0.035762 -0.033982 -0.025519 -0.010397   \n2011-10-31 -0.043732 -0.046663 -0.039933 -0.024824 -0.017909 -0.015028   \n2011-11-30  0.055694  0.053621  0.059503  0.049912  0.037786  0.023150   \n2011-12-30 -0.000597 -0.000434 -0.005370 -0.006203 -0.003139 -0.004606   \n2012-01-31  0.001076 -0.006346  0.004277 -0.003033  0.001852  0.000625   \n2012-02-29 -0.019022 -0.011420 -0.004056 -0.006159 -0.004480  0.001808   \n2012-03-30  0.003523  0.008116  0.005713  0.004553 -0.002980  0.005886   \n2012-04-30 -0.007065  0.006195 -0.005816 -0.009413 -0.007018 -0.002630   \n2012-05-31 -0.004131 -0.008762  0.008602 -0.003743 -0.004644 -0.002070   \n2012-06-29  0.029621  0.029666  0.025598  0.034221  0.027524  0.018578   \n2012-07-31 -0.006865 -0.010995 -0.004764 -0.002788  0.004110 -0.004481   \n2012-08-31  0.009583  0.009976  0.007282  0.006069  0.007903  0.000282   \n\n                 XLU       XLV       XLY  \nDate                                      \n2011-09-30 -0.011240 -0.012839 -0.029119  \n2011-10-31 -0.004580 -0.019183 -0.015513  \n2011-11-30  0.028520  0.035450  0.030667  \n2011-12-30 -0.007200 -0.001728 -0.006387  \n2012-01-31  0.004914  0.000838 -0.000242  \n2012-02-29 -0.000287 -0.006063 -0.003698  \n2012-03-30  0.005150  0.007473  0.004445  \n2012-04-30  0.001403 -0.000533 -0.005684  \n2012-05-31  0.005313 -0.004967 -0.002086  \n2012-06-29  0.005694  0.018856  0.021004  \n2012-07-31 -0.008142 -0.006232 -0.013007  \n2012-08-31 -0.001100  0.003095  0.004180  \n"
     ]
    },
    {
     "name": "stdout",
     "output_type": "stream",
     "text": [
      "                 XLB       XLE       XLF       XLI       XLK       XLP  \\\nDate                                                                     \n2011-10-31 -0.043732 -0.046663 -0.039933 -0.024824 -0.017909 -0.015028   \n2011-11-30  0.055694  0.053621  0.059503  0.049912  0.037786  0.023150   \n2011-12-30 -0.000597 -0.000434 -0.005370 -0.006203 -0.003139 -0.004606   \n2012-01-31  0.001076 -0.006346  0.004277 -0.003033  0.001852  0.000625   \n2012-02-29 -0.019022 -0.011420 -0.004056 -0.006159 -0.004480  0.001808   \n2012-03-30  0.003523  0.008116  0.005713  0.004553 -0.002980  0.005886   \n2012-04-30 -0.007065  0.006195 -0.005816 -0.009413 -0.007018 -0.002630   \n2012-05-31 -0.004131 -0.008762  0.008602 -0.003743 -0.004644 -0.002070   \n2012-06-29  0.029621  0.029666  0.025598  0.034221  0.027524  0.018578   \n2012-07-31 -0.006865 -0.010995 -0.004764 -0.002788  0.004110 -0.004481   \n2012-08-31  0.009583  0.009976  0.007282  0.006069  0.007903  0.000282   \n2012-09-28 -0.005690 -0.004755 -0.003202 -0.004098 -0.007111 -0.003343   \n\n                 XLU       XLV       XLY  \nDate                                      \n2011-10-31 -0.004580 -0.019183 -0.015513  \n2011-11-30  0.028520  0.035450  0.030667  \n2011-12-30 -0.007200 -0.001728 -0.006387  \n2012-01-31  0.004914  0.000838 -0.000242  \n2012-02-29 -0.000287 -0.006063 -0.003698  \n2012-03-30  0.005150  0.007473  0.004445  \n2012-04-30  0.001403 -0.000533 -0.005684  \n2012-05-31  0.005313 -0.004967 -0.002086  \n2012-06-29  0.005694  0.018856  0.021004  \n2012-07-31 -0.008142 -0.006232 -0.013007  \n2012-08-31 -0.001100  0.003095  0.004180  \n2012-09-28  0.004683 -0.004228 -0.004265  \n"
     ]
    },
    {
     "name": "stdout",
     "output_type": "stream",
     "text": [
      "                 XLB       XLE       XLF       XLI       XLK       XLP  \\\nDate                                                                     \n2011-11-30  0.055694  0.053621  0.059503  0.049912  0.037786  0.023150   \n2011-12-30 -0.000597 -0.000434 -0.005370 -0.006203 -0.003139 -0.004606   \n2012-01-31  0.001076 -0.006346  0.004277 -0.003033  0.001852  0.000625   \n2012-02-29 -0.019022 -0.011420 -0.004056 -0.006159 -0.004480  0.001808   \n2012-03-30  0.003523  0.008116  0.005713  0.004553 -0.002980  0.005886   \n2012-04-30 -0.007065  0.006195 -0.005816 -0.009413 -0.007018 -0.002630   \n2012-05-31 -0.004131 -0.008762  0.008602 -0.003743 -0.004644 -0.002070   \n2012-06-29  0.029621  0.029666  0.025598  0.034221  0.027524  0.018578   \n2012-07-31 -0.006865 -0.010995 -0.004764 -0.002788  0.004110 -0.004481   \n2012-08-31  0.009583  0.009976  0.007282  0.006069  0.007903  0.000282   \n2012-09-28 -0.005690 -0.004755 -0.003202 -0.004098 -0.007111 -0.003343   \n2012-10-31 -0.002218 -0.000278  0.006309  0.004669 -0.004148  0.001131   \n\n                 XLU       XLV       XLY  \nDate                                      \n2011-11-30  0.028520  0.035450  0.030667  \n2011-12-30 -0.007200 -0.001728 -0.006387  \n2012-01-31  0.004914  0.000838 -0.000242  \n2012-02-29 -0.000287 -0.006063 -0.003698  \n2012-03-30  0.005150  0.007473  0.004445  \n2012-04-30  0.001403 -0.000533 -0.005684  \n2012-05-31  0.005313 -0.004967 -0.002086  \n2012-06-29  0.005694  0.018856  0.021004  \n2012-07-31 -0.008142 -0.006232 -0.013007  \n2012-08-31 -0.001100  0.003095  0.004180  \n2012-09-28  0.004683 -0.004228 -0.004265  \n2012-10-31  0.008710 -0.007218  0.003261  \n"
     ]
    },
    {
     "name": "stdout",
     "output_type": "stream",
     "text": [
      "                 XLB       XLE       XLF       XLI       XLK       XLP  \\\nDate                                                                     \n2011-12-30 -0.000597 -0.000434 -0.005370 -0.006203 -0.003139 -0.004606   \n2012-01-31  0.001076 -0.006346  0.004277 -0.003033  0.001852  0.000625   \n2012-02-29 -0.019022 -0.011420 -0.004056 -0.006159 -0.004480  0.001808   \n2012-03-30  0.003523  0.008116  0.005713  0.004553 -0.002980  0.005886   \n2012-04-30 -0.007065  0.006195 -0.005816 -0.009413 -0.007018 -0.002630   \n2012-05-31 -0.004131 -0.008762  0.008602 -0.003743 -0.004644 -0.002070   \n2012-06-29  0.029621  0.029666  0.025598  0.034221  0.027524  0.018578   \n2012-07-31 -0.006865 -0.010995 -0.004764 -0.002788  0.004110 -0.004481   \n2012-08-31  0.009583  0.009976  0.007282  0.006069  0.007903  0.000282   \n2012-09-28 -0.005690 -0.004755 -0.003202 -0.004098 -0.007111 -0.003343   \n2012-10-31 -0.002218 -0.000278  0.006309  0.004669 -0.004148  0.001131   \n2012-11-30  0.000818 -0.000844 -0.001269 -0.002152 -0.001029  0.003614   \n\n                 XLU       XLV       XLY  \nDate                                      \n2011-12-30 -0.007200 -0.001728 -0.006387  \n2012-01-31  0.004914  0.000838 -0.000242  \n2012-02-29 -0.000287 -0.006063 -0.003698  \n2012-03-30  0.005150  0.007473  0.004445  \n2012-04-30  0.001403 -0.000533 -0.005684  \n2012-05-31  0.005313 -0.004967 -0.002086  \n2012-06-29  0.005694  0.018856  0.021004  \n2012-07-31 -0.008142 -0.006232 -0.013007  \n2012-08-31 -0.001100  0.003095  0.004180  \n2012-09-28  0.004683 -0.004228 -0.004265  \n2012-10-31  0.008710 -0.007218  0.003261  \n2012-11-30  0.010531  0.001244  0.000842  \n"
     ]
    },
    {
     "name": "stdout",
     "output_type": "stream",
     "text": [
      "                 XLB       XLE       XLF       XLI       XLK       XLP  \\\nDate                                                                     \n2012-01-31  0.001076 -0.006346  0.004277 -0.003033  0.001852  0.000625   \n2012-02-29 -0.019022 -0.011420 -0.004056 -0.006159 -0.004480  0.001808   \n2012-03-30  0.003523  0.008116  0.005713  0.004553 -0.002980  0.005886   \n2012-04-30 -0.007065  0.006195 -0.005816 -0.009413 -0.007018 -0.002630   \n2012-05-31 -0.004131 -0.008762  0.008602 -0.003743 -0.004644 -0.002070   \n2012-06-29  0.029621  0.029666  0.025598  0.034221  0.027524  0.018578   \n2012-07-31 -0.006865 -0.010995 -0.004764 -0.002788  0.004110 -0.004481   \n2012-08-31  0.009583  0.009976  0.007282  0.006069  0.007903  0.000282   \n2012-09-28 -0.005690 -0.004755 -0.003202 -0.004098 -0.007111 -0.003343   \n2012-10-31 -0.002218 -0.000278  0.006309  0.004669 -0.004148  0.001131   \n2012-11-30  0.000818 -0.000844 -0.001269 -0.002152 -0.001029  0.003614   \n2012-12-31  0.019366  0.022514  0.012895  0.018105  0.017130  0.012978   \n\n                 XLU       XLV       XLY  \nDate                                      \n2012-01-31  0.004914  0.000838 -0.000242  \n2012-02-29 -0.000287 -0.006063 -0.003698  \n2012-03-30  0.005150  0.007473  0.004445  \n2012-04-30  0.001403 -0.000533 -0.005684  \n2012-05-31  0.005313 -0.004967 -0.002086  \n2012-06-29  0.005694  0.018856  0.021004  \n2012-07-31 -0.008142 -0.006232 -0.013007  \n2012-08-31 -0.001100  0.003095  0.004180  \n2012-09-28  0.004683 -0.004228 -0.004265  \n2012-10-31  0.008710 -0.007218  0.003261  \n2012-11-30  0.010531  0.001244  0.000842  \n2012-12-31  0.013551  0.010588  0.019799  \n"
     ]
    },
    {
     "name": "stdout",
     "output_type": "stream",
     "text": [
      "                 XLB       XLE       XLF       XLI       XLK       XLP  \\\nDate                                                                     \n2012-02-29 -0.019022 -0.011420 -0.004056 -0.006159 -0.004480  0.001808   \n2012-03-30  0.003523  0.008116  0.005713  0.004553 -0.002980  0.005886   \n2012-04-30 -0.007065  0.006195 -0.005816 -0.009413 -0.007018 -0.002630   \n2012-05-31 -0.004131 -0.008762  0.008602 -0.003743 -0.004644 -0.002070   \n2012-06-29  0.029621  0.029666  0.025598  0.034221  0.027524  0.018578   \n2012-07-31 -0.006865 -0.010995 -0.004764 -0.002788  0.004110 -0.004481   \n2012-08-31  0.009583  0.009976  0.007282  0.006069  0.007903  0.000282   \n2012-09-28 -0.005690 -0.004755 -0.003202 -0.004098 -0.007111 -0.003343   \n2012-10-31 -0.002218 -0.000278  0.006309  0.004669 -0.004148  0.001131   \n2012-11-30  0.000818 -0.000844 -0.001269 -0.002152 -0.001029  0.003614   \n2012-12-31  0.019366  0.022514  0.012895  0.018105  0.017130  0.012978   \n2013-01-31 -0.009184 -0.003356 -0.000575 -0.003487  0.001702 -0.001355   \n\n                 XLU       XLV       XLY  \nDate                                      \n2012-02-29 -0.000287 -0.006063 -0.003698  \n2012-03-30  0.005150  0.007473  0.004445  \n2012-04-30  0.001403 -0.000533 -0.005684  \n2012-05-31  0.005313 -0.004967 -0.002086  \n2012-06-29  0.005694  0.018856  0.021004  \n2012-07-31 -0.008142 -0.006232 -0.013007  \n2012-08-31 -0.001100  0.003095  0.004180  \n2012-09-28  0.004683 -0.004228 -0.004265  \n2012-10-31  0.008710 -0.007218  0.003261  \n2012-11-30  0.010531  0.001244  0.000842  \n2012-12-31  0.013551  0.010588  0.019799  \n2013-01-31  0.002463 -0.002793 -0.004776  \n"
     ]
    },
    {
     "name": "stdout",
     "output_type": "stream",
     "text": [
      "                 XLB       XLE       XLF       XLI       XLK       XLP  \\\nDate                                                                     \n2012-03-30  0.003523  0.008116  0.005713  0.004553 -0.002980  0.005886   \n2012-04-30 -0.007065  0.006195 -0.005816 -0.009413 -0.007018 -0.002630   \n2012-05-31 -0.004131 -0.008762  0.008602 -0.003743 -0.004644 -0.002070   \n2012-06-29  0.029621  0.029666  0.025598  0.034221  0.027524  0.018578   \n2012-07-31 -0.006865 -0.010995 -0.004764 -0.002788  0.004110 -0.004481   \n2012-08-31  0.009583  0.009976  0.007282  0.006069  0.007903  0.000282   \n2012-09-28 -0.005690 -0.004755 -0.003202 -0.004098 -0.007111 -0.003343   \n2012-10-31 -0.002218 -0.000278  0.006309  0.004669 -0.004148  0.001131   \n2012-11-30  0.000818 -0.000844 -0.001269 -0.002152 -0.001029  0.003614   \n2012-12-31  0.019366  0.022514  0.012895  0.018105  0.017130  0.012978   \n2013-01-31 -0.009184 -0.003356 -0.000575 -0.003487  0.001702 -0.001355   \n2013-02-28  0.001820 -0.002057 -0.001704 -0.000732 -0.002023 -0.000525   \n\n                 XLU       XLV       XLY  \nDate                                      \n2012-03-30  0.005150  0.007473  0.004445  \n2012-04-30  0.001403 -0.000533 -0.005684  \n2012-05-31  0.005313 -0.004967 -0.002086  \n2012-06-29  0.005694  0.018856  0.021004  \n2012-07-31 -0.008142 -0.006232 -0.013007  \n2012-08-31 -0.001100  0.003095  0.004180  \n2012-09-28  0.004683 -0.004228 -0.004265  \n2012-10-31  0.008710 -0.007218  0.003261  \n2012-11-30  0.010531  0.001244  0.000842  \n2012-12-31  0.013551  0.010588  0.019799  \n2013-01-31  0.002463 -0.002793 -0.004776  \n2013-02-28  0.003479 -0.000920  0.004921  \n"
     ]
    },
    {
     "name": "stdout",
     "output_type": "stream",
     "text": [
      "                 XLB       XLE       XLF       XLI       XLK       XLP  \\\nDate                                                                     \n2012-04-30 -0.007065  0.006195 -0.005816 -0.009413 -0.007018 -0.002630   \n2012-05-31 -0.004131 -0.008762  0.008602 -0.003743 -0.004644 -0.002070   \n2012-06-29  0.029621  0.029666  0.025598  0.034221  0.027524  0.018578   \n2012-07-31 -0.006865 -0.010995 -0.004764 -0.002788  0.004110 -0.004481   \n2012-08-31  0.009583  0.009976  0.007282  0.006069  0.007903  0.000282   \n2012-09-28 -0.005690 -0.004755 -0.003202 -0.004098 -0.007111 -0.003343   \n2012-10-31 -0.002218 -0.000278  0.006309  0.004669 -0.004148  0.001131   \n2012-11-30  0.000818 -0.000844 -0.001269 -0.002152 -0.001029  0.003614   \n2012-12-31  0.019366  0.022514  0.012895  0.018105  0.017130  0.012978   \n2013-01-31 -0.009184 -0.003356 -0.000575 -0.003487  0.001702 -0.001355   \n2013-02-28  0.001820 -0.002057 -0.001704 -0.000732 -0.002023 -0.000525   \n2013-03-29  0.001820 -0.002057 -0.001704 -0.000732 -0.002023 -0.000525   \n\n                 XLU       XLV       XLY  \nDate                                      \n2012-04-30  0.001403 -0.000533 -0.005684  \n2012-05-31  0.005313 -0.004967 -0.002086  \n2012-06-29  0.005694  0.018856  0.021004  \n2012-07-31 -0.008142 -0.006232 -0.013007  \n2012-08-31 -0.001100  0.003095  0.004180  \n2012-09-28  0.004683 -0.004228 -0.004265  \n2012-10-31  0.008710 -0.007218  0.003261  \n2012-11-30  0.010531  0.001244  0.000842  \n2012-12-31  0.013551  0.010588  0.019799  \n2013-01-31  0.002463 -0.002793 -0.004776  \n2013-02-28  0.003479 -0.000920  0.004921  \n2013-03-29  0.003479 -0.000920  0.004921  \n"
     ]
    },
    {
     "name": "stdout",
     "output_type": "stream",
     "text": [
      "                 XLB       XLE       XLF       XLI       XLK       XLP  \\\nDate                                                                     \n2012-05-31 -0.004131 -0.008762  0.008602 -0.003743 -0.004644 -0.002070   \n2012-06-29  0.029621  0.029666  0.025598  0.034221  0.027524  0.018578   \n2012-07-31 -0.006865 -0.010995 -0.004764 -0.002788  0.004110 -0.004481   \n2012-08-31  0.009583  0.009976  0.007282  0.006069  0.007903  0.000282   \n2012-09-28 -0.005690 -0.004755 -0.003202 -0.004098 -0.007111 -0.003343   \n2012-10-31 -0.002218 -0.000278  0.006309  0.004669 -0.004148  0.001131   \n2012-11-30  0.000818 -0.000844 -0.001269 -0.002152 -0.001029  0.003614   \n2012-12-31  0.019366  0.022514  0.012895  0.018105  0.017130  0.012978   \n2013-01-31 -0.009184 -0.003356 -0.000575 -0.003487  0.001702 -0.001355   \n2013-02-28  0.001820 -0.002057 -0.001704 -0.000732 -0.002023 -0.000525   \n2013-03-29  0.001820 -0.002057 -0.001704 -0.000732 -0.002023 -0.000525   \n2013-04-30  0.001518  0.003969  0.002677  0.000241  0.010772 -0.001952   \n\n                 XLU       XLV       XLY  \nDate                                      \n2012-05-31  0.005313 -0.004967 -0.002086  \n2012-06-29  0.005694  0.018856  0.021004  \n2012-07-31 -0.008142 -0.006232 -0.013007  \n2012-08-31 -0.001100  0.003095  0.004180  \n2012-09-28  0.004683 -0.004228 -0.004265  \n2012-10-31  0.008710 -0.007218  0.003261  \n2012-11-30  0.010531  0.001244  0.000842  \n2012-12-31  0.013551  0.010588  0.019799  \n2013-01-31  0.002463 -0.002793 -0.004776  \n2013-02-28  0.003479 -0.000920  0.004921  \n2013-03-29  0.003479 -0.000920  0.004921  \n2013-04-30  0.002659 -0.007578  0.002751  \n"
     ]
    },
    {
     "name": "stdout",
     "output_type": "stream",
     "text": [
      "                 XLB       XLE       XLF       XLI       XLK       XLP  \\\nDate                                                                     \n2012-06-29  0.029621  0.029666  0.025598  0.034221  0.027524  0.018578   \n2012-07-31 -0.006865 -0.010995 -0.004764 -0.002788  0.004110 -0.004481   \n2012-08-31  0.009583  0.009976  0.007282  0.006069  0.007903  0.000282   \n2012-09-28 -0.005690 -0.004755 -0.003202 -0.004098 -0.007111 -0.003343   \n2012-10-31 -0.002218 -0.000278  0.006309  0.004669 -0.004148  0.001131   \n2012-11-30  0.000818 -0.000844 -0.001269 -0.002152 -0.001029  0.003614   \n2012-12-31  0.019366  0.022514  0.012895  0.018105  0.017130  0.012978   \n2013-01-31 -0.009184 -0.003356 -0.000575 -0.003487  0.001702 -0.001355   \n2013-02-28  0.001820 -0.002057 -0.001704 -0.000732 -0.002023 -0.000525   \n2013-03-29  0.001820 -0.002057 -0.001704 -0.000732 -0.002023 -0.000525   \n2013-04-30  0.001518  0.003969  0.002677  0.000241  0.010772 -0.001952   \n2013-05-31 -0.015756 -0.020898 -0.016496 -0.009602 -0.009431 -0.018798   \n\n                 XLU       XLV       XLY  \nDate                                      \n2012-06-29  0.005694  0.018856  0.021004  \n2012-07-31 -0.008142 -0.006232 -0.013007  \n2012-08-31 -0.001100  0.003095  0.004180  \n2012-09-28  0.004683 -0.004228 -0.004265  \n2012-10-31  0.008710 -0.007218  0.003261  \n2012-11-30  0.010531  0.001244  0.000842  \n2012-12-31  0.013551  0.010588  0.019799  \n2013-01-31  0.002463 -0.002793 -0.004776  \n2013-02-28  0.003479 -0.000920  0.004921  \n2013-03-29  0.003479 -0.000920  0.004921  \n2013-04-30  0.002659 -0.007578  0.002751  \n2013-05-31 -0.006086 -0.022200 -0.011340  \n"
     ]
    },
    {
     "name": "stdout",
     "output_type": "stream",
     "text": [
      "                 XLB       XLE       XLF       XLI       XLK       XLP  \\\nDate                                                                     \n2012-07-31 -0.006865 -0.010995 -0.004764 -0.002788  0.004110 -0.004481   \n2012-08-31  0.009583  0.009976  0.007282  0.006069  0.007903  0.000282   \n2012-09-28 -0.005690 -0.004755 -0.003202 -0.004098 -0.007111 -0.003343   \n2012-10-31 -0.002218 -0.000278  0.006309  0.004669 -0.004148  0.001131   \n2012-11-30  0.000818 -0.000844 -0.001269 -0.002152 -0.001029  0.003614   \n2012-12-31  0.019366  0.022514  0.012895  0.018105  0.017130  0.012978   \n2013-01-31 -0.009184 -0.003356 -0.000575 -0.003487  0.001702 -0.001355   \n2013-02-28  0.001820 -0.002057 -0.001704 -0.000732 -0.002023 -0.000525   \n2013-03-29  0.001820 -0.002057 -0.001704 -0.000732 -0.002023 -0.000525   \n2013-04-30  0.001518  0.003969  0.002677  0.000241  0.010772 -0.001952   \n2013-05-31 -0.015756 -0.020898 -0.016496 -0.009602 -0.009431 -0.018798   \n2013-06-28 -0.005461 -0.004206 -0.006151 -0.005846 -0.004241 -0.006282   \n\n                 XLU       XLV       XLY  \nDate                                      \n2012-07-31 -0.008142 -0.006232 -0.013007  \n2012-08-31 -0.001100  0.003095  0.004180  \n2012-09-28  0.004683 -0.004228 -0.004265  \n2012-10-31  0.008710 -0.007218  0.003261  \n2012-11-30  0.010531  0.001244  0.000842  \n2012-12-31  0.013551  0.010588  0.019799  \n2013-01-31  0.002463 -0.002793 -0.004776  \n2013-02-28  0.003479 -0.000920  0.004921  \n2013-03-29  0.003479 -0.000920  0.004921  \n2013-04-30  0.002659 -0.007578  0.002751  \n2013-05-31 -0.006086 -0.022200 -0.011340  \n2013-06-28  0.002394 -0.007741  0.003552  \n"
     ]
    },
    {
     "name": "stdout",
     "output_type": "stream",
     "text": [
      "                 XLB       XLE       XLF       XLI       XLK       XLP  \\\nDate                                                                     \n2012-08-31  0.009583  0.009976  0.007282  0.006069  0.007903  0.000282   \n2012-09-28 -0.005690 -0.004755 -0.003202 -0.004098 -0.007111 -0.003343   \n2012-10-31 -0.002218 -0.000278  0.006309  0.004669 -0.004148  0.001131   \n2012-11-30  0.000818 -0.000844 -0.001269 -0.002152 -0.001029  0.003614   \n2012-12-31  0.019366  0.022514  0.012895  0.018105  0.017130  0.012978   \n2013-01-31 -0.009184 -0.003356 -0.000575 -0.003487  0.001702 -0.001355   \n2013-02-28  0.001820 -0.002057 -0.001704 -0.000732 -0.002023 -0.000525   \n2013-03-29  0.001820 -0.002057 -0.001704 -0.000732 -0.002023 -0.000525   \n2013-04-30  0.001518  0.003969  0.002677  0.000241  0.010772 -0.001952   \n2013-05-31 -0.015756 -0.020898 -0.016496 -0.009602 -0.009431 -0.018798   \n2013-06-28 -0.005461 -0.004206 -0.006151 -0.005846 -0.004241 -0.006282   \n2013-07-31 -0.003453  0.003281  0.000488  0.003549 -0.003461 -0.000241   \n\n                 XLU       XLV       XLY  \nDate                                      \n2012-08-31 -0.001100  0.003095  0.004180  \n2012-09-28  0.004683 -0.004228 -0.004265  \n2012-10-31  0.008710 -0.007218  0.003261  \n2012-11-30  0.010531  0.001244  0.000842  \n2012-12-31  0.013551  0.010588  0.019799  \n2013-01-31  0.002463 -0.002793 -0.004776  \n2013-02-28  0.003479 -0.000920  0.004921  \n2013-03-29  0.003479 -0.000920  0.004921  \n2013-04-30  0.002659 -0.007578  0.002751  \n2013-05-31 -0.006086 -0.022200 -0.011340  \n2013-06-28  0.002394 -0.007741  0.003552  \n2013-07-31 -0.007359  0.000392  0.005235  \n"
     ]
    },
    {
     "name": "stdout",
     "output_type": "stream",
     "text": [
      "                 XLB       XLE       XLF       XLI       XLK       XLP  \\\nDate                                                                     \n2012-09-28 -0.005690 -0.004755 -0.003202 -0.004098 -0.007111 -0.003343   \n2012-10-31 -0.002218 -0.000278  0.006309  0.004669 -0.004148  0.001131   \n2012-11-30  0.000818 -0.000844 -0.001269 -0.002152 -0.001029  0.003614   \n2012-12-31  0.019366  0.022514  0.012895  0.018105  0.017130  0.012978   \n2013-01-31 -0.009184 -0.003356 -0.000575 -0.003487  0.001702 -0.001355   \n2013-02-28  0.001820 -0.002057 -0.001704 -0.000732 -0.002023 -0.000525   \n2013-03-29  0.001820 -0.002057 -0.001704 -0.000732 -0.002023 -0.000525   \n2013-04-30  0.001518  0.003969  0.002677  0.000241  0.010772 -0.001952   \n2013-05-31 -0.015756 -0.020898 -0.016496 -0.009602 -0.009431 -0.018798   \n2013-06-28 -0.005461 -0.004206 -0.006151 -0.005846 -0.004241 -0.006282   \n2013-07-31 -0.003453  0.003281  0.000488  0.003549 -0.003461 -0.000241   \n2013-08-30 -0.001730 -0.000368 -0.004619 -0.005661 -0.004766  0.003042   \n\n                 XLU       XLV       XLY  \nDate                                      \n2012-09-28  0.004683 -0.004228 -0.004265  \n2012-10-31  0.008710 -0.007218  0.003261  \n2012-11-30  0.010531  0.001244  0.000842  \n2012-12-31  0.013551  0.010588  0.019799  \n2013-01-31  0.002463 -0.002793 -0.004776  \n2013-02-28  0.003479 -0.000920  0.004921  \n2013-03-29  0.003479 -0.000920  0.004921  \n2013-04-30  0.002659 -0.007578  0.002751  \n2013-05-31 -0.006086 -0.022200 -0.011340  \n2013-06-28  0.002394 -0.007741  0.003552  \n2013-07-31 -0.007359  0.000392  0.005235  \n2013-08-30  0.000805 -0.003853 -0.006222  \n"
     ]
    },
    {
     "name": "stdout",
     "output_type": "stream",
     "text": [
      "                 XLB       XLE       XLF       XLI       XLK       XLP  \\\nDate                                                                     \n2012-10-31 -0.002218 -0.000278  0.006309  0.004669 -0.004148  0.001131   \n2012-11-30  0.000818 -0.000844 -0.001269 -0.002152 -0.001029  0.003614   \n2012-12-31  0.019366  0.022514  0.012895  0.018105  0.017130  0.012978   \n2013-01-31 -0.009184 -0.003356 -0.000575 -0.003487  0.001702 -0.001355   \n2013-02-28  0.001820 -0.002057 -0.001704 -0.000732 -0.002023 -0.000525   \n2013-03-29  0.001820 -0.002057 -0.001704 -0.000732 -0.002023 -0.000525   \n2013-04-30  0.001518  0.003969  0.002677  0.000241  0.010772 -0.001952   \n2013-05-31 -0.015756 -0.020898 -0.016496 -0.009602 -0.009431 -0.018798   \n2013-06-28 -0.005461 -0.004206 -0.006151 -0.005846 -0.004241 -0.006282   \n2013-07-31 -0.003453  0.003281  0.000488  0.003549 -0.003461 -0.000241   \n2013-08-30 -0.001730 -0.000368 -0.004619 -0.005661 -0.004766  0.003042   \n2013-09-30 -0.003564 -0.007689 -0.007007 -0.005801 -0.006223 -0.010746   \n\n                 XLU       XLV       XLY  \nDate                                      \n2012-10-31  0.008710 -0.007218  0.003261  \n2012-11-30  0.010531  0.001244  0.000842  \n2012-12-31  0.013551  0.010588  0.019799  \n2013-01-31  0.002463 -0.002793 -0.004776  \n2013-02-28  0.003479 -0.000920  0.004921  \n2013-03-29  0.003479 -0.000920  0.004921  \n2013-04-30  0.002659 -0.007578  0.002751  \n2013-05-31 -0.006086 -0.022200 -0.011340  \n2013-06-28  0.002394 -0.007741  0.003552  \n2013-07-31 -0.007359  0.000392  0.005235  \n2013-08-30  0.000805 -0.003853 -0.006222  \n2013-09-30 -0.001070 -0.002172 -0.003786  \n"
     ]
    },
    {
     "name": "stdout",
     "output_type": "stream",
     "text": [
      "                 XLB       XLE       XLF       XLI       XLK       XLP  \\\nDate                                                                     \n2012-11-30  0.000818 -0.000844 -0.001269 -0.002152 -0.001029  0.003614   \n2012-12-31  0.019366  0.022514  0.012895  0.018105  0.017130  0.012978   \n2013-01-31 -0.009184 -0.003356 -0.000575 -0.003487  0.001702 -0.001355   \n2013-02-28  0.001820 -0.002057 -0.001704 -0.000732 -0.002023 -0.000525   \n2013-03-29  0.001820 -0.002057 -0.001704 -0.000732 -0.002023 -0.000525   \n2013-04-30  0.001518  0.003969  0.002677  0.000241  0.010772 -0.001952   \n2013-05-31 -0.015756 -0.020898 -0.016496 -0.009602 -0.009431 -0.018798   \n2013-06-28 -0.005461 -0.004206 -0.006151 -0.005846 -0.004241 -0.006282   \n2013-07-31 -0.003453  0.003281  0.000488  0.003549 -0.003461 -0.000241   \n2013-08-30 -0.001730 -0.000368 -0.004619 -0.005661 -0.004766  0.003042   \n2013-09-30 -0.003564 -0.007689 -0.007007 -0.005801 -0.006223 -0.010746   \n2013-10-31 -0.001598 -0.003466 -0.010638  0.000206 -0.003264 -0.005182   \n\n                 XLU       XLV       XLY  \nDate                                      \n2012-11-30  0.010531  0.001244  0.000842  \n2012-12-31  0.013551  0.010588  0.019799  \n2013-01-31  0.002463 -0.002793 -0.004776  \n2013-02-28  0.003479 -0.000920  0.004921  \n2013-03-29  0.003479 -0.000920  0.004921  \n2013-04-30  0.002659 -0.007578  0.002751  \n2013-05-31 -0.006086 -0.022200 -0.011340  \n2013-06-28  0.002394 -0.007741  0.003552  \n2013-07-31 -0.007359  0.000392  0.005235  \n2013-08-30  0.000805 -0.003853 -0.006222  \n2013-09-30 -0.001070 -0.002172 -0.003786  \n2013-10-31 -0.003604 -0.003971  0.002526  \n"
     ]
    },
    {
     "name": "stdout",
     "output_type": "stream",
     "text": [
      "                 XLB       XLE       XLF       XLI       XLK       XLP  \\\nDate                                                                     \n2012-12-31  0.019366  0.022514  0.012895  0.018105  0.017130  0.012978   \n2013-01-31 -0.009184 -0.003356 -0.000575 -0.003487  0.001702 -0.001355   \n2013-02-28  0.001820 -0.002057 -0.001704 -0.000732 -0.002023 -0.000525   \n2013-03-29  0.001820 -0.002057 -0.001704 -0.000732 -0.002023 -0.000525   \n2013-04-30  0.001518  0.003969  0.002677  0.000241  0.010772 -0.001952   \n2013-05-31 -0.015756 -0.020898 -0.016496 -0.009602 -0.009431 -0.018798   \n2013-06-28 -0.005461 -0.004206 -0.006151 -0.005846 -0.004241 -0.006282   \n2013-07-31 -0.003453  0.003281  0.000488  0.003549 -0.003461 -0.000241   \n2013-08-30 -0.001730 -0.000368 -0.004619 -0.005661 -0.004766  0.003042   \n2013-09-30 -0.003564 -0.007689 -0.007007 -0.005801 -0.006223 -0.010746   \n2013-10-31 -0.001598 -0.003466 -0.010638  0.000206 -0.003264 -0.005182   \n2013-11-29 -0.000902 -0.002080 -0.003718 -0.002774  0.004044 -0.001626   \n\n                 XLU       XLV       XLY  \nDate                                      \n2012-12-31  0.013551  0.010588  0.019799  \n2013-01-31  0.002463 -0.002793 -0.004776  \n2013-02-28  0.003479 -0.000920  0.004921  \n2013-03-29  0.003479 -0.000920  0.004921  \n2013-04-30  0.002659 -0.007578  0.002751  \n2013-05-31 -0.006086 -0.022200 -0.011340  \n2013-06-28  0.002394 -0.007741  0.003552  \n2013-07-31 -0.007359  0.000392  0.005235  \n2013-08-30  0.000805 -0.003853 -0.006222  \n2013-09-30 -0.001070 -0.002172 -0.003786  \n2013-10-31 -0.003604 -0.003971  0.002526  \n2013-11-29 -0.000525 -0.000543  0.000915  \n"
     ]
    },
    {
     "name": "stdout",
     "output_type": "stream",
     "text": [
      "                 XLB       XLE       XLF       XLI       XLK       XLP  \\\nDate                                                                     \n2013-01-31 -0.009184 -0.003356 -0.000575 -0.003487  0.001702 -0.001355   \n2013-02-28  0.001820 -0.002057 -0.001704 -0.000732 -0.002023 -0.000525   \n2013-03-29  0.001820 -0.002057 -0.001704 -0.000732 -0.002023 -0.000525   \n2013-04-30  0.001518  0.003969  0.002677  0.000241  0.010772 -0.001952   \n2013-05-31 -0.015756 -0.020898 -0.016496 -0.009602 -0.009431 -0.018798   \n2013-06-28 -0.005461 -0.004206 -0.006151 -0.005846 -0.004241 -0.006282   \n2013-07-31 -0.003453  0.003281  0.000488  0.003549 -0.003461 -0.000241   \n2013-08-30 -0.001730 -0.000368 -0.004619 -0.005661 -0.004766  0.003042   \n2013-09-30 -0.003564 -0.007689 -0.007007 -0.005801 -0.006223 -0.010746   \n2013-10-31 -0.001598 -0.003466 -0.010638  0.000206 -0.003264 -0.005182   \n2013-11-29 -0.000902 -0.002080 -0.003718 -0.002774  0.004044 -0.001626   \n2013-12-31  0.003468  0.009650  0.005045  0.005949  0.006457  0.000699   \n\n                 XLU       XLV       XLY  \nDate                                      \n2013-01-31  0.002463 -0.002793 -0.004776  \n2013-02-28  0.003479 -0.000920  0.004921  \n2013-03-29  0.003479 -0.000920  0.004921  \n2013-04-30  0.002659 -0.007578  0.002751  \n2013-05-31 -0.006086 -0.022200 -0.011340  \n2013-06-28  0.002394 -0.007741  0.003552  \n2013-07-31 -0.007359  0.000392  0.005235  \n2013-08-30  0.000805 -0.003853 -0.006222  \n2013-09-30 -0.001070 -0.002172 -0.003786  \n2013-10-31 -0.003604 -0.003971  0.002526  \n2013-11-29 -0.000525 -0.000543  0.000915  \n2013-12-31  0.001845 -0.000541  0.003898  \n"
     ]
    },
    {
     "name": "stdout",
     "output_type": "stream",
     "text": [
      "                 XLB       XLE       XLF       XLI       XLK       XLP  \\\nDate                                                                     \n2013-02-28  0.001820 -0.002057 -0.001704 -0.000732 -0.002023 -0.000525   \n2013-03-29  0.001820 -0.002057 -0.001704 -0.000732 -0.002023 -0.000525   \n2013-04-30  0.001518  0.003969  0.002677  0.000241  0.010772 -0.001952   \n2013-05-31 -0.015756 -0.020898 -0.016496 -0.009602 -0.009431 -0.018798   \n2013-06-28 -0.005461 -0.004206 -0.006151 -0.005846 -0.004241 -0.006282   \n2013-07-31 -0.003453  0.003281  0.000488  0.003549 -0.003461 -0.000241   \n2013-08-30 -0.001730 -0.000368 -0.004619 -0.005661 -0.004766  0.003042   \n2013-09-30 -0.003564 -0.007689 -0.007007 -0.005801 -0.006223 -0.010746   \n2013-10-31 -0.001598 -0.003466 -0.010638  0.000206 -0.003264 -0.005182   \n2013-11-29 -0.000902 -0.002080 -0.003718 -0.002774  0.004044 -0.001626   \n2013-12-31  0.003468  0.009650  0.005045  0.005949  0.006457  0.000699   \n2014-01-31 -0.006564 -0.012988 -0.011801 -0.004985  0.002300 -0.004895   \n\n                 XLU       XLV       XLY  \nDate                                      \n2013-02-28  0.003479 -0.000920  0.004921  \n2013-03-29  0.003479 -0.000920  0.004921  \n2013-04-30  0.002659 -0.007578  0.002751  \n2013-05-31 -0.006086 -0.022200 -0.011340  \n2013-06-28  0.002394 -0.007741  0.003552  \n2013-07-31 -0.007359  0.000392  0.005235  \n2013-08-30  0.000805 -0.003853 -0.006222  \n2013-09-30 -0.001070 -0.002172 -0.003786  \n2013-10-31 -0.003604 -0.003971  0.002526  \n2013-11-29 -0.000525 -0.000543  0.000915  \n2013-12-31  0.001845 -0.000541  0.003898  \n2014-01-31  0.008218 -0.008718 -0.014225  \n"
     ]
    },
    {
     "name": "stdout",
     "output_type": "stream",
     "text": [
      "                 XLB       XLE       XLF       XLI       XLK       XLP  \\\nDate                                                                     \n2013-03-29  0.001820 -0.002057 -0.001704 -0.000732 -0.002023 -0.000525   \n2013-04-30  0.001518  0.003969  0.002677  0.000241  0.010772 -0.001952   \n2013-05-31 -0.015756 -0.020898 -0.016496 -0.009602 -0.009431 -0.018798   \n2013-06-28 -0.005461 -0.004206 -0.006151 -0.005846 -0.004241 -0.006282   \n2013-07-31 -0.003453  0.003281  0.000488  0.003549 -0.003461 -0.000241   \n2013-08-30 -0.001730 -0.000368 -0.004619 -0.005661 -0.004766  0.003042   \n2013-09-30 -0.003564 -0.007689 -0.007007 -0.005801 -0.006223 -0.010746   \n2013-10-31 -0.001598 -0.003466 -0.010638  0.000206 -0.003264 -0.005182   \n2013-11-29 -0.000902 -0.002080 -0.003718 -0.002774  0.004044 -0.001626   \n2013-12-31  0.003468  0.009650  0.005045  0.005949  0.006457  0.000699   \n2014-01-31 -0.006564 -0.012988 -0.011801 -0.004985  0.002300 -0.004895   \n2014-02-28  0.003404  0.005033  0.005082  0.001923  0.001101  0.006871   \n\n                 XLU       XLV       XLY  \nDate                                      \n2013-03-29  0.003479 -0.000920  0.004921  \n2013-04-30  0.002659 -0.007578  0.002751  \n2013-05-31 -0.006086 -0.022200 -0.011340  \n2013-06-28  0.002394 -0.007741  0.003552  \n2013-07-31 -0.007359  0.000392  0.005235  \n2013-08-30  0.000805 -0.003853 -0.006222  \n2013-09-30 -0.001070 -0.002172 -0.003786  \n2013-10-31 -0.003604 -0.003971  0.002526  \n2013-11-29 -0.000525 -0.000543  0.000915  \n2013-12-31  0.001845 -0.000541  0.003898  \n2014-01-31  0.008218 -0.008718 -0.014225  \n2014-02-28  0.006946  0.000000  0.004048  \n"
     ]
    },
    {
     "name": "stdout",
     "output_type": "stream",
     "text": [
      "                 XLB       XLE       XLF       XLI       XLK       XLP  \\\nDate                                                                     \n2013-04-30  0.001518  0.003969  0.002677  0.000241  0.010772 -0.001952   \n2013-05-31 -0.015756 -0.020898 -0.016496 -0.009602 -0.009431 -0.018798   \n2013-06-28 -0.005461 -0.004206 -0.006151 -0.005846 -0.004241 -0.006282   \n2013-07-31 -0.003453  0.003281  0.000488  0.003549 -0.003461 -0.000241   \n2013-08-30 -0.001730 -0.000368 -0.004619 -0.005661 -0.004766  0.003042   \n2013-09-30 -0.003564 -0.007689 -0.007007 -0.005801 -0.006223 -0.010746   \n2013-10-31 -0.001598 -0.003466 -0.010638  0.000206 -0.003264 -0.005182   \n2013-11-29 -0.000902 -0.002080 -0.003718 -0.002774  0.004044 -0.001626   \n2013-12-31  0.003468  0.009650  0.005045  0.005949  0.006457  0.000699   \n2014-01-31 -0.006564 -0.012988 -0.011801 -0.004985  0.002300 -0.004895   \n2014-02-28  0.003404  0.005033  0.005082  0.001923  0.001101  0.006871   \n2014-03-31  0.010846  0.000000  0.010349  0.011532  0.007733  0.007225   \n\n                 XLU       XLV       XLY  \nDate                                      \n2013-04-30  0.002659 -0.007578  0.002751  \n2013-05-31 -0.006086 -0.022200 -0.011340  \n2013-06-28  0.002394 -0.007741  0.003552  \n2013-07-31 -0.007359  0.000392  0.005235  \n2013-08-30  0.000805 -0.003853 -0.006222  \n2013-09-30 -0.001070 -0.002172 -0.003786  \n2013-10-31 -0.003604 -0.003971  0.002526  \n2013-11-29 -0.000525 -0.000543  0.000915  \n2013-12-31  0.001845 -0.000541  0.003898  \n2014-01-31  0.008218 -0.008718 -0.014225  \n2014-02-28  0.006946  0.000000  0.004048  \n2014-03-31  0.010913  0.013425  0.006822  \n"
     ]
    },
    {
     "name": "stdout",
     "output_type": "stream",
     "text": [
      "                 XLB       XLE       XLF       XLI       XLK       XLP  \\\nDate                                                                     \n2013-05-31 -0.015756 -0.020898 -0.016496 -0.009602 -0.009431 -0.018798   \n2013-06-28 -0.005461 -0.004206 -0.006151 -0.005846 -0.004241 -0.006282   \n2013-07-31 -0.003453  0.003281  0.000488  0.003549 -0.003461 -0.000241   \n2013-08-30 -0.001730 -0.000368 -0.004619 -0.005661 -0.004766  0.003042   \n2013-09-30 -0.003564 -0.007689 -0.007007 -0.005801 -0.006223 -0.010746   \n2013-10-31 -0.001598 -0.003466 -0.010638  0.000206 -0.003264 -0.005182   \n2013-11-29 -0.000902 -0.002080 -0.003718 -0.002774  0.004044 -0.001626   \n2013-12-31  0.003468  0.009650  0.005045  0.005949  0.006457  0.000699   \n2014-01-31 -0.006564 -0.012988 -0.011801 -0.004985  0.002300 -0.004895   \n2014-02-28  0.003404  0.005033  0.005082  0.001923  0.001101  0.006871   \n2014-03-31  0.010846  0.000000  0.010349  0.011532  0.007733  0.007225   \n2014-04-30  0.008003 -0.000853  0.001367  0.006622  0.003022  0.003170   \n\n                 XLU       XLV       XLY  \nDate                                      \n2013-05-31 -0.006086 -0.022200 -0.011340  \n2013-06-28  0.002394 -0.007741  0.003552  \n2013-07-31 -0.007359  0.000392  0.005235  \n2013-08-30  0.000805 -0.003853 -0.006222  \n2013-09-30 -0.001070 -0.002172 -0.003786  \n2013-10-31 -0.003604 -0.003971  0.002526  \n2013-11-29 -0.000525 -0.000543  0.000915  \n2013-12-31  0.001845 -0.000541  0.003898  \n2014-01-31  0.008218 -0.008718 -0.014225  \n2014-02-28  0.006946  0.000000  0.004048  \n2014-03-31  0.010913  0.013425  0.006822  \n2014-04-30  0.001621  0.000861  0.004238  \n"
     ]
    },
    {
     "name": "stdout",
     "output_type": "stream",
     "text": [
      "                 XLB       XLE       XLF       XLI       XLK       XLP  \\\nDate                                                                     \n2013-06-28 -0.005461 -0.004206 -0.006151 -0.005846 -0.004241 -0.006282   \n2013-07-31 -0.003453  0.003281  0.000488  0.003549 -0.003461 -0.000241   \n2013-08-30 -0.001730 -0.000368 -0.004619 -0.005661 -0.004766  0.003042   \n2013-09-30 -0.003564 -0.007689 -0.007007 -0.005801 -0.006223 -0.010746   \n2013-10-31 -0.001598 -0.003466 -0.010638  0.000206 -0.003264 -0.005182   \n2013-11-29 -0.000902 -0.002080 -0.003718 -0.002774  0.004044 -0.001626   \n2013-12-31  0.003468  0.009650  0.005045  0.005949  0.006457  0.000699   \n2014-01-31 -0.006564 -0.012988 -0.011801 -0.004985  0.002300 -0.004895   \n2014-02-28  0.003404  0.005033  0.005082  0.001923  0.001101  0.006871   \n2014-03-31  0.010846  0.000000  0.010349  0.011532  0.007733  0.007225   \n2014-04-30  0.008003 -0.000853  0.001367  0.006622  0.003022  0.003170   \n2014-05-30 -0.000204 -0.000734  0.002246 -0.000740  0.001059  0.007801   \n\n                 XLU       XLV       XLY  \nDate                                      \n2013-06-28  0.002394 -0.007741  0.003552  \n2013-07-31 -0.007359  0.000392  0.005235  \n2013-08-30  0.000805 -0.003853 -0.006222  \n2013-09-30 -0.001070 -0.002172 -0.003786  \n2013-10-31 -0.003604 -0.003971  0.002526  \n2013-11-29 -0.000525 -0.000543  0.000915  \n2013-12-31  0.001845 -0.000541  0.003898  \n2014-01-31  0.008218 -0.008718 -0.014225  \n2014-02-28  0.006946  0.000000  0.004048  \n2014-03-31  0.010913  0.013425  0.006822  \n2014-04-30  0.001621  0.000861  0.004238  \n2014-05-30  0.006573  0.002680  0.000914  \n"
     ]
    },
    {
     "name": "stdout",
     "output_type": "stream",
     "text": [
      "                 XLB       XLE       XLF       XLI       XLK       XLP  \\\nDate                                                                     \n2013-07-31 -0.003453  0.003281  0.000488  0.003549 -0.003461 -0.000241   \n2013-08-30 -0.001730 -0.000368 -0.004619 -0.005661 -0.004766  0.003042   \n2013-09-30 -0.003564 -0.007689 -0.007007 -0.005801 -0.006223 -0.010746   \n2013-10-31 -0.001598 -0.003466 -0.010638  0.000206 -0.003264 -0.005182   \n2013-11-29 -0.000902 -0.002080 -0.003718 -0.002774  0.004044 -0.001626   \n2013-12-31  0.003468  0.009650  0.005045  0.005949  0.006457  0.000699   \n2014-01-31 -0.006564 -0.012988 -0.011801 -0.004985  0.002300 -0.004895   \n2014-02-28  0.003404  0.005033  0.005082  0.001923  0.001101  0.006871   \n2014-03-31  0.010846  0.000000  0.010349  0.011532  0.007733  0.007225   \n2014-04-30  0.008003 -0.000853  0.001367  0.006622  0.003022  0.003170   \n2014-05-30 -0.000204 -0.000734  0.002246 -0.000740  0.001059  0.007801   \n2014-06-30  0.003430  0.000800 -0.000879 -0.004245  0.000261 -0.000896   \n\n                 XLU       XLV       XLY  \nDate                                      \n2013-07-31 -0.007359  0.000392  0.005235  \n2013-08-30  0.000805 -0.003853 -0.006222  \n2013-09-30 -0.001070 -0.002172 -0.003786  \n2013-10-31 -0.003604 -0.003971  0.002526  \n2013-11-29 -0.000525 -0.000543  0.000915  \n2013-12-31  0.001845 -0.000541  0.003898  \n2014-01-31  0.008218 -0.008718 -0.014225  \n2014-02-28  0.006946  0.000000  0.004048  \n2014-03-31  0.010913  0.013425  0.006822  \n2014-04-30  0.001621  0.000861  0.004238  \n2014-05-30  0.006573  0.002680  0.000914  \n2014-06-30  0.007939 -0.003938 -0.000449  \n"
     ]
    },
    {
     "name": "stdout",
     "output_type": "stream",
     "text": [
      "                 XLB       XLE       XLF       XLI       XLK       XLP  \\\nDate                                                                     \n2013-08-30 -0.001730 -0.000368 -0.004619 -0.005661 -0.004766  0.003042   \n2013-09-30 -0.003564 -0.007689 -0.007007 -0.005801 -0.006223 -0.010746   \n2013-10-31 -0.001598 -0.003466 -0.010638  0.000206 -0.003264 -0.005182   \n2013-11-29 -0.000902 -0.002080 -0.003718 -0.002774  0.004044 -0.001626   \n2013-12-31  0.003468  0.009650  0.005045  0.005949  0.006457  0.000699   \n2014-01-31 -0.006564 -0.012988 -0.011801 -0.004985  0.002300 -0.004895   \n2014-02-28  0.003404  0.005033  0.005082  0.001923  0.001101  0.006871   \n2014-03-31  0.010846  0.000000  0.010349  0.011532  0.007733  0.007225   \n2014-04-30  0.008003 -0.000853  0.001367  0.006622  0.003022  0.003170   \n2014-05-30 -0.000204 -0.000734  0.002246 -0.000740  0.001059  0.007801   \n2014-06-30  0.003430  0.000800 -0.000879 -0.004245  0.000261 -0.000896   \n2014-07-31 -0.019742 -0.021803 -0.020756 -0.020434 -0.019048 -0.017236   \n\n                 XLU       XLV       XLY  \nDate                                      \n2013-08-30  0.000805 -0.003853 -0.006222  \n2013-09-30 -0.001070 -0.002172 -0.003786  \n2013-10-31 -0.003604 -0.003971  0.002526  \n2013-11-29 -0.000525 -0.000543  0.000915  \n2013-12-31  0.001845 -0.000541  0.003898  \n2014-01-31  0.008218 -0.008718 -0.014225  \n2014-02-28  0.006946  0.000000  0.004048  \n2014-03-31  0.010913  0.013425  0.006822  \n2014-04-30  0.001621  0.000861  0.004238  \n2014-05-30  0.006573  0.002680  0.000914  \n2014-06-30  0.007939 -0.003938 -0.000449  \n2014-07-31 -0.015873 -0.020797 -0.018644  \n"
     ]
    },
    {
     "name": "stdout",
     "output_type": "stream",
     "text": [
      "                 XLB       XLE       XLF       XLI       XLK       XLP  \\\nDate                                                                     \n2013-09-30 -0.003564 -0.007689 -0.007007 -0.005801 -0.006223 -0.010746   \n2013-10-31 -0.001598 -0.003466 -0.010638  0.000206 -0.003264 -0.005182   \n2013-11-29 -0.000902 -0.002080 -0.003718 -0.002774  0.004044 -0.001626   \n2013-12-31  0.003468  0.009650  0.005045  0.005949  0.006457  0.000699   \n2014-01-31 -0.006564 -0.012988 -0.011801 -0.004985  0.002300 -0.004895   \n2014-02-28  0.003404  0.005033  0.005082  0.001923  0.001101  0.006871   \n2014-03-31  0.010846  0.000000  0.010349  0.011532  0.007733  0.007225   \n2014-04-30  0.008003 -0.000853  0.001367  0.006622  0.003022  0.003170   \n2014-05-30 -0.000204 -0.000734  0.002246 -0.000740  0.001059  0.007801   \n2014-06-30  0.003430  0.000800 -0.000879 -0.004245  0.000261 -0.000896   \n2014-07-31 -0.019742 -0.021803 -0.020756 -0.020434 -0.019048 -0.017236   \n2014-08-29  0.001584  0.005586  0.004720 -0.000925  0.004479  0.000665   \n\n                 XLU       XLV       XLY  \nDate                                      \n2013-09-30 -0.001070 -0.002172 -0.003786  \n2013-10-31 -0.003604 -0.003971  0.002526  \n2013-11-29 -0.000525 -0.000543  0.000915  \n2013-12-31  0.001845 -0.000541  0.003898  \n2014-01-31  0.008218 -0.008718 -0.014225  \n2014-02-28  0.006946  0.000000  0.004048  \n2014-03-31  0.010913  0.013425  0.006822  \n2014-04-30  0.001621  0.000861  0.004238  \n2014-05-30  0.006573  0.002680  0.000914  \n2014-06-30  0.007939 -0.003938 -0.000449  \n2014-07-31 -0.015873 -0.020797 -0.018644  \n2014-08-29  0.006491  0.003608 -0.000145  \n"
     ]
    },
    {
     "name": "stdout",
     "output_type": "stream",
     "text": [
      "                 XLB       XLE       XLF       XLI       XLK       XLP  \\\nDate                                                                     \n2013-10-31 -0.001598 -0.003466 -0.010638  0.000206 -0.003264 -0.005182   \n2013-11-29 -0.000902 -0.002080 -0.003718 -0.002774  0.004044 -0.001626   \n2013-12-31  0.003468  0.009650  0.005045  0.005949  0.006457  0.000699   \n2014-01-31 -0.006564 -0.012988 -0.011801 -0.004985  0.002300 -0.004895   \n2014-02-28  0.003404  0.005033  0.005082  0.001923  0.001101  0.006871   \n2014-03-31  0.010846  0.000000  0.010349  0.011532  0.007733  0.007225   \n2014-04-30  0.008003 -0.000853  0.001367  0.006622  0.003022  0.003170   \n2014-05-30 -0.000204 -0.000734  0.002246 -0.000740  0.001059  0.007801   \n2014-06-30  0.003430  0.000800 -0.000879 -0.004245  0.000261 -0.000896   \n2014-07-31 -0.019742 -0.021803 -0.020756 -0.020434 -0.019048 -0.017236   \n2014-08-29  0.001584  0.005586  0.004720 -0.000925  0.004479  0.000665   \n2014-09-30 -0.012026 -0.012610 -0.001725 -0.001504  0.003012  0.000443   \n\n                 XLU       XLV       XLY  \nDate                                      \n2013-10-31 -0.003604 -0.003971  0.002526  \n2013-11-29 -0.000525 -0.000543  0.000915  \n2013-12-31  0.001845 -0.000541  0.003898  \n2014-01-31  0.008218 -0.008718 -0.014225  \n2014-02-28  0.006946  0.000000  0.004048  \n2014-03-31  0.010913  0.013425  0.006822  \n2014-04-30  0.001621  0.000861  0.004238  \n2014-05-30  0.006573  0.002680  0.000914  \n2014-06-30  0.007939 -0.003938 -0.000449  \n2014-07-31 -0.015873 -0.020797 -0.018644  \n2014-08-29  0.006491  0.003608 -0.000145  \n2014-09-30  0.001426 -0.005462 -0.005533  \n                 XLB       XLE       XLF       XLI       XLK       XLP  \\\nDate                                                                     \n2013-11-29 -0.000902 -0.002080 -0.003718 -0.002774  0.004044 -0.001626   \n2013-12-31  0.003468  0.009650  0.005045  0.005949  0.006457  0.000699   \n2014-01-31 -0.006564 -0.012988 -0.011801 -0.004985  0.002300 -0.004895   \n2014-02-28  0.003404  0.005033  0.005082  0.001923  0.001101  0.006871   \n2014-03-31  0.010846  0.000000  0.010349  0.011532  0.007733  0.007225   \n2014-04-30  0.008003 -0.000853  0.001367  0.006622  0.003022  0.003170   \n2014-05-30 -0.000204 -0.000734  0.002246 -0.000740  0.001059  0.007801   \n2014-06-30  0.003430  0.000800 -0.000879 -0.004245  0.000261 -0.000896   \n2014-07-31 -0.019742 -0.021803 -0.020756 -0.020434 -0.019048 -0.017236   \n2014-08-29  0.001584  0.005586  0.004720 -0.000925  0.004479  0.000665   \n2014-09-30 -0.012026 -0.012610 -0.001725 -0.001504  0.003012  0.000443   \n2014-10-31  0.018560  0.020105  0.011390  0.009829  0.015412  0.006443   \n\n                 XLU       XLV       XLY  \nDate                                      \n2013-11-29 -0.000525 -0.000543  0.000915  \n2013-12-31  0.001845 -0.000541  0.003898  \n2014-01-31  0.008218 -0.008718 -0.014225  \n2014-02-28  0.006946  0.000000  0.004048  \n2014-03-31  0.010913  0.013425  0.006822  \n2014-04-30  0.001621  0.000861  0.004238  \n2014-05-30  0.006573  0.002680  0.000914  \n2014-06-30  0.007939 -0.003938 -0.000449  \n2014-07-31 -0.015873 -0.020797 -0.018644  \n2014-08-29  0.006491  0.003608 -0.000145  \n2014-09-30  0.001426 -0.005462 -0.005533  \n2014-10-31  0.000220  0.004022  0.009739  \n"
     ]
    },
    {
     "name": "stdout",
     "output_type": "stream",
     "text": [
      "                 XLB       XLE       XLF       XLI       XLK       XLP  \\\nDate                                                                     \n2013-12-31  0.003468  0.009650  0.005045  0.005949  0.006457  0.000699   \n2014-01-31 -0.006564 -0.012988 -0.011801 -0.004985  0.002300 -0.004895   \n2014-02-28  0.003404  0.005033  0.005082  0.001923  0.001101  0.006871   \n2014-03-31  0.010846  0.000000  0.010349  0.011532  0.007733  0.007225   \n2014-04-30  0.008003 -0.000853  0.001367  0.006622  0.003022  0.003170   \n2014-05-30 -0.000204 -0.000734  0.002246 -0.000740  0.001059  0.007801   \n2014-06-30  0.003430  0.000800 -0.000879 -0.004245  0.000261 -0.000896   \n2014-07-31 -0.019742 -0.021803 -0.020756 -0.020434 -0.019048 -0.017236   \n2014-08-29  0.001584  0.005586  0.004720 -0.000925  0.004479  0.000665   \n2014-09-30 -0.012026 -0.012610 -0.001725 -0.001504  0.003012  0.000443   \n2014-10-31  0.018560  0.020105  0.011390  0.009829  0.015412  0.006443   \n2014-11-28 -0.022925 -0.066400  0.000820 -0.008399  0.004718  0.012656   \n\n                 XLU       XLV       XLY  \nDate                                      \n2013-12-31  0.001845 -0.000541  0.003898  \n2014-01-31  0.008218 -0.008718 -0.014225  \n2014-02-28  0.006946  0.000000  0.004048  \n2014-03-31  0.010913  0.013425  0.006822  \n2014-04-30  0.001621  0.000861  0.004238  \n2014-05-30  0.006573  0.002680  0.000914  \n2014-06-30  0.007939 -0.003938 -0.000449  \n2014-07-31 -0.015873 -0.020797 -0.018644  \n2014-08-29  0.006491  0.003608 -0.000145  \n2014-09-30  0.001426 -0.005462 -0.005533  \n2014-10-31  0.000220  0.004022  0.009739  \n2014-11-28  0.010490  0.006196  0.012048  \n"
     ]
    },
    {
     "name": "stdout",
     "output_type": "stream",
     "text": [
      "                 XLB       XLE       XLF       XLI       XLK       XLP  \\\nDate                                                                     \n2014-01-31 -0.006564 -0.012988 -0.011801 -0.004985  0.002300 -0.004895   \n2014-02-28  0.003404  0.005033  0.005082  0.001923  0.001101  0.006871   \n2014-03-31  0.010846  0.000000  0.010349  0.011532  0.007733  0.007225   \n2014-04-30  0.008003 -0.000853  0.001367  0.006622  0.003022  0.003170   \n2014-05-30 -0.000204 -0.000734  0.002246 -0.000740  0.001059  0.007801   \n2014-06-30  0.003430  0.000800 -0.000879 -0.004245  0.000261 -0.000896   \n2014-07-31 -0.019742 -0.021803 -0.020756 -0.020434 -0.019048 -0.017236   \n2014-08-29  0.001584  0.005586  0.004720 -0.000925  0.004479  0.000665   \n2014-09-30 -0.012026 -0.012610 -0.001725 -0.001504  0.003012  0.000443   \n2014-10-31  0.018560  0.020105  0.011390  0.009829  0.015412  0.006443   \n2014-11-28 -0.022925 -0.066400  0.000820 -0.008399  0.004718  0.012656   \n2014-12-31 -0.009832 -0.007551 -0.011259 -0.010024 -0.011063 -0.012298   \n\n                 XLU       XLV       XLY  \nDate                                      \n2014-01-31  0.008218 -0.008718 -0.014225  \n2014-02-28  0.006946  0.000000  0.004048  \n2014-03-31  0.010913  0.013425  0.006822  \n2014-04-30  0.001621  0.000861  0.004238  \n2014-05-30  0.006573  0.002680  0.000914  \n2014-06-30  0.007939 -0.003938 -0.000449  \n2014-07-31 -0.015873 -0.020797 -0.018644  \n2014-08-29  0.006491  0.003608 -0.000145  \n2014-09-30  0.001426 -0.005462 -0.005533  \n2014-10-31  0.000220  0.004022  0.009739  \n2014-11-28  0.010490  0.006196  0.012048  \n2014-12-31 -0.018257 -0.010040 -0.004011  \n"
     ]
    },
    {
     "name": "stdout",
     "output_type": "stream",
     "text": [
      "                 XLB       XLE       XLF       XLI       XLK       XLP  \\\nDate                                                                     \n2014-02-28  0.003404  0.005033  0.005082  0.001923  0.001101  0.006871   \n2014-03-31  0.010846  0.000000  0.010349  0.011532  0.007733  0.007225   \n2014-04-30  0.008003 -0.000853  0.001367  0.006622  0.003022  0.003170   \n2014-05-30 -0.000204 -0.000734  0.002246 -0.000740  0.001059  0.007801   \n2014-06-30  0.003430  0.000800 -0.000879 -0.004245  0.000261 -0.000896   \n2014-07-31 -0.019742 -0.021803 -0.020756 -0.020434 -0.019048 -0.017236   \n2014-08-29  0.001584  0.005586  0.004720 -0.000925  0.004479  0.000665   \n2014-09-30 -0.012026 -0.012610 -0.001725 -0.001504  0.003012  0.000443   \n2014-10-31  0.018560  0.020105  0.011390  0.009829  0.015412  0.006443   \n2014-11-28 -0.022925 -0.066400  0.000820 -0.008399  0.004718  0.012656   \n2014-12-31 -0.009832 -0.007551 -0.011259 -0.010024 -0.011063 -0.012298   \n2015-01-30 -0.003976  0.008641 -0.016380 -0.016358 -0.012453 -0.018160   \n\n                 XLU       XLV       XLY  \nDate                                      \n2014-02-28  0.006946  0.000000  0.004048  \n2014-03-31  0.010913  0.013425  0.006822  \n2014-04-30  0.001621  0.000861  0.004238  \n2014-05-30  0.006573  0.002680  0.000914  \n2014-06-30  0.007939 -0.003938 -0.000449  \n2014-07-31 -0.015873 -0.020797 -0.018644  \n2014-08-29  0.006491  0.003608 -0.000145  \n2014-09-30  0.001426 -0.005462 -0.005533  \n2014-10-31  0.000220  0.004022  0.009739  \n2014-11-28  0.010490  0.006196  0.012048  \n2014-12-31 -0.018257 -0.010040 -0.004011  \n2015-01-30 -0.022307 -0.015755 -0.010941  \n"
     ]
    },
    {
     "name": "stdout",
     "output_type": "stream",
     "text": [
      "                 XLB       XLE       XLF       XLI       XLK       XLP  \\\nDate                                                                     \n2014-03-31  0.010846  0.000000  0.010349  0.011532  0.007733  0.007225   \n2014-04-30  0.008003 -0.000853  0.001367  0.006622  0.003022  0.003170   \n2014-05-30 -0.000204 -0.000734  0.002246 -0.000740  0.001059  0.007801   \n2014-06-30  0.003430  0.000800 -0.000879 -0.004245  0.000261 -0.000896   \n2014-07-31 -0.019742 -0.021803 -0.020756 -0.020434 -0.019048 -0.017236   \n2014-08-29  0.001584  0.005586  0.004720 -0.000925  0.004479  0.000665   \n2014-09-30 -0.012026 -0.012610 -0.001725 -0.001504  0.003012  0.000443   \n2014-10-31  0.018560  0.020105  0.011390  0.009829  0.015412  0.006443   \n2014-11-28 -0.022925 -0.066400  0.000820 -0.008399  0.004718  0.012656   \n2014-12-31 -0.009832 -0.007551 -0.011259 -0.010024 -0.011063 -0.012298   \n2015-01-30 -0.003976  0.008641 -0.016380 -0.016358 -0.012453 -0.018160   \n2015-02-27 -0.002328 -0.004419 -0.003689 -0.004685 -0.003475  0.004007   \n\n                 XLU       XLV       XLY  \nDate                                      \n2014-03-31  0.010913  0.013425  0.006822  \n2014-04-30  0.001621  0.000861  0.004238  \n2014-05-30  0.006573  0.002680  0.000914  \n2014-06-30  0.007939 -0.003938 -0.000449  \n2014-07-31 -0.015873 -0.020797 -0.018644  \n2014-08-29  0.006491  0.003608 -0.000145  \n2014-09-30  0.001426 -0.005462 -0.005533  \n2014-10-31  0.000220  0.004022  0.009739  \n2014-11-28  0.010490  0.006196  0.012048  \n2014-12-31 -0.018257 -0.010040 -0.004011  \n2015-01-30 -0.022307 -0.015755 -0.010941  \n2015-02-27 -0.001105 -0.004833 -0.001316  \n                 XLB       XLE       XLF       XLI       XLK       XLP  \\\nDate                                                                     \n2014-04-30  0.008003 -0.000853  0.001367  0.006622  0.003022  0.003170   \n2014-05-30 -0.000204 -0.000734  0.002246 -0.000740  0.001059  0.007801   \n2014-06-30  0.003430  0.000800 -0.000879 -0.004245  0.000261 -0.000896   \n2014-07-31 -0.019742 -0.021803 -0.020756 -0.020434 -0.019048 -0.017236   \n2014-08-29  0.001584  0.005586  0.004720 -0.000925  0.004479  0.000665   \n2014-09-30 -0.012026 -0.012610 -0.001725 -0.001504  0.003012  0.000443   \n2014-10-31  0.018560  0.020105  0.011390  0.009829  0.015412  0.006443   \n2014-11-28 -0.022925 -0.066400  0.000820 -0.008399  0.004718  0.012656   \n2014-12-31 -0.009832 -0.007551 -0.011259 -0.010024 -0.011063 -0.012298   \n2015-01-30 -0.003976  0.008641 -0.016380 -0.016358 -0.012453 -0.018160   \n2015-02-27 -0.002328 -0.004419 -0.003689 -0.004685 -0.003475  0.004007   \n2015-03-31 -0.009995 -0.005912 -0.007026 -0.009991 -0.010323 -0.009394   \n\n                 XLU       XLV       XLY  \nDate                                      \n2014-04-30  0.001621  0.000861  0.004238  \n2014-05-30  0.006573  0.002680  0.000914  \n2014-06-30  0.007939 -0.003938 -0.000449  \n2014-07-31 -0.015873 -0.020797 -0.018644  \n2014-08-29  0.006491  0.003608 -0.000145  \n2014-09-30  0.001426 -0.005462 -0.005533  \n2014-10-31  0.000220  0.004022  0.009739  \n2014-11-28  0.010490  0.006196  0.012048  \n2014-12-31 -0.018257 -0.010040 -0.004011  \n2015-01-30 -0.022307 -0.015755 -0.010941  \n2015-02-27 -0.001105 -0.004833 -0.001316  \n2015-03-31  0.000225 -0.017501 -0.004370  \n"
     ]
    },
    {
     "name": "stdout",
     "output_type": "stream",
     "text": [
      "                 XLB       XLE       XLF       XLI       XLK       XLP  \\\nDate                                                                     \n2014-05-30 -0.000204 -0.000734  0.002246 -0.000740  0.001059  0.007801   \n2014-06-30  0.003430  0.000800 -0.000879 -0.004245  0.000261 -0.000896   \n2014-07-31 -0.019742 -0.021803 -0.020756 -0.020434 -0.019048 -0.017236   \n2014-08-29  0.001584  0.005586  0.004720 -0.000925  0.004479  0.000665   \n2014-09-30 -0.012026 -0.012610 -0.001725 -0.001504  0.003012  0.000443   \n2014-10-31  0.018560  0.020105  0.011390  0.009829  0.015412  0.006443   \n2014-11-28 -0.022925 -0.066400  0.000820 -0.008399  0.004718  0.012656   \n2014-12-31 -0.009832 -0.007551 -0.011259 -0.010024 -0.011063 -0.012298   \n2015-01-30 -0.003976  0.008641 -0.016380 -0.016358 -0.012453 -0.018160   \n2015-02-27 -0.002328 -0.004419 -0.003689 -0.004685 -0.003475  0.004007   \n2015-03-31 -0.009995 -0.005912 -0.007026 -0.009991 -0.010323 -0.009394   \n2015-04-30 -0.006327 -0.003140 -0.007843 -0.008770 -0.013993 -0.003302   \n\n                 XLU       XLV       XLY  \nDate                                      \n2014-05-30  0.006573  0.002680  0.000914  \n2014-06-30  0.007939 -0.003938 -0.000449  \n2014-07-31 -0.015873 -0.020797 -0.018644  \n2014-08-29  0.006491  0.003608 -0.000145  \n2014-09-30  0.001426 -0.005462 -0.005533  \n2014-10-31  0.000220  0.004022  0.009739  \n2014-11-28  0.010490  0.006196  0.012048  \n2014-12-31 -0.018257 -0.010040 -0.004011  \n2015-01-30 -0.022307 -0.015755 -0.010941  \n2015-02-27 -0.001105 -0.004833 -0.001316  \n2015-03-31  0.000225 -0.017501 -0.004370  \n2015-04-30 -0.011691 -0.014124 -0.011223  \n"
     ]
    },
    {
     "name": "stdout",
     "output_type": "stream",
     "text": [
      "                 XLB       XLE       XLF       XLI       XLK       XLP  \\\nDate                                                                     \n2014-06-30  0.003430  0.000800 -0.000879 -0.004245  0.000261 -0.000896   \n2014-07-31 -0.019742 -0.021803 -0.020756 -0.020434 -0.019048 -0.017236   \n2014-08-29  0.001584  0.005586  0.004720 -0.000925  0.004479  0.000665   \n2014-09-30 -0.012026 -0.012610 -0.001725 -0.001504  0.003012  0.000443   \n2014-10-31  0.018560  0.020105  0.011390  0.009829  0.015412  0.006443   \n2014-11-28 -0.022925 -0.066400  0.000820 -0.008399  0.004718  0.012656   \n2014-12-31 -0.009832 -0.007551 -0.011259 -0.010024 -0.011063 -0.012298   \n2015-01-30 -0.003976  0.008641 -0.016380 -0.016358 -0.012453 -0.018160   \n2015-02-27 -0.002328 -0.004419 -0.003689 -0.004685 -0.003475  0.004007   \n2015-03-31 -0.009995 -0.005912 -0.007026 -0.009991 -0.010323 -0.009394   \n2015-04-30 -0.006327 -0.003140 -0.007843 -0.008770 -0.013993 -0.003302   \n2015-05-29 -0.006499 -0.001148 -0.008903 -0.009984 -0.007351 -0.006334   \n\n                 XLU       XLV       XLY  \nDate                                      \n2014-06-30  0.007939 -0.003938 -0.000449  \n2014-07-31 -0.015873 -0.020797 -0.018644  \n2014-08-29  0.006491  0.003608 -0.000145  \n2014-09-30  0.001426 -0.005462 -0.005533  \n2014-10-31  0.000220  0.004022  0.009739  \n2014-11-28  0.010490  0.006196  0.012048  \n2014-12-31 -0.018257 -0.010040 -0.004011  \n2015-01-30 -0.022307 -0.015755 -0.010941  \n2015-02-27 -0.001105 -0.004833 -0.001316  \n2015-03-31  0.000225 -0.017501 -0.004370  \n2015-04-30 -0.011691 -0.014124 -0.011223  \n2015-05-29 -0.001572 -0.002532 -0.006922  \n"
     ]
    },
    {
     "name": "stdout",
     "output_type": "stream",
     "text": [
      "                 XLB       XLE       XLF       XLI       XLK       XLP  \\\nDate                                                                     \n2014-07-31 -0.019742 -0.021803 -0.020756 -0.020434 -0.019048 -0.017236   \n2014-08-29  0.001584  0.005586  0.004720 -0.000925  0.004479  0.000665   \n2014-09-30 -0.012026 -0.012610 -0.001725 -0.001504  0.003012  0.000443   \n2014-10-31  0.018560  0.020105  0.011390  0.009829  0.015412  0.006443   \n2014-11-28 -0.022925 -0.066400  0.000820 -0.008399  0.004718  0.012656   \n2014-12-31 -0.009832 -0.007551 -0.011259 -0.010024 -0.011063 -0.012298   \n2015-01-30 -0.003976  0.008641 -0.016380 -0.016358 -0.012453 -0.018160   \n2015-02-27 -0.002328 -0.004419 -0.003689 -0.004685 -0.003475  0.004007   \n2015-03-31 -0.009995 -0.005912 -0.007026 -0.009991 -0.010323 -0.009394   \n2015-04-30 -0.006327 -0.003140 -0.007843 -0.008770 -0.013993 -0.003302   \n2015-05-29 -0.006499 -0.001148 -0.008903 -0.009984 -0.007351 -0.006334   \n2015-06-30  0.003105  0.007211  0.003698  0.000925  0.000967 -0.001679   \n\n                 XLU       XLV       XLY  \nDate                                      \n2014-07-31 -0.015873 -0.020797 -0.018644  \n2014-08-29  0.006491  0.003608 -0.000145  \n2014-09-30  0.001426 -0.005462 -0.005533  \n2014-10-31  0.000220  0.004022  0.009739  \n2014-11-28  0.010490  0.006196  0.012048  \n2014-12-31 -0.018257 -0.010040 -0.004011  \n2015-01-30 -0.022307 -0.015755 -0.010941  \n2015-02-27 -0.001105 -0.004833 -0.001316  \n2015-03-31  0.000225 -0.017501 -0.004370  \n2015-04-30 -0.011691 -0.014124 -0.011223  \n2015-05-29 -0.001572 -0.002532 -0.006922  \n2015-06-30 -0.002650  0.003635  0.004718  \n                 XLB       XLE       XLF       XLI       XLK       XLP  \\\nDate                                                                     \n2014-08-29  0.001584  0.005586  0.004720 -0.000925  0.004479  0.000665   \n2014-09-30 -0.012026 -0.012610 -0.001725 -0.001504  0.003012  0.000443   \n2014-10-31  0.018560  0.020105  0.011390  0.009829  0.015412  0.006443   \n2014-11-28 -0.022925 -0.066400  0.000820 -0.008399  0.004718  0.012656   \n2014-12-31 -0.009832 -0.007551 -0.011259 -0.010024 -0.011063 -0.012298   \n2015-01-30 -0.003976  0.008641 -0.016380 -0.016358 -0.012453 -0.018160   \n2015-02-27 -0.002328 -0.004419 -0.003689 -0.004685 -0.003475  0.004007   \n2015-03-31 -0.009995 -0.005912 -0.007026 -0.009991 -0.010323 -0.009394   \n2015-04-30 -0.006327 -0.003140 -0.007843 -0.008770 -0.013993 -0.003302   \n2015-05-29 -0.006499 -0.001148 -0.008903 -0.009984 -0.007351 -0.006334   \n2015-06-30  0.003105  0.007211  0.003698  0.000925  0.000967 -0.001679   \n2015-07-31 -0.002391 -0.022095 -0.003168 -0.000921 -0.003283  0.001990   \n\n                 XLU       XLV       XLY  \nDate                                      \n2014-08-29  0.006491  0.003608 -0.000145  \n2014-09-30  0.001426 -0.005462 -0.005533  \n2014-10-31  0.000220  0.004022  0.009739  \n2014-11-28  0.010490  0.006196  0.012048  \n2014-12-31 -0.018257 -0.010040 -0.004011  \n2015-01-30 -0.022307 -0.015755 -0.010941  \n2015-02-27 -0.001105 -0.004833 -0.001316  \n2015-03-31  0.000225 -0.017501 -0.004370  \n2015-04-30 -0.011691 -0.014124 -0.011223  \n2015-05-29 -0.001572 -0.002532 -0.006922  \n2015-06-30 -0.002650  0.003635  0.004718  \n2015-07-31  0.010053  0.005761  0.003121  \n"
     ]
    },
    {
     "name": "stdout",
     "output_type": "stream",
     "text": [
      "                 XLB       XLE       XLF       XLI       XLK       XLP  \\\nDate                                                                     \n2014-09-30 -0.012026 -0.012610 -0.001725 -0.001504  0.003012  0.000443   \n2014-10-31  0.018560  0.020105  0.011390  0.009829  0.015412  0.006443   \n2014-11-28 -0.022925 -0.066400  0.000820 -0.008399  0.004718  0.012656   \n2014-12-31 -0.009832 -0.007551 -0.011259 -0.010024 -0.011063 -0.012298   \n2015-01-30 -0.003976  0.008641 -0.016380 -0.016358 -0.012453 -0.018160   \n2015-02-27 -0.002328 -0.004419 -0.003689 -0.004685 -0.003475  0.004007   \n2015-03-31 -0.009995 -0.005912 -0.007026 -0.009991 -0.010323 -0.009394   \n2015-04-30 -0.006327 -0.003140 -0.007843 -0.008770 -0.013993 -0.003302   \n2015-05-29 -0.006499 -0.001148 -0.008903 -0.009984 -0.007351 -0.006334   \n2015-06-30  0.003105  0.007211  0.003698  0.000925  0.000967 -0.001679   \n2015-07-31 -0.002391 -0.022095 -0.003168 -0.000921 -0.003283  0.001990   \n2015-08-31 -0.005059  0.011194 -0.008500 -0.008929 -0.009155 -0.006951   \n\n                 XLU       XLV       XLY  \nDate                                      \n2014-09-30  0.001426 -0.005462 -0.005533  \n2014-10-31  0.000220  0.004022  0.009739  \n2014-11-28  0.010490  0.006196  0.012048  \n2014-12-31 -0.018257 -0.010040 -0.004011  \n2015-01-30 -0.022307 -0.015755 -0.010941  \n2015-02-27 -0.001105 -0.004833 -0.001316  \n2015-03-31  0.000225 -0.017501 -0.004370  \n2015-04-30 -0.011691 -0.014124 -0.011223  \n2015-05-29 -0.001572 -0.002532 -0.006922  \n2015-06-30 -0.002650  0.003635  0.004718  \n2015-07-31  0.010053  0.005761  0.003121  \n2015-08-31 -0.016120 -0.018414 -0.007706  \n"
     ]
    },
    {
     "name": "stdout",
     "output_type": "stream",
     "text": [
      "                 XLB       XLE       XLF       XLI       XLK       XLP  \\\nDate                                                                     \n2014-10-31  0.018560  0.020105  0.011390  0.009829  0.015412  0.006443   \n2014-11-28 -0.022925 -0.066400  0.000820 -0.008399  0.004718  0.012656   \n2014-12-31 -0.009832 -0.007551 -0.011259 -0.010024 -0.011063 -0.012298   \n2015-01-30 -0.003976  0.008641 -0.016380 -0.016358 -0.012453 -0.018160   \n2015-02-27 -0.002328 -0.004419 -0.003689 -0.004685 -0.003475  0.004007   \n2015-03-31 -0.009995 -0.005912 -0.007026 -0.009991 -0.010323 -0.009394   \n2015-04-30 -0.006327 -0.003140 -0.007843 -0.008770 -0.013993 -0.003302   \n2015-05-29 -0.006499 -0.001148 -0.008903 -0.009984 -0.007351 -0.006334   \n2015-06-30  0.003105  0.007211  0.003698  0.000925  0.000967 -0.001679   \n2015-07-31 -0.002391 -0.022095 -0.003168 -0.000921 -0.003283  0.001990   \n2015-08-31 -0.005059  0.011194 -0.008500 -0.008929 -0.009155 -0.006951   \n2015-09-30  0.021506  0.023472  0.015118  0.014944  0.019686  0.009578   \n\n                 XLU       XLV       XLY  \nDate                                      \n2014-10-31  0.000220  0.004022  0.009739  \n2014-11-28  0.010490  0.006196  0.012048  \n2014-12-31 -0.018257 -0.010040 -0.004011  \n2015-01-30 -0.022307 -0.015755 -0.010941  \n2015-02-27 -0.001105 -0.004833 -0.001316  \n2015-03-31  0.000225 -0.017501 -0.004370  \n2015-04-30 -0.011691 -0.014124 -0.011223  \n2015-05-29 -0.001572 -0.002532 -0.006922  \n2015-06-30 -0.002650  0.003635  0.004718  \n2015-07-31  0.010053  0.005761  0.003121  \n2015-08-31 -0.016120 -0.018414 -0.007706  \n2015-09-30  0.017712  0.020594  0.026341  \n"
     ]
    },
    {
     "name": "stdout",
     "output_type": "stream",
     "text": [
      "                 XLB       XLE       XLF       XLI       XLK       XLP  \\\nDate                                                                     \n2014-11-28 -0.022925 -0.066400  0.000820 -0.008399  0.004718  0.012656   \n2014-12-31 -0.009832 -0.007551 -0.011259 -0.010024 -0.011063 -0.012298   \n2015-01-30 -0.003976  0.008641 -0.016380 -0.016358 -0.012453 -0.018160   \n2015-02-27 -0.002328 -0.004419 -0.003689 -0.004685 -0.003475  0.004007   \n2015-03-31 -0.009995 -0.005912 -0.007026 -0.009991 -0.010323 -0.009394   \n2015-04-30 -0.006327 -0.003140 -0.007843 -0.008770 -0.013993 -0.003302   \n2015-05-29 -0.006499 -0.001148 -0.008903 -0.009984 -0.007351 -0.006334   \n2015-06-30  0.003105  0.007211  0.003698  0.000925  0.000967 -0.001679   \n2015-07-31 -0.002391 -0.022095 -0.003168 -0.000921 -0.003283  0.001990   \n2015-08-31 -0.005059  0.011194 -0.008500 -0.008929 -0.009155 -0.006951   \n2015-09-30  0.021506  0.023472  0.015118  0.014944  0.019686  0.009578   \n2015-10-30  0.001326  0.006489 -0.014430 -0.001289 -0.006622 -0.011164   \n\n                 XLU       XLV       XLY  \nDate                                      \n2014-11-28  0.010490  0.006196  0.012048  \n2014-12-31 -0.018257 -0.010040 -0.004011  \n2015-01-30 -0.022307 -0.015755 -0.010941  \n2015-02-27 -0.001105 -0.004833 -0.001316  \n2015-03-31  0.000225 -0.017501 -0.004370  \n2015-04-30 -0.011691 -0.014124 -0.011223  \n2015-05-29 -0.001572 -0.002532 -0.006922  \n2015-06-30 -0.002650  0.003635  0.004718  \n2015-07-31  0.010053  0.005761  0.003121  \n2015-08-31 -0.016120 -0.018414 -0.007706  \n2015-09-30  0.017712  0.020594  0.026341  \n2015-10-30  0.004582 -0.006288  0.002102  \n                 XLB       XLE       XLF       XLI       XLK       XLP  \\\nDate                                                                     \n2014-12-31 -0.009832 -0.007551 -0.011259 -0.010024 -0.011063 -0.012298   \n2015-01-30 -0.003976  0.008641 -0.016380 -0.016358 -0.012453 -0.018160   \n2015-02-27 -0.002328 -0.004419 -0.003689 -0.004685 -0.003475  0.004007   \n2015-03-31 -0.009995 -0.005912 -0.007026 -0.009991 -0.010323 -0.009394   \n2015-04-30 -0.006327 -0.003140 -0.007843 -0.008770 -0.013993 -0.003302   \n2015-05-29 -0.006499 -0.001148 -0.008903 -0.009984 -0.007351 -0.006334   \n2015-06-30  0.003105  0.007211  0.003698  0.000925  0.000967 -0.001679   \n2015-07-31 -0.002391 -0.022095 -0.003168 -0.000921 -0.003283  0.001990   \n2015-08-31 -0.005059  0.011194 -0.008500 -0.008929 -0.009155 -0.006951   \n2015-09-30  0.021506  0.023472  0.015118  0.014944  0.019686  0.009578   \n2015-10-30  0.001326  0.006489 -0.014430 -0.001289 -0.006622 -0.011164   \n2015-11-30  0.002408  0.003682 -0.000814 -0.006555  0.001138 -0.010868   \n\n                 XLU       XLV       XLY  \nDate                                      \n2014-12-31 -0.018257 -0.010040 -0.004011  \n2015-01-30 -0.022307 -0.015755 -0.010941  \n2015-02-27 -0.001105 -0.004833 -0.001316  \n2015-03-31  0.000225 -0.017501 -0.004370  \n2015-04-30 -0.011691 -0.014124 -0.011223  \n2015-05-29 -0.001572 -0.002532 -0.006922  \n2015-06-30 -0.002650  0.003635  0.004718  \n2015-07-31  0.010053  0.005761  0.003121  \n2015-08-31 -0.016120 -0.018414 -0.007706  \n2015-09-30  0.017712  0.020594  0.026341  \n2015-10-30  0.004582 -0.006288  0.002102  \n2015-11-30  0.001636 -0.013687 -0.008506  \n"
     ]
    },
    {
     "name": "stdout",
     "output_type": "stream",
     "text": [
      "                 XLB       XLE       XLF       XLI       XLK       XLP  \\\nDate                                                                     \n2015-01-30 -0.003976  0.008641 -0.016380 -0.016358 -0.012453 -0.018160   \n2015-02-27 -0.002328 -0.004419 -0.003689 -0.004685 -0.003475  0.004007   \n2015-03-31 -0.009995 -0.005912 -0.007026 -0.009991 -0.010323 -0.009394   \n2015-04-30 -0.006327 -0.003140 -0.007843 -0.008770 -0.013993 -0.003302   \n2015-05-29 -0.006499 -0.001148 -0.008903 -0.009984 -0.007351 -0.006334   \n2015-06-30  0.003105  0.007211  0.003698  0.000925  0.000967 -0.001679   \n2015-07-31 -0.002391 -0.022095 -0.003168 -0.000921 -0.003283  0.001990   \n2015-08-31 -0.005059  0.011194 -0.008500 -0.008929 -0.009155 -0.006951   \n2015-09-30  0.021506  0.023472  0.015118  0.014944  0.019686  0.009578   \n2015-10-30  0.001326  0.006489 -0.014430 -0.001289 -0.006622 -0.011164   \n2015-11-30  0.002408  0.003682 -0.000814 -0.006555  0.001138 -0.010868   \n2015-12-31 -0.008714  0.004486 -0.010021 -0.007330 -0.014142 -0.011226   \n\n                 XLU       XLV       XLY  \nDate                                      \n2015-01-30 -0.022307 -0.015755 -0.010941  \n2015-02-27 -0.001105 -0.004833 -0.001316  \n2015-03-31  0.000225 -0.017501 -0.004370  \n2015-04-30 -0.011691 -0.014124 -0.011223  \n2015-05-29 -0.001572 -0.002532 -0.006922  \n2015-06-30 -0.002650  0.003635  0.004718  \n2015-07-31  0.010053  0.005761  0.003121  \n2015-08-31 -0.016120 -0.018414 -0.007706  \n2015-09-30  0.017712  0.020594  0.026341  \n2015-10-30  0.004582 -0.006288  0.002102  \n2015-11-30  0.001636 -0.013687 -0.008506  \n2015-12-31 -0.010801 -0.008984 -0.010056  \n"
     ]
    },
    {
     "name": "stdout",
     "output_type": "stream",
     "text": [
      "                 XLB       XLE       XLF       XLI       XLK       XLP  \\\nDate                                                                     \n2015-02-27 -0.002328 -0.004419 -0.003689 -0.004685 -0.003475  0.004007   \n2015-03-31 -0.009995 -0.005912 -0.007026 -0.009991 -0.010323 -0.009394   \n2015-04-30 -0.006327 -0.003140 -0.007843 -0.008770 -0.013993 -0.003302   \n2015-05-29 -0.006499 -0.001148 -0.008903 -0.009984 -0.007351 -0.006334   \n2015-06-30  0.003105  0.007211  0.003698  0.000925  0.000967 -0.001679   \n2015-07-31 -0.002391 -0.022095 -0.003168 -0.000921 -0.003283  0.001990   \n2015-08-31 -0.005059  0.011194 -0.008500 -0.008929 -0.009155 -0.006951   \n2015-09-30  0.021506  0.023472  0.015118  0.014944  0.019686  0.009578   \n2015-10-30  0.001326  0.006489 -0.014430 -0.001289 -0.006622 -0.011164   \n2015-11-30  0.002408  0.003682 -0.000814 -0.006555  0.001138 -0.010868   \n2015-12-31 -0.008714  0.004486 -0.010021 -0.007330 -0.014142 -0.011226   \n2016-01-29  0.028517  0.028755  0.027539  0.026555  0.031029  0.020098   \n\n                 XLU       XLV       XLY  \nDate                                      \n2015-02-27 -0.001105 -0.004833 -0.001316  \n2015-03-31  0.000225 -0.017501 -0.004370  \n2015-04-30 -0.011691 -0.014124 -0.011223  \n2015-05-29 -0.001572 -0.002532 -0.006922  \n2015-06-30 -0.002650  0.003635  0.004718  \n2015-07-31  0.010053  0.005761  0.003121  \n2015-08-31 -0.016120 -0.018414 -0.007706  \n2015-09-30  0.017712  0.020594  0.026341  \n2015-10-30  0.004582 -0.006288  0.002102  \n2015-11-30  0.001636 -0.013687 -0.008506  \n2015-12-31 -0.010801 -0.008984 -0.010056  \n2016-01-29  0.019789  0.016228  0.010854  \n                 XLB       XLE       XLF       XLI       XLK       XLP  \\\nDate                                                                     \n2015-03-31 -0.009995 -0.005912 -0.007026 -0.009991 -0.010323 -0.009394   \n2015-04-30 -0.006327 -0.003140 -0.007843 -0.008770 -0.013993 -0.003302   \n2015-05-29 -0.006499 -0.001148 -0.008903 -0.009984 -0.007351 -0.006334   \n2015-06-30  0.003105  0.007211  0.003698  0.000925  0.000967 -0.001679   \n2015-07-31 -0.002391 -0.022095 -0.003168 -0.000921 -0.003283  0.001990   \n2015-08-31 -0.005059  0.011194 -0.008500 -0.008929 -0.009155 -0.006951   \n2015-09-30  0.021506  0.023472  0.015118  0.014944  0.019686  0.009578   \n2015-10-30  0.001326  0.006489 -0.014430 -0.001289 -0.006622 -0.011164   \n2015-11-30  0.002408  0.003682 -0.000814 -0.006555  0.001138 -0.010868   \n2015-12-31 -0.008714  0.004486 -0.010021 -0.007330 -0.014142 -0.011226   \n2016-01-29  0.028517  0.028755  0.027539  0.026555  0.031029  0.020098   \n2016-02-29 -0.006201 -0.011423 -0.010847 -0.006312 -0.007053 -0.003333   \n\n                 XLU       XLV       XLY  \nDate                                      \n2015-03-31  0.000225 -0.017501 -0.004370  \n2015-04-30 -0.011691 -0.014124 -0.011223  \n2015-05-29 -0.001572 -0.002532 -0.006922  \n2015-06-30 -0.002650  0.003635  0.004718  \n2015-07-31  0.010053  0.005761  0.003121  \n2015-08-31 -0.016120 -0.018414 -0.007706  \n2015-09-30  0.017712  0.020594  0.026341  \n2015-10-30  0.004582 -0.006288  0.002102  \n2015-11-30  0.001636 -0.013687 -0.008506  \n2015-12-31 -0.010801 -0.008984 -0.010056  \n2016-01-29  0.019789  0.016228  0.010854  \n2016-02-29  0.002812 -0.016027 -0.005226  "
     ]
    },
    {
     "name": "stdout",
     "output_type": "stream",
     "text": [
      "\n                 XLB       XLE       XLF       XLI       XLK       XLP  \\\nDate                                                                     \n2015-04-30 -0.006327 -0.003140 -0.007843 -0.008770 -0.013993 -0.003302   \n2015-05-29 -0.006499 -0.001148 -0.008903 -0.009984 -0.007351 -0.006334   \n2015-06-30  0.003105  0.007211  0.003698  0.000925  0.000967 -0.001679   \n2015-07-31 -0.002391 -0.022095 -0.003168 -0.000921 -0.003283  0.001990   \n2015-08-31 -0.005059  0.011194 -0.008500 -0.008929 -0.009155 -0.006951   \n2015-09-30  0.021506  0.023472  0.015118  0.014944  0.019686  0.009578   \n2015-10-30  0.001326  0.006489 -0.014430 -0.001289 -0.006622 -0.011164   \n2015-11-30  0.002408  0.003682 -0.000814 -0.006555  0.001138 -0.010868   \n2015-12-31 -0.008714  0.004486 -0.010021 -0.007330 -0.014142 -0.011226   \n2016-01-29  0.028517  0.028755  0.027539  0.026555  0.031029  0.020098   \n2016-02-29 -0.006201 -0.011423 -0.010847 -0.006312 -0.007053 -0.003333   \n2016-03-31 -0.008445 -0.000485 -0.002219 -0.002341 -0.002027 -0.005263   \n\n                 XLU       XLV       XLY  \nDate                                      \n2015-04-30 -0.011691 -0.014124 -0.011223  \n2015-05-29 -0.001572 -0.002532 -0.006922  \n2015-06-30 -0.002650  0.003635  0.004718  \n2015-07-31  0.010053  0.005761  0.003121  \n2015-08-31 -0.016120 -0.018414 -0.007706  \n2015-09-30  0.017712  0.020594  0.026341  \n2015-10-30  0.004582 -0.006288  0.002102  \n2015-11-30  0.001636 -0.013687 -0.008506  \n2015-12-31 -0.010801 -0.008984 -0.010056  \n2016-01-29  0.019789  0.016228  0.010854  \n2016-02-29  0.002812 -0.016027 -0.005226  \n2016-03-31  0.005861 -0.003093 -0.001137  \n"
     ]
    },
    {
     "name": "stdout",
     "output_type": "stream",
     "text": [
      "                 XLB       XLE       XLF       XLI       XLK       XLP  \\\nDate                                                                     \n2015-05-29 -0.006499 -0.001148 -0.008903 -0.009984 -0.007351 -0.006334   \n2015-06-30  0.003105  0.007211  0.003698  0.000925  0.000967 -0.001679   \n2015-07-31 -0.002391 -0.022095 -0.003168 -0.000921 -0.003283  0.001990   \n2015-08-31 -0.005059  0.011194 -0.008500 -0.008929 -0.009155 -0.006951   \n2015-09-30  0.021506  0.023472  0.015118  0.014944  0.019686  0.009578   \n2015-10-30  0.001326  0.006489 -0.014430 -0.001289 -0.006622 -0.011164   \n2015-11-30  0.002408  0.003682 -0.000814 -0.006555  0.001138 -0.010868   \n2015-12-31 -0.008714  0.004486 -0.010021 -0.007330 -0.014142 -0.011226   \n2016-01-29  0.028517  0.028755  0.027539  0.026555  0.031029  0.020098   \n2016-02-29 -0.006201 -0.011423 -0.010847 -0.006312 -0.007053 -0.003333   \n2016-03-31 -0.008445 -0.000485 -0.002219 -0.002341 -0.002027 -0.005263   \n2016-04-29 -0.005927 -0.001628 -0.005562 -0.005859 -0.008744 -0.002101   \n\n                 XLU       XLV       XLY  \nDate                                      \n2015-05-29 -0.001572 -0.002532 -0.006922  \n2015-06-30 -0.002650  0.003635  0.004718  \n2015-07-31  0.010053  0.005761  0.003121  \n2015-08-31 -0.016120 -0.018414 -0.007706  \n2015-09-30  0.017712  0.020594  0.026341  \n2015-10-30  0.004582 -0.006288  0.002102  \n2015-11-30  0.001636 -0.013687 -0.008506  \n2015-12-31 -0.010801 -0.008984 -0.010056  \n2016-01-29  0.019789  0.016228  0.010854  \n2016-02-29  0.002812 -0.016027 -0.005226  \n2016-03-31  0.005861 -0.003093 -0.001137  \n2016-04-29  0.006007 -0.015780  0.005063  \n"
     ]
    },
    {
     "name": "stdout",
     "output_type": "stream",
     "text": [
      "                 XLB       XLE       XLF       XLI       XLK       XLP  \\\nDate                                                                     \n2015-06-30  0.003105  0.007211  0.003698  0.000925  0.000967 -0.001679   \n2015-07-31 -0.002391 -0.022095 -0.003168 -0.000921 -0.003283  0.001990   \n2015-08-31 -0.005059  0.011194 -0.008500 -0.008929 -0.009155 -0.006951   \n2015-09-30  0.021506  0.023472  0.015118  0.014944  0.019686  0.009578   \n2015-10-30  0.001326  0.006489 -0.014430 -0.001289 -0.006622 -0.011164   \n2015-11-30  0.002408  0.003682 -0.000814 -0.006555  0.001138 -0.010868   \n2015-12-31 -0.008714  0.004486 -0.010021 -0.007330 -0.014142 -0.011226   \n2016-01-29  0.028517  0.028755  0.027539  0.026555  0.031029  0.020098   \n2016-02-29 -0.006201 -0.011423 -0.010847 -0.006312 -0.007053 -0.003333   \n2016-03-31 -0.008445 -0.000485 -0.002219 -0.002341 -0.002027 -0.005263   \n2016-04-29 -0.005927 -0.001628 -0.005562 -0.005859 -0.008744 -0.002101   \n2016-05-31 -0.005100 -0.003881 -0.002523 -0.000179  0.002039 -0.006436   \n\n                 XLU       XLV       XLY  \nDate                                      \n2015-06-30 -0.002650  0.003635  0.004718  \n2015-07-31  0.010053  0.005761  0.003121  \n2015-08-31 -0.016120 -0.018414 -0.007706  \n2015-09-30  0.017712  0.020594  0.026341  \n2015-10-30  0.004582 -0.006288  0.002102  \n2015-11-30  0.001636 -0.013687 -0.008506  \n2015-12-31 -0.010801 -0.008984 -0.010056  \n2016-01-29  0.019789  0.016228  0.010854  \n2016-02-29  0.002812 -0.016027 -0.005226  \n2016-03-31  0.005861 -0.003093 -0.001137  \n2016-04-29  0.006007 -0.015780  0.005063  \n2016-05-31  0.006532  0.002385 -0.001009  \n"
     ]
    },
    {
     "name": "stdout",
     "output_type": "stream",
     "text": [
      "                 XLB       XLE       XLF       XLI       XLK       XLP  \\\nDate                                                                     \n2015-07-31 -0.002391 -0.022095 -0.003168 -0.000921 -0.003283  0.001990   \n2015-08-31 -0.005059  0.011194 -0.008500 -0.008929 -0.009155 -0.006951   \n2015-09-30  0.021506  0.023472  0.015118  0.014944  0.019686  0.009578   \n2015-10-30  0.001326  0.006489 -0.014430 -0.001289 -0.006622 -0.011164   \n2015-11-30  0.002408  0.003682 -0.000814 -0.006555  0.001138 -0.010868   \n2015-12-31 -0.008714  0.004486 -0.010021 -0.007330 -0.014142 -0.011226   \n2016-01-29  0.028517  0.028755  0.027539  0.026555  0.031029  0.020098   \n2016-02-29 -0.006201 -0.011423 -0.010847 -0.006312 -0.007053 -0.003333   \n2016-03-31 -0.008445 -0.000485 -0.002219 -0.002341 -0.002027 -0.005263   \n2016-04-29 -0.005927 -0.001628 -0.005562 -0.005859 -0.008744 -0.002101   \n2016-05-31 -0.005100 -0.003881 -0.002523 -0.000179  0.002039 -0.006436   \n2016-06-30  0.015879  0.007945  0.015873  0.018925  0.010896  0.022185   \n\n                 XLU       XLV       XLY  \nDate                                      \n2015-07-31  0.010053  0.005761  0.003121  \n2015-08-31 -0.016120 -0.018414 -0.007706  \n2015-09-30  0.017712  0.020594  0.026341  \n2015-10-30  0.004582 -0.006288  0.002102  \n2015-11-30  0.001636 -0.013687 -0.008506  \n2015-12-31 -0.010801 -0.008984 -0.010056  \n2016-01-29  0.019789  0.016228  0.010854  \n2016-02-29  0.002812 -0.016027 -0.005226  \n2016-03-31  0.005861 -0.003093 -0.001137  \n2016-04-29  0.006007 -0.015780  0.005063  \n2016-05-31  0.006532  0.002385 -0.001009  \n2016-06-30  0.021382  0.009387  0.007329  \n                 XLB       XLE       XLF       XLI       XLK       XLP  \\\nDate                                                                     \n2015-08-31 -0.005059  0.011194 -0.008500 -0.008929 -0.009155 -0.006951   \n2015-09-30  0.021506  0.023472  0.015118  0.014944  0.019686  0.009578   \n2015-10-30  0.001326  0.006489 -0.014430 -0.001289 -0.006622 -0.011164   \n2015-11-30  0.002408  0.003682 -0.000814 -0.006555  0.001138 -0.010868   \n2015-12-31 -0.008714  0.004486 -0.010021 -0.007330 -0.014142 -0.011226   \n2016-01-29  0.028517  0.028755  0.027539  0.026555  0.031029  0.020098   \n2016-02-29 -0.006201 -0.011423 -0.010847 -0.006312 -0.007053 -0.003333   \n2016-03-31 -0.008445 -0.000485 -0.002219 -0.002341 -0.002027 -0.005263   \n2016-04-29 -0.005927 -0.001628 -0.005562 -0.005859 -0.008744 -0.002101   \n2016-05-31 -0.005100 -0.003881 -0.002523 -0.000179  0.002039 -0.006436   \n2016-06-30  0.015879  0.007945  0.015873  0.018925  0.010896  0.022185   \n2016-07-29 -0.005121  0.010143 -0.001690 -0.002925  0.003667  0.004948   \n\n                 XLU       XLV       XLY  \nDate                                      \n2015-08-31 -0.016120 -0.018414 -0.007706  \n2015-09-30  0.017712  0.020594  0.026341  \n2015-10-30  0.004582 -0.006288  0.002102  \n2015-11-30  0.001636 -0.013687 -0.008506  \n2015-12-31 -0.010801 -0.008984 -0.010056  \n2016-01-29  0.019789  0.016228  0.010854  \n2016-02-29  0.002812 -0.016027 -0.005226  \n2016-03-31  0.005861 -0.003093 -0.001137  \n2016-04-29  0.006007 -0.015780  0.005063  \n2016-05-31  0.006532  0.002385 -0.001009  \n2016-06-30  0.021382  0.009387  0.007329  \n2016-07-29  0.005966  0.001997  0.001103  \n"
     ]
    },
    {
     "name": "stdout",
     "output_type": "stream",
     "text": [
      "                 XLB       XLE       XLF       XLI       XLK       XLP  \\\nDate                                                                     \n2015-09-30  0.021506  0.023472  0.015118  0.014944  0.019686  0.009578   \n2015-10-30  0.001326  0.006489 -0.014430 -0.001289 -0.006622 -0.011164   \n2015-11-30  0.002408  0.003682 -0.000814 -0.006555  0.001138 -0.010868   \n2015-12-31 -0.008714  0.004486 -0.010021 -0.007330 -0.014142 -0.011226   \n2016-01-29  0.028517  0.028755  0.027539  0.026555  0.031029  0.020098   \n2016-02-29 -0.006201 -0.011423 -0.010847 -0.006312 -0.007053 -0.003333   \n2016-03-31 -0.008445 -0.000485 -0.002219 -0.002341 -0.002027 -0.005263   \n2016-04-29 -0.005927 -0.001628 -0.005562 -0.005859 -0.008744 -0.002101   \n2016-05-31 -0.005100 -0.003881 -0.002523 -0.000179  0.002039 -0.006436   \n2016-06-30  0.015879  0.007945  0.015873  0.018925  0.010896  0.022185   \n2016-07-29 -0.005121  0.010143 -0.001690 -0.002925  0.003667  0.004948   \n2016-08-31 -0.010040 -0.015929  0.000815 -0.005616 -0.001701  0.001288   \n\n                 XLU       XLV       XLY  \nDate                                      \n2015-09-30  0.017712  0.020594  0.026341  \n2015-10-30  0.004582 -0.006288  0.002102  \n2015-11-30  0.001636 -0.013687 -0.008506  \n2015-12-31 -0.010801 -0.008984 -0.010056  \n2016-01-29  0.019789  0.016228  0.010854  \n2016-02-29  0.002812 -0.016027 -0.005226  \n2016-03-31  0.005861 -0.003093 -0.001137  \n2016-04-29  0.006007 -0.015780  0.005063  \n2016-05-31  0.006532  0.002385 -0.001009  \n2016-06-30  0.021382  0.009387  0.007329  \n2016-07-29  0.005966  0.001997  0.001103  \n2016-08-31  0.004071 -0.003019 -0.002603  \n"
     ]
    },
    {
     "name": "stdout",
     "output_type": "stream",
     "text": [
      "                 XLB       XLE       XLF       XLI       XLK       XLP  \\\nDate                                                                     \n2015-10-30  0.001326  0.006489 -0.014430 -0.001289 -0.006622 -0.011164   \n2015-11-30  0.002408  0.003682 -0.000814 -0.006555  0.001138 -0.010868   \n2015-12-31 -0.008714  0.004486 -0.010021 -0.007330 -0.014142 -0.011226   \n2016-01-29  0.028517  0.028755  0.027539  0.026555  0.031029  0.020098   \n2016-02-29 -0.006201 -0.011423 -0.010847 -0.006312 -0.007053 -0.003333   \n2016-03-31 -0.008445 -0.000485 -0.002219 -0.002341 -0.002027 -0.005263   \n2016-04-29 -0.005927 -0.001628 -0.005562 -0.005859 -0.008744 -0.002101   \n2016-05-31 -0.005100 -0.003881 -0.002523 -0.000179  0.002039 -0.006436   \n2016-06-30  0.015879  0.007945  0.015873  0.018925  0.010896  0.022185   \n2016-07-29 -0.005121  0.010143 -0.001690 -0.002925  0.003667  0.004948   \n2016-08-31 -0.010040 -0.015929  0.000815 -0.005616 -0.001701  0.001288   \n2016-09-30  0.007357  0.013546  0.013563  0.008947  0.005246  0.010011   \n\n                 XLU       XLV       XLY  \nDate                                      \n2015-10-30  0.004582 -0.006288  0.002102  \n2015-11-30  0.001636 -0.013687 -0.008506  \n2015-12-31 -0.010801 -0.008984 -0.010056  \n2016-01-29  0.019789  0.016228  0.010854  \n2016-02-29  0.002812 -0.016027 -0.005226  \n2016-03-31  0.005861 -0.003093 -0.001137  \n2016-04-29  0.006007 -0.015780  0.005063  \n2016-05-31  0.006532  0.002385 -0.001009  \n2016-06-30  0.021382  0.009387  0.007329  \n2016-07-29  0.005966  0.001997  0.001103  \n2016-08-31  0.004071 -0.003019 -0.002603  \n2016-09-30 -0.006916  0.010175  0.008028  \n"
     ]
    },
    {
     "name": "stdout",
     "output_type": "stream",
     "text": [
      "                 XLB       XLE       XLF       XLI       XLK       XLP  \\\nDate                                                                     \n2015-11-30  0.002408  0.003682 -0.000814 -0.006555  0.001138 -0.010868   \n2015-12-31 -0.008714  0.004486 -0.010021 -0.007330 -0.014142 -0.011226   \n2016-01-29  0.028517  0.028755  0.027539  0.026555  0.031029  0.020098   \n2016-02-29 -0.006201 -0.011423 -0.010847 -0.006312 -0.007053 -0.003333   \n2016-03-31 -0.008445 -0.000485 -0.002219 -0.002341 -0.002027 -0.005263   \n2016-04-29 -0.005927 -0.001628 -0.005562 -0.005859 -0.008744 -0.002101   \n2016-05-31 -0.005100 -0.003881 -0.002523 -0.000179  0.002039 -0.006436   \n2016-06-30  0.015879  0.007945  0.015873  0.018925  0.010896  0.022185   \n2016-07-29 -0.005121  0.010143 -0.001690 -0.002925  0.003667  0.004948   \n2016-08-31 -0.010040 -0.015929  0.000815 -0.005616 -0.001701  0.001288   \n2016-09-30  0.007357  0.013546  0.013563  0.008947  0.005246  0.010011   \n2016-10-31  0.000428 -0.010870 -0.001519  0.001925 -0.000422  0.002465   \n\n                 XLU       XLV       XLY  \nDate                                      \n2015-11-30  0.001636 -0.013687 -0.008506  \n2015-12-31 -0.010801 -0.008984 -0.010056  \n2016-01-29  0.019789  0.016228  0.010854  \n2016-02-29  0.002812 -0.016027 -0.005226  \n2016-03-31  0.005861 -0.003093 -0.001137  \n2016-04-29  0.006007 -0.015780  0.005063  \n2016-05-31  0.006532  0.002385 -0.001009  \n2016-06-30  0.021382  0.009387  0.007329  \n2016-07-29  0.005966  0.001997  0.001103  \n2016-08-31  0.004071 -0.003019 -0.002603  \n2016-09-30 -0.006916  0.010175  0.008028  \n2016-10-31  0.019819 -0.006216  0.000768  \n"
     ]
    },
    {
     "name": "stdout",
     "output_type": "stream",
     "text": [
      "                 XLB       XLE       XLF       XLI       XLK       XLP  \\\nDate                                                                     \n2015-12-31 -0.008714  0.004486 -0.010021 -0.007330 -0.014142 -0.011226   \n2016-01-29  0.028517  0.028755  0.027539  0.026555  0.031029  0.020098   \n2016-02-29 -0.006201 -0.011423 -0.010847 -0.006312 -0.007053 -0.003333   \n2016-03-31 -0.008445 -0.000485 -0.002219 -0.002341 -0.002027 -0.005263   \n2016-04-29 -0.005927 -0.001628 -0.005562 -0.005859 -0.008744 -0.002101   \n2016-05-31 -0.005100 -0.003881 -0.002523 -0.000179  0.002039 -0.006436   \n2016-06-30  0.015879  0.007945  0.015873  0.018925  0.010896  0.022185   \n2016-07-29 -0.005121  0.010143 -0.001690 -0.002925  0.003667  0.004948   \n2016-08-31 -0.010040 -0.015929  0.000815 -0.005616 -0.001701  0.001288   \n2016-09-30  0.007357  0.013546  0.013563  0.008947  0.005246  0.010011   \n2016-10-31  0.000428 -0.010870 -0.001519  0.001925 -0.000422  0.002465   \n2016-11-30  0.010670  0.049576  0.013417  0.001283 -0.011928 -0.016082   \n\n                 XLU       XLV       XLY  \nDate                                      \n2015-12-31 -0.010801 -0.008984 -0.010056  \n2016-01-29  0.019789  0.016228  0.010854  \n2016-02-29  0.002812 -0.016027 -0.005226  \n2016-03-31  0.005861 -0.003093 -0.001137  \n2016-04-29  0.006007 -0.015780  0.005063  \n2016-05-31  0.006532  0.002385 -0.001009  \n2016-06-30  0.021382  0.009387  0.007329  \n2016-07-29  0.005966  0.001997  0.001103  \n2016-08-31  0.004071 -0.003019 -0.002603  \n2016-09-30 -0.006916  0.010175  0.008028  \n2016-10-31  0.019819 -0.006216  0.000768  \n2016-11-30 -0.031996 -0.009554 -0.008395  \n                 XLB       XLE       XLF       XLI       XLK       XLP  \\\nDate                                                                     \n2016-01-29  0.028517  0.028755  0.027539  0.026555  0.031029  0.020098   \n2016-02-29 -0.006201 -0.011423 -0.010847 -0.006312 -0.007053 -0.003333   \n2016-03-31 -0.008445 -0.000485 -0.002219 -0.002341 -0.002027 -0.005263   \n2016-04-29 -0.005927 -0.001628 -0.005562 -0.005859 -0.008744 -0.002101   \n2016-05-31 -0.005100 -0.003881 -0.002523 -0.000179  0.002039 -0.006436   \n2016-06-30  0.015879  0.007945  0.015873  0.018925  0.010896  0.022185   \n2016-07-29 -0.005121  0.010143 -0.001690 -0.002925  0.003667  0.004948   \n2016-08-31 -0.010040 -0.015929  0.000815 -0.005616 -0.001701  0.001288   \n2016-09-30  0.007357  0.013546  0.013563  0.008947  0.005246  0.010011   \n2016-10-31  0.000428 -0.010870 -0.001519  0.001925 -0.000422  0.002465   \n2016-11-30  0.010670  0.049576  0.013417  0.001283 -0.011928 -0.016082   \n2016-12-30 -0.006618 -0.002917  0.002153 -0.003530 -0.007827 -0.005015   \n\n                 XLU       XLV       XLY  \nDate                                      \n2016-01-29  0.019789  0.016228  0.010854  \n2016-02-29  0.002812 -0.016027 -0.005226  \n2016-03-31  0.005861 -0.003093 -0.001137  \n2016-04-29  0.006007 -0.015780  0.005063  \n2016-05-31  0.006532  0.002385 -0.001009  \n2016-06-30  0.021382  0.009387  0.007329  \n2016-07-29  0.005966  0.001997  0.001103  \n2016-08-31  0.004071 -0.003019 -0.002603  \n2016-09-30 -0.006916  0.010175  0.008028  \n2016-10-31  0.019819 -0.006216  0.000768  \n2016-11-30 -0.031996 -0.009554 -0.008395  \n2016-12-30 -0.005544 -0.003620 -0.008441  \n"
     ]
    },
    {
     "name": "stdout",
     "output_type": "stream",
     "text": [
      "                 XLB       XLE       XLF       XLI       XLK       XLP  \\\nDate                                                                     \n2016-02-29 -0.006201 -0.011423 -0.010847 -0.006312 -0.007053 -0.003333   \n2016-03-31 -0.008445 -0.000485 -0.002219 -0.002341 -0.002027 -0.005263   \n2016-04-29 -0.005927 -0.001628 -0.005562 -0.005859 -0.008744 -0.002101   \n2016-05-31 -0.005100 -0.003881 -0.002523 -0.000179  0.002039 -0.006436   \n2016-06-30  0.015879  0.007945  0.015873  0.018925  0.010896  0.022185   \n2016-07-29 -0.005121  0.010143 -0.001690 -0.002925  0.003667  0.004948   \n2016-08-31 -0.010040 -0.015929  0.000815 -0.005616 -0.001701  0.001288   \n2016-09-30  0.007357  0.013546  0.013563  0.008947  0.005246  0.010011   \n2016-10-31  0.000428 -0.010870 -0.001519  0.001925 -0.000422  0.002465   \n2016-11-30  0.010670  0.049576  0.013417  0.001283 -0.011928 -0.016082   \n2016-12-30 -0.006618 -0.002917  0.002153 -0.003530 -0.007827 -0.005015   \n2017-01-31 -0.005948  0.000412 -0.006414 -0.008797 -0.004980  0.004765   \n\n                 XLU       XLV       XLY  \nDate                                      \n2016-02-29  0.002812 -0.016027 -0.005226  \n2016-03-31  0.005861 -0.003093 -0.001137  \n2016-04-29  0.006007 -0.015780  0.005063  \n2016-05-31  0.006532  0.002385 -0.001009  \n2016-06-30  0.021382  0.009387  0.007329  \n2016-07-29  0.005966  0.001997  0.001103  \n2016-08-31  0.004071 -0.003019 -0.002603  \n2016-09-30 -0.006916  0.010175  0.008028  \n2016-10-31  0.019819 -0.006216  0.000768  \n2016-11-30 -0.031996 -0.009554 -0.008395  \n2016-12-30 -0.005544 -0.003620 -0.008441  \n2017-01-31  0.015368  0.015865 -0.001531  \n                 XLB       XLE       XLF       XLI       XLK       XLP  \\\nDate                                                                     \n2016-03-31 -0.008445 -0.000485 -0.002219 -0.002341 -0.002027 -0.005263   \n2016-04-29 -0.005927 -0.001628 -0.005562 -0.005859 -0.008744 -0.002101   \n2016-05-31 -0.005100 -0.003881 -0.002523 -0.000179  0.002039 -0.006436   \n2016-06-30  0.015879  0.007945  0.015873  0.018925  0.010896  0.022185   \n2016-07-29 -0.005121  0.010143 -0.001690 -0.002925  0.003667  0.004948   \n2016-08-31 -0.010040 -0.015929  0.000815 -0.005616 -0.001701  0.001288   \n2016-09-30  0.007357  0.013546  0.013563  0.008947  0.005246  0.010011   \n2016-10-31  0.000428 -0.010870 -0.001519  0.001925 -0.000422  0.002465   \n2016-11-30  0.010670  0.049576  0.013417  0.001283 -0.011928 -0.016082   \n2016-12-30 -0.006618 -0.002917  0.002153 -0.003530 -0.007827 -0.005015   \n2017-01-31 -0.005948  0.000412 -0.006414 -0.008797 -0.004980  0.004765   \n2017-02-28 -0.000956 -0.003077 -0.000407 -0.004091 -0.004764  0.001271   \n\n                 XLU       XLV       XLY  \nDate                                      \n2016-03-31  0.005861 -0.003093 -0.001137  \n2016-04-29  0.006007 -0.015780  0.005063  \n2016-05-31  0.006532  0.002385 -0.001009  \n2016-06-30  0.021382  0.009387  0.007329  \n2016-07-29  0.005966  0.001997  0.001103  \n2016-08-31  0.004071 -0.003019 -0.002603  \n2016-09-30 -0.006916  0.010175  0.008028  \n2016-10-31  0.019819 -0.006216  0.000768  \n2016-11-30 -0.031996 -0.009554 -0.008395  \n2016-12-30 -0.005544 -0.003620 -0.008441  \n2017-01-31  0.015368  0.015865 -0.001531  \n2017-02-28  0.009120 -0.001998 -0.007497  \n"
     ]
    },
    {
     "name": "stdout",
     "output_type": "stream",
     "text": [
      "                 XLB       XLE       XLF       XLI       XLK       XLP  \\\nDate                                                                     \n2016-04-29 -0.005927 -0.001628 -0.005562 -0.005859 -0.008744 -0.002101   \n2016-05-31 -0.005100 -0.003881 -0.002523 -0.000179  0.002039 -0.006436   \n2016-06-30  0.015879  0.007945  0.015873  0.018925  0.010896  0.022185   \n2016-07-29 -0.005121  0.010143 -0.001690 -0.002925  0.003667  0.004948   \n2016-08-31 -0.010040 -0.015929  0.000815 -0.005616 -0.001701  0.001288   \n2016-09-30  0.007357  0.013546  0.013563  0.008947  0.005246  0.010011   \n2016-10-31  0.000428 -0.010870 -0.001519  0.001925 -0.000422  0.002465   \n2016-11-30  0.010670  0.049576  0.013417  0.001283 -0.011928 -0.016082   \n2016-12-30 -0.006618 -0.002917  0.002153 -0.003530 -0.007827 -0.005015   \n2017-01-31 -0.005948  0.000412 -0.006414 -0.008797 -0.004980  0.004765   \n2017-02-28 -0.000956 -0.003077 -0.000407 -0.004091 -0.004764  0.001271   \n2017-03-31 -0.000191 -0.003427 -0.008393 -0.004141 -0.001874 -0.002927   \n\n                 XLU       XLV       XLY  \nDate                                      \n2016-04-29  0.006007 -0.015780  0.005063  \n2016-05-31  0.006532  0.002385 -0.001009  \n2016-06-30  0.021382  0.009387  0.007329  \n2016-07-29  0.005966  0.001997  0.001103  \n2016-08-31  0.004071 -0.003019 -0.002603  \n2016-09-30 -0.006916  0.010175  0.008028  \n2016-10-31  0.019819 -0.006216  0.000768  \n2016-11-30 -0.031996 -0.009554 -0.008395  \n2016-12-30 -0.005544 -0.003620 -0.008441  \n2017-01-31  0.015368  0.015865 -0.001531  \n2017-02-28  0.009120 -0.001998 -0.007497  \n2017-03-31  0.003906 -0.002820  0.000114  \n"
     ]
    },
    {
     "name": "stdout",
     "output_type": "stream",
     "text": [
      "                 XLB       XLE       XLF       XLI       XLK       XLP  \\\nDate                                                                     \n2016-05-31 -0.005100 -0.003881 -0.002523 -0.000179  0.002039 -0.006436   \n2016-06-30  0.015879  0.007945  0.015873  0.018925  0.010896  0.022185   \n2016-07-29 -0.005121  0.010143 -0.001690 -0.002925  0.003667  0.004948   \n2016-08-31 -0.010040 -0.015929  0.000815 -0.005616 -0.001701  0.001288   \n2016-09-30  0.007357  0.013546  0.013563  0.008947  0.005246  0.010011   \n2016-10-31  0.000428 -0.010870 -0.001519  0.001925 -0.000422  0.002465   \n2016-11-30  0.010670  0.049576  0.013417  0.001283 -0.011928 -0.016082   \n2016-12-30 -0.006618 -0.002917  0.002153 -0.003530 -0.007827 -0.005015   \n2017-01-31 -0.005948  0.000412 -0.006414 -0.008797 -0.004980  0.004765   \n2017-02-28 -0.000956 -0.003077 -0.000407 -0.004091 -0.004764  0.001271   \n2017-03-31 -0.000191 -0.003427 -0.008393 -0.004141 -0.001874 -0.002927   \n2017-04-28 -0.008444  0.000737 -0.009727 -0.004662  0.002578 -0.000362   \n\n                 XLU       XLV       XLY  \nDate                                      \n2016-05-31  0.006532  0.002385 -0.001009  \n2016-06-30  0.021382  0.009387  0.007329  \n2016-07-29  0.005966  0.001997  0.001103  \n2016-08-31  0.004071 -0.003019 -0.002603  \n2016-09-30 -0.006916  0.010175  0.008028  \n2016-10-31  0.019819 -0.006216  0.000768  \n2016-11-30 -0.031996 -0.009554 -0.008395  \n2016-12-30 -0.005544 -0.003620 -0.008441  \n2017-01-31  0.015368  0.015865 -0.001531  \n2017-02-28  0.009120 -0.001998 -0.007497  \n2017-03-31  0.003906 -0.002820  0.000114  \n2017-04-28 -0.004824  0.002652 -0.003989  \n                 XLB       XLE       XLF       XLI       XLK       XLP  \\\nDate                                                                     \n2016-06-30  0.015879  0.007945  0.015873  0.018925  0.010896  0.022185   \n2016-07-29 -0.005121  0.010143 -0.001690 -0.002925  0.003667  0.004948   \n2016-08-31 -0.010040 -0.015929  0.000815 -0.005616 -0.001701  0.001288   \n2016-09-30  0.007357  0.013546  0.013563  0.008947  0.005246  0.010011   \n2016-10-31  0.000428 -0.010870 -0.001519  0.001925 -0.000422  0.002465   \n2016-11-30  0.010670  0.049576  0.013417  0.001283 -0.011928 -0.016082   \n2016-12-30 -0.006618 -0.002917  0.002153 -0.003530 -0.007827 -0.005015   \n2017-01-31 -0.005948  0.000412 -0.006414 -0.008797 -0.004980  0.004765   \n2017-02-28 -0.000956 -0.003077 -0.000407 -0.004091 -0.004764  0.001271   \n2017-03-31 -0.000191 -0.003427 -0.008393 -0.004141 -0.001874 -0.002927   \n2017-04-28 -0.008444  0.000737 -0.009727 -0.004662  0.002578 -0.000362   \n2017-05-31  0.003019 -0.004269 -0.008565  0.001927 -0.001591  0.002829   \n\n                 XLU       XLV       XLY  \nDate                                      \n2016-06-30  0.021382  0.009387  0.007329  \n2016-07-29  0.005966  0.001997  0.001103  \n2016-08-31  0.004071 -0.003019 -0.002603  \n2016-09-30 -0.006916  0.010175  0.008028  \n2016-10-31  0.019819 -0.006216  0.000768  \n2016-11-30 -0.031996 -0.009554 -0.008395  \n2016-12-30 -0.005544 -0.003620 -0.008441  \n2017-01-31  0.015368  0.015865 -0.001531  \n2017-02-28  0.009120 -0.001998 -0.007497  \n2017-03-31  0.003906 -0.002820  0.000114  \n2017-04-28 -0.004824  0.002652 -0.003989  \n2017-05-31  0.005027  0.003951  0.002639  \n"
     ]
    },
    {
     "name": "stdout",
     "output_type": "stream",
     "text": [
      "                 XLB       XLE       XLF       XLI       XLK       XLP  \\\nDate                                                                     \n2016-07-29 -0.005121  0.010143 -0.001690 -0.002925  0.003667  0.004948   \n2016-08-31 -0.010040 -0.015929  0.000815 -0.005616 -0.001701  0.001288   \n2016-09-30  0.007357  0.013546  0.013563  0.008947  0.005246  0.010011   \n2016-10-31  0.000428 -0.010870 -0.001519  0.001925 -0.000422  0.002465   \n2016-11-30  0.010670  0.049576  0.013417  0.001283 -0.011928 -0.016082   \n2016-12-30 -0.006618 -0.002917  0.002153 -0.003530 -0.007827 -0.005015   \n2017-01-31 -0.005948  0.000412 -0.006414 -0.008797 -0.004980  0.004765   \n2017-02-28 -0.000956 -0.003077 -0.000407 -0.004091 -0.004764  0.001271   \n2017-03-31 -0.000191 -0.003427 -0.008393 -0.004141 -0.001874 -0.002927   \n2017-04-28 -0.008444  0.000737 -0.009727 -0.004662  0.002578 -0.000362   \n2017-05-31  0.003019 -0.004269 -0.008565  0.001927 -0.001591  0.002829   \n2017-06-30  0.005404  0.004477 -0.000810  0.008256 -0.000913  0.001822   \n\n                 XLU       XLV       XLY  \nDate                                      \n2016-07-29  0.005966  0.001997  0.001103  \n2016-08-31  0.004071 -0.003019 -0.002603  \n2016-09-30 -0.006916  0.010175  0.008028  \n2016-10-31  0.019819 -0.006216  0.000768  \n2016-11-30 -0.031996 -0.009554 -0.008395  \n2016-12-30 -0.005544 -0.003620 -0.008441  \n2017-01-31  0.015368  0.015865 -0.001531  \n2017-02-28  0.009120 -0.001998 -0.007497  \n2017-03-31  0.003906 -0.002820  0.000114  \n2017-04-28 -0.004824  0.002652 -0.003989  \n2017-05-31  0.005027  0.003951  0.002639  \n2017-06-30 -0.001539 -0.001387  0.005257  \n"
     ]
    },
    {
     "name": "stdout",
     "output_type": "stream",
     "text": [
      "                 XLB       XLE       XLF       XLI       XLK       XLP  \\\nDate                                                                     \n2016-08-31 -0.010040 -0.015929  0.000815 -0.005616 -0.001701  0.001288   \n2016-09-30  0.007357  0.013546  0.013563  0.008947  0.005246  0.010011   \n2016-10-31  0.000428 -0.010870 -0.001519  0.001925 -0.000422  0.002465   \n2016-11-30  0.010670  0.049576  0.013417  0.001283 -0.011928 -0.016082   \n2016-12-30 -0.006618 -0.002917  0.002153 -0.003530 -0.007827 -0.005015   \n2017-01-31 -0.005948  0.000412 -0.006414 -0.008797 -0.004980  0.004765   \n2017-02-28 -0.000956 -0.003077 -0.000407 -0.004091 -0.004764  0.001271   \n2017-03-31 -0.000191 -0.003427 -0.008393 -0.004141 -0.001874 -0.002927   \n2017-04-28 -0.008444  0.000737 -0.009727 -0.004662  0.002578 -0.000362   \n2017-05-31  0.003019 -0.004269 -0.008565  0.001927 -0.001591  0.002829   \n2017-06-30  0.005404  0.004477 -0.000810  0.008256 -0.000913  0.001822   \n2017-07-31 -0.007657  0.002254  0.007200 -0.001317 -0.004887 -0.000361   \n\n                 XLU       XLV       XLY  \nDate                                      \n2016-08-31  0.004071 -0.003019 -0.002603  \n2016-09-30 -0.006916  0.010175  0.008028  \n2016-10-31  0.019819 -0.006216  0.000768  \n2016-11-30 -0.031996 -0.009554 -0.008395  \n2016-12-30 -0.005544 -0.003620 -0.008441  \n2017-01-31  0.015368  0.015865 -0.001531  \n2017-02-28  0.009120 -0.001998 -0.007497  \n2017-03-31  0.003906 -0.002820  0.000114  \n2017-04-28 -0.004824  0.002652 -0.003989  \n2017-05-31  0.005027  0.003951  0.002639  \n2017-06-30 -0.001539 -0.001387  0.005257  \n2017-07-31  0.003388 -0.000876 -0.000328  \n"
     ]
    },
    {
     "name": "stdout",
     "output_type": "stream",
     "text": [
      "                 XLB       XLE       XLF       XLI       XLK       XLP  \\\nDate                                                                     \n2016-09-30  0.007357  0.013546  0.013563  0.008947  0.005246  0.010011   \n2016-10-31  0.000428 -0.010870 -0.001519  0.001925 -0.000422  0.002465   \n2016-11-30  0.010670  0.049576  0.013417  0.001283 -0.011928 -0.016082   \n2016-12-30 -0.006618 -0.002917  0.002153 -0.003530 -0.007827 -0.005015   \n2017-01-31 -0.005948  0.000412 -0.006414 -0.008797 -0.004980  0.004765   \n2017-02-28 -0.000956 -0.003077 -0.000407 -0.004091 -0.004764  0.001271   \n2017-03-31 -0.000191 -0.003427 -0.008393 -0.004141 -0.001874 -0.002927   \n2017-04-28 -0.008444  0.000737 -0.009727 -0.004662  0.002578 -0.000362   \n2017-05-31  0.003019 -0.004269 -0.008565  0.001927 -0.001591  0.002829   \n2017-06-30  0.005404  0.004477 -0.000810  0.008256 -0.000913  0.001822   \n2017-07-31 -0.007657  0.002254  0.007200 -0.001317 -0.004887 -0.000361   \n2017-08-31  0.007656  0.004776  0.001215  0.003365  0.005967  0.000366   \n\n                 XLU       XLV       XLY  \nDate                                      \n2016-09-30 -0.006916  0.010175  0.008028  \n2016-10-31  0.019819 -0.006216  0.000768  \n2016-11-30 -0.031996 -0.009554 -0.008395  \n2016-12-30 -0.005544 -0.003620 -0.008441  \n2017-01-31  0.015368  0.015865 -0.001531  \n2017-02-28  0.009120 -0.001998 -0.007497  \n2017-03-31  0.003906 -0.002820  0.000114  \n2017-04-28 -0.004824  0.002652 -0.003989  \n2017-05-31  0.005027  0.003951  0.002639  \n2017-06-30 -0.001539 -0.001387  0.005257  \n2017-07-31  0.003388 -0.000876 -0.000328  \n2017-08-31  0.000182  0.016872  0.004695  \n                 XLB       XLE       XLF       XLI       XLK       XLP  \\\nDate                                                                     \n2016-10-31  0.000428 -0.010870 -0.001519  0.001925 -0.000422  0.002465   \n2016-11-30  0.010670  0.049576  0.013417  0.001283 -0.011928 -0.016082   \n2016-12-30 -0.006618 -0.002917  0.002153 -0.003530 -0.007827 -0.005015   \n2017-01-31 -0.005948  0.000412 -0.006414 -0.008797 -0.004980  0.004765   \n2017-02-28 -0.000956 -0.003077 -0.000407 -0.004091 -0.004764  0.001271   \n2017-03-31 -0.000191 -0.003427 -0.008393 -0.004141 -0.001874 -0.002927   \n2017-04-28 -0.008444  0.000737 -0.009727 -0.004662  0.002578 -0.000362   \n2017-05-31  0.003019 -0.004269 -0.008565  0.001927 -0.001591  0.002829   \n2017-06-30  0.005404  0.004477 -0.000810  0.008256 -0.000913  0.001822   \n2017-07-31 -0.007657  0.002254  0.007200 -0.001317 -0.004887 -0.000361   \n2017-08-31  0.007656  0.004776  0.001215  0.003365  0.005967  0.000366   \n2017-09-29  0.000000 -0.000146  0.004651  0.002962  0.006791 -0.000741   \n\n                 XLU       XLV       XLY  \nDate                                      \n2016-10-31  0.019819 -0.006216  0.000768  \n2016-11-30 -0.031996 -0.009554 -0.008395  \n2016-12-30 -0.005544 -0.003620 -0.008441  \n2017-01-31  0.015368  0.015865 -0.001531  \n2017-02-28  0.009120 -0.001998 -0.007497  \n2017-03-31  0.003906 -0.002820  0.000114  \n2017-04-28 -0.004824  0.002652 -0.003989  \n2017-05-31  0.005027  0.003951  0.002639  \n2017-06-30 -0.001539 -0.001387  0.005257  \n2017-07-31  0.003388 -0.000876 -0.000328  \n2017-08-31  0.000182  0.016872  0.004695  \n2017-09-29 -0.000754  0.005890  0.003782  \n"
     ]
    },
    {
     "name": "stdout",
     "output_type": "stream",
     "text": [
      "                 XLB       XLE       XLF       XLI       XLK       XLP  \\\nDate                                                                     \n2016-11-30  0.010670  0.049576  0.013417  0.001283 -0.011928 -0.016082   \n2016-12-30 -0.006618 -0.002917  0.002153 -0.003530 -0.007827 -0.005015   \n2017-01-31 -0.005948  0.000412 -0.006414 -0.008797 -0.004980  0.004765   \n2017-02-28 -0.000956 -0.003077 -0.000407 -0.004091 -0.004764  0.001271   \n2017-03-31 -0.000191 -0.003427 -0.008393 -0.004141 -0.001874 -0.002927   \n2017-04-28 -0.008444  0.000737 -0.009727 -0.004662  0.002578 -0.000362   \n2017-05-31  0.003019 -0.004269 -0.008565  0.001927 -0.001591  0.002829   \n2017-06-30  0.005404  0.004477 -0.000810  0.008256 -0.000913  0.001822   \n2017-07-31 -0.007657  0.002254  0.007200 -0.001317 -0.004887 -0.000361   \n2017-08-31  0.007656  0.004776  0.001215  0.003365  0.005967  0.000366   \n2017-09-29  0.000000 -0.000146  0.004651  0.002962  0.006791 -0.000741   \n2017-10-31  0.002716  0.003245 -0.002628 -0.004046  0.004298  0.008322   \n\n                 XLU       XLV       XLY  \nDate                                      \n2016-11-30 -0.031996 -0.009554 -0.008395  \n2016-12-30 -0.005544 -0.003620 -0.008441  \n2017-01-31  0.015368  0.015865 -0.001531  \n2017-02-28  0.009120 -0.001998 -0.007497  \n2017-03-31  0.003906 -0.002820  0.000114  \n2017-04-28 -0.004824  0.002652 -0.003989  \n2017-05-31  0.005027  0.003951  0.002639  \n2017-06-30 -0.001539 -0.001387  0.005257  \n2017-07-31  0.003388 -0.000876 -0.000328  \n2017-08-31  0.000182  0.016872  0.004695  \n2017-09-29 -0.000754  0.005890  0.003782  \n2017-10-31  0.001089 -0.001848  0.000109  \n"
     ]
    },
    {
     "name": "stdout",
     "output_type": "stream",
     "text": [
      "                 XLB       XLE       XLF       XLI       XLK       XLP  \\\nDate                                                                     \n2016-12-30 -0.006618 -0.002917  0.002153 -0.003530 -0.007827 -0.005015   \n2017-01-31 -0.005948  0.000412 -0.006414 -0.008797 -0.004980  0.004765   \n2017-02-28 -0.000956 -0.003077 -0.000407 -0.004091 -0.004764  0.001271   \n2017-03-31 -0.000191 -0.003427 -0.008393 -0.004141 -0.001874 -0.002927   \n2017-04-28 -0.008444  0.000737 -0.009727 -0.004662  0.002578 -0.000362   \n2017-05-31  0.003019 -0.004269 -0.008565  0.001927 -0.001591  0.002829   \n2017-06-30  0.005404  0.004477 -0.000810  0.008256 -0.000913  0.001822   \n2017-07-31 -0.007657  0.002254  0.007200 -0.001317 -0.004887 -0.000361   \n2017-08-31  0.007656  0.004776  0.001215  0.003365  0.005967  0.000366   \n2017-09-29  0.000000 -0.000146  0.004651  0.002962  0.006791 -0.000741   \n2017-10-31  0.002716  0.003245 -0.002628 -0.004046  0.004298  0.008322   \n2017-11-30  0.005556  0.014871  0.006562  0.016919  0.008811  0.009141   \n\n                 XLU       XLV       XLY  \nDate                                      \n2016-12-30 -0.005544 -0.003620 -0.008441  \n2017-01-31  0.015368  0.015865 -0.001531  \n2017-02-28  0.009120 -0.001998 -0.007497  \n2017-03-31  0.003906 -0.002820  0.000114  \n2017-04-28 -0.004824  0.002652 -0.003989  \n2017-05-31  0.005027  0.003951  0.002639  \n2017-06-30 -0.001539 -0.001387  0.005257  \n2017-07-31  0.003388 -0.000876 -0.000328  \n2017-08-31  0.000182  0.016872  0.004695  \n2017-09-29 -0.000754  0.005890  0.003782  \n2017-10-31  0.001089 -0.001848  0.000109  \n2017-11-30  0.003362  0.007456  0.005083  \n                 XLB       XLE       XLF       XLI       XLK       XLP  \\\nDate                                                                     \n2017-01-31 -0.005948  0.000412 -0.006414 -0.008797 -0.004980  0.004765   \n2017-02-28 -0.000956 -0.003077 -0.000407 -0.004091 -0.004764  0.001271   \n2017-03-31 -0.000191 -0.003427 -0.008393 -0.004141 -0.001874 -0.002927   \n2017-04-28 -0.008444  0.000737 -0.009727 -0.004662  0.002578 -0.000362   \n2017-05-31  0.003019 -0.004269 -0.008565  0.001927 -0.001591  0.002829   \n2017-06-30  0.005404  0.004477 -0.000810  0.008256 -0.000913  0.001822   \n2017-07-31 -0.007657  0.002254  0.007200 -0.001317 -0.004887 -0.000361   \n2017-08-31  0.007656  0.004776  0.001215  0.003365  0.005967  0.000366   \n2017-09-29  0.000000 -0.000146  0.004651  0.002962  0.006791 -0.000741   \n2017-10-31  0.002716  0.003245 -0.002628 -0.004046  0.004298  0.008322   \n2017-11-30  0.005556  0.014871  0.006562  0.016919  0.008811  0.009141   \n2017-12-29 -0.001816 -0.002902 -0.007140 -0.001848 -0.005303 -0.000176   \n\n                 XLU       XLV       XLY  \nDate                                      \n2017-01-31  0.015368  0.015865 -0.001531  \n2017-02-28  0.009120 -0.001998 -0.007497  \n2017-03-31  0.003906 -0.002820  0.000114  \n2017-04-28 -0.004824  0.002652 -0.003989  \n2017-05-31  0.005027  0.003951  0.002639  \n2017-06-30 -0.001539 -0.001387  0.005257  \n2017-07-31  0.003388 -0.000876 -0.000328  \n2017-08-31  0.000182  0.016872  0.004695  \n2017-09-29 -0.000754  0.005890  0.003782  \n2017-10-31  0.001089 -0.001848  0.000109  \n2017-11-30  0.003362  0.007456  0.005083  \n2017-12-29  0.000570 -0.006149 -0.005860  \n"
     ]
    },
    {
     "name": "stdout",
     "output_type": "stream",
     "text": [
      "                 XLB       XLE       XLF       XLI       XLK       XLP  \\\nDate                                                                     \n2017-02-28 -0.000956 -0.003077 -0.000407 -0.004091 -0.004764  0.001271   \n2017-03-31 -0.000191 -0.003427 -0.008393 -0.004141 -0.001874 -0.002927   \n2017-04-28 -0.008444  0.000737 -0.009727 -0.004662  0.002578 -0.000362   \n2017-05-31  0.003019 -0.004269 -0.008565  0.001927 -0.001591  0.002829   \n2017-06-30  0.005404  0.004477 -0.000810  0.008256 -0.000913  0.001822   \n2017-07-31 -0.007657  0.002254  0.007200 -0.001317 -0.004887 -0.000361   \n2017-08-31  0.007656  0.004776  0.001215  0.003365  0.005967  0.000366   \n2017-09-29  0.000000 -0.000146  0.004651  0.002962  0.006791 -0.000741   \n2017-10-31  0.002716  0.003245 -0.002628 -0.004046  0.004298  0.008322   \n2017-11-30  0.005556  0.014871  0.006562  0.016919  0.008811  0.009141   \n2017-12-29 -0.001816 -0.002902 -0.007140 -0.001848 -0.005303 -0.000176   \n2018-01-31  0.000795  0.000668  0.002694  0.003015  0.007479 -0.004659   \n\n                 XLU       XLV       XLY  \nDate                                      \n2017-02-28  0.009120 -0.001998 -0.007497  \n2017-03-31  0.003906 -0.002820  0.000114  \n2017-04-28 -0.004824  0.002652 -0.003989  \n2017-05-31  0.005027  0.003951  0.002639  \n2017-06-30 -0.001539 -0.001387  0.005257  \n2017-07-31  0.003388 -0.000876 -0.000328  \n2017-08-31  0.000182  0.016872  0.004695  \n2017-09-29 -0.000754  0.005890  0.003782  \n2017-10-31  0.001089 -0.001848  0.000109  \n2017-11-30  0.003362  0.007456  0.005083  \n2017-12-29  0.000570 -0.006149 -0.005860  \n2018-01-31  0.011032 -0.014312 -0.003241  \n"
     ]
    },
    {
     "name": "stdout",
     "output_type": "stream",
     "text": [
      "                 XLB       XLE       XLF       XLI       XLK       XLP  \\\nDate                                                                     \n2017-03-31 -0.000191 -0.003427 -0.008393 -0.004141 -0.001874 -0.002927   \n2017-04-28 -0.008444  0.000737 -0.009727 -0.004662  0.002578 -0.000362   \n2017-05-31  0.003019 -0.004269 -0.008565  0.001927 -0.001591  0.002829   \n2017-06-30  0.005404  0.004477 -0.000810  0.008256 -0.000913  0.001822   \n2017-07-31 -0.007657  0.002254  0.007200 -0.001317 -0.004887 -0.000361   \n2017-08-31  0.007656  0.004776  0.001215  0.003365  0.005967  0.000366   \n2017-09-29  0.000000 -0.000146  0.004651  0.002962  0.006791 -0.000741   \n2017-10-31  0.002716  0.003245 -0.002628 -0.004046  0.004298  0.008322   \n2017-11-30  0.005556  0.014871  0.006562  0.016919  0.008811  0.009141   \n2017-12-29 -0.001816 -0.002902 -0.007140 -0.001848 -0.005303 -0.000176   \n2018-01-31  0.000795  0.000668  0.002694  0.003015  0.007479 -0.004659   \n2018-02-28 -0.017950 -0.023252 -0.014102 -0.014378 -0.007162 -0.010430   \n\n                 XLU       XLV       XLY  \nDate                                      \n2017-03-31  0.003906 -0.002820  0.000114  \n2017-04-28 -0.004824  0.002652 -0.003989  \n2017-05-31  0.005027  0.003951  0.002639  \n2017-06-30 -0.001539 -0.001387  0.005257  \n2017-07-31  0.003388 -0.000876 -0.000328  \n2017-08-31  0.000182  0.016872  0.004695  \n2017-09-29 -0.000754  0.005890  0.003782  \n2017-10-31  0.001089 -0.001848  0.000109  \n2017-11-30  0.003362  0.007456  0.005083  \n2017-12-29  0.000570 -0.006149 -0.005860  \n2018-01-31  0.011032 -0.014312 -0.003241  \n2018-02-28 -0.006906 -0.016151 -0.004506  \n                 XLB       XLE       XLF       XLI       XLK       XLP  \\\nDate                                                                     \n2017-04-28 -0.008444  0.000737 -0.009727 -0.004662  0.002578 -0.000362   \n2017-05-31  0.003019 -0.004269 -0.008565  0.001927 -0.001591  0.002829   \n2017-06-30  0.005404  0.004477 -0.000810  0.008256 -0.000913  0.001822   \n2017-07-31 -0.007657  0.002254  0.007200 -0.001317 -0.004887 -0.000361   \n2017-08-31  0.007656  0.004776  0.001215  0.003365  0.005967  0.000366   \n2017-09-29  0.000000 -0.000146  0.004651  0.002962  0.006791 -0.000741   \n2017-10-31  0.002716  0.003245 -0.002628 -0.004046  0.004298  0.008322   \n2017-11-30  0.005556  0.014871  0.006562  0.016919  0.008811  0.009141   \n2017-12-29 -0.001816 -0.002902 -0.007140 -0.001848 -0.005303 -0.000176   \n2018-01-31  0.000795  0.000668  0.002694  0.003015  0.007479 -0.004659   \n2018-02-28 -0.017950 -0.023252 -0.014102 -0.014378 -0.007162 -0.010430   \n2018-03-30 -0.017950 -0.023252 -0.014102 -0.014378 -0.007162 -0.010430   \n\n                 XLU       XLV       XLY  \nDate                                      \n2017-04-28 -0.004824  0.002652 -0.003989  \n2017-05-31  0.005027  0.003951  0.002639  \n2017-06-30 -0.001539 -0.001387  0.005257  \n2017-07-31  0.003388 -0.000876 -0.000328  \n2017-08-31  0.000182  0.016872  0.004695  \n2017-09-29 -0.000754  0.005890  0.003782  \n2017-10-31  0.001089 -0.001848  0.000109  \n2017-11-30  0.003362  0.007456  0.005083  \n2017-12-29  0.000570 -0.006149 -0.005860  \n2018-01-31  0.011032 -0.014312 -0.003241  \n2018-02-28 -0.006906 -0.016151 -0.004506  \n2018-03-30 -0.006906 -0.016151 -0.004506  \n"
     ]
    },
    {
     "name": "stdout",
     "output_type": "stream",
     "text": [
      "                 XLB       XLE       XLF       XLI       XLK       XLP  \\\nDate                                                                     \n2017-05-31  0.003019 -0.004269 -0.008565  0.001927 -0.001591  0.002829   \n2017-06-30  0.005404  0.004477 -0.000810  0.008256 -0.000913  0.001822   \n2017-07-31 -0.007657  0.002254  0.007200 -0.001317 -0.004887 -0.000361   \n2017-08-31  0.007656  0.004776  0.001215  0.003365  0.005967  0.000366   \n2017-09-29  0.000000 -0.000146  0.004651  0.002962  0.006791 -0.000741   \n2017-10-31  0.002716  0.003245 -0.002628 -0.004046  0.004298  0.008322   \n2017-11-30  0.005556  0.014871  0.006562  0.016919  0.008811  0.009141   \n2017-12-29 -0.001816 -0.002902 -0.007140 -0.001848 -0.005303 -0.000176   \n2018-01-31  0.000795  0.000668  0.002694  0.003015  0.007479 -0.004659   \n2018-02-28 -0.017950 -0.023252 -0.014102 -0.014378 -0.007162 -0.010430   \n2018-03-30 -0.017950 -0.023252 -0.014102 -0.014378 -0.007162 -0.010430   \n2018-04-30 -0.013070 -0.000135 -0.009066 -0.013342 -0.006547 -0.006323   \n\n                 XLU       XLV       XLY  \nDate                                      \n2017-05-31  0.005027  0.003951  0.002639  \n2017-06-30 -0.001539 -0.001387  0.005257  \n2017-07-31  0.003388 -0.000876 -0.000328  \n2017-08-31  0.000182  0.016872  0.004695  \n2017-09-29 -0.000754  0.005890  0.003782  \n2017-10-31  0.001089 -0.001848  0.000109  \n2017-11-30  0.003362  0.007456  0.005083  \n2017-12-29  0.000570 -0.006149 -0.005860  \n2018-01-31  0.011032 -0.014312 -0.003241  \n2018-02-28 -0.006906 -0.016151 -0.004506  \n2018-03-30 -0.006906 -0.016151 -0.004506  \n2018-04-30 -0.002905 -0.015441 -0.003946  \n                 XLB       XLE       XLF       XLI       XLK       XLP  \\\nDate                                                                     \n2017-06-30  0.005404  0.004477 -0.000810  0.008256 -0.000913  0.001822   \n2017-07-31 -0.007657  0.002254  0.007200 -0.001317 -0.004887 -0.000361   \n2017-08-31  0.007656  0.004776  0.001215  0.003365  0.005967  0.000366   \n2017-09-29  0.000000 -0.000146  0.004651  0.002962  0.006791 -0.000741   \n2017-10-31  0.002716  0.003245 -0.002628 -0.004046  0.004298  0.008322   \n2017-11-30  0.005556  0.014871  0.006562  0.016919  0.008811  0.009141   \n2017-12-29 -0.001816 -0.002902 -0.007140 -0.001848 -0.005303 -0.000176   \n2018-01-31  0.000795  0.000668  0.002694  0.003015  0.007479 -0.004659   \n2018-02-28 -0.017950 -0.023252 -0.014102 -0.014378 -0.007162 -0.010430   \n2018-03-30 -0.017950 -0.023252 -0.014102 -0.014378 -0.007162 -0.010430   \n2018-04-30 -0.013070 -0.000135 -0.009066 -0.013342 -0.006547 -0.006323   \n2018-05-31 -0.008387 -0.007601 -0.008427 -0.014536  0.000286 -0.016179   \n\n                 XLU       XLV       XLY  \nDate                                      \n2017-06-30 -0.001539 -0.001387  0.005257  \n2017-07-31  0.003388 -0.000876 -0.000328  \n2017-08-31  0.000182  0.016872  0.004695  \n2017-09-29 -0.000754  0.005890  0.003782  \n2017-10-31  0.001089 -0.001848  0.000109  \n2017-11-30  0.003362  0.007456  0.005083  \n2017-12-29  0.000570 -0.006149 -0.005860  \n2018-01-31  0.011032 -0.014312 -0.003241  \n2018-02-28 -0.006906 -0.016151 -0.004506  \n2018-03-30 -0.006906 -0.016151 -0.004506  \n2018-04-30 -0.002905 -0.015441 -0.003946  \n2018-05-31  0.001570 -0.010982 -0.004811  \n"
     ]
    },
    {
     "name": "stdout",
     "output_type": "stream",
     "text": [
      "                 XLB       XLE       XLF       XLI       XLK       XLP  \\\nDate                                                                     \n2017-07-31 -0.007657  0.002254  0.007200 -0.001317 -0.004887 -0.000361   \n2017-08-31  0.007656  0.004776  0.001215  0.003365  0.005967  0.000366   \n2017-09-29  0.000000 -0.000146  0.004651  0.002962  0.006791 -0.000741   \n2017-10-31  0.002716  0.003245 -0.002628 -0.004046  0.004298  0.008322   \n2017-11-30  0.005556  0.014871  0.006562  0.016919  0.008811  0.009141   \n2017-12-29 -0.001816 -0.002902 -0.007140 -0.001848 -0.005303 -0.000176   \n2018-01-31  0.000795  0.000668  0.002694  0.003015  0.007479 -0.004659   \n2018-02-28 -0.017950 -0.023252 -0.014102 -0.014378 -0.007162 -0.010430   \n2018-03-30 -0.017950 -0.023252 -0.014102 -0.014378 -0.007162 -0.010430   \n2018-04-30 -0.013070 -0.000135 -0.009066 -0.013342 -0.006547 -0.006323   \n2018-05-31 -0.008387 -0.007601 -0.008427 -0.014536  0.000286 -0.016179   \n2018-06-29  0.003450  0.006208  0.000000  0.002096 -0.000432 -0.000582   \n\n                 XLU       XLV       XLY  \nDate                                      \n2017-07-31  0.003388 -0.000876 -0.000328  \n2017-08-31  0.000182  0.016872  0.004695  \n2017-09-29 -0.000754  0.005890  0.003782  \n2017-10-31  0.001089 -0.001848  0.000109  \n2017-11-30  0.003362  0.007456  0.005083  \n2017-12-29  0.000570 -0.006149 -0.005860  \n2018-01-31  0.011032 -0.014312 -0.003241  \n2018-02-28 -0.006906 -0.016151 -0.004506  \n2018-03-30 -0.006906 -0.016151 -0.004506  \n2018-04-30 -0.002905 -0.015441 -0.003946  \n2018-05-31  0.001570 -0.010982 -0.004811  \n2018-06-29  0.001541  0.002039  0.001740  \n                 XLB       XLE       XLF       XLI       XLK       XLP  \\\nDate                                                                     \n2017-08-31  0.007656  0.004776  0.001215  0.003365  0.005967  0.000366   \n2017-09-29  0.000000 -0.000146  0.004651  0.002962  0.006791 -0.000741   \n2017-10-31  0.002716  0.003245 -0.002628 -0.004046  0.004298  0.008322   \n2017-11-30  0.005556  0.014871  0.006562  0.016919  0.008811  0.009141   \n2017-12-29 -0.001816 -0.002902 -0.007140 -0.001848 -0.005303 -0.000176   \n2018-01-31  0.000795  0.000668  0.002694  0.003015  0.007479 -0.004659   \n2018-02-28 -0.017950 -0.023252 -0.014102 -0.014378 -0.007162 -0.010430   \n2018-03-30 -0.017950 -0.023252 -0.014102 -0.014378 -0.007162 -0.010430   \n2018-04-30 -0.013070 -0.000135 -0.009066 -0.013342 -0.006547 -0.006323   \n2018-05-31 -0.008387 -0.007601 -0.008427 -0.014536  0.000286 -0.016179   \n2018-06-29  0.003450  0.006208  0.000000  0.002096 -0.000432 -0.000582   \n2018-07-31  0.009082 -0.001814 -0.007130  0.021817  0.002683  0.004678   \n\n                 XLU       XLV       XLY  \nDate                                      \n2017-08-31  0.000182  0.016872  0.004695  \n2017-09-29 -0.000754  0.005890  0.003782  \n2017-10-31  0.001089 -0.001848  0.000109  \n2017-11-30  0.003362  0.007456  0.005083  \n2017-12-29  0.000570 -0.006149 -0.005860  \n2018-01-31  0.011032 -0.014312 -0.003241  \n2018-02-28 -0.006906 -0.016151 -0.004506  \n2018-03-30 -0.006906 -0.016151 -0.004506  \n2018-04-30 -0.002905 -0.015441 -0.003946  \n2018-05-31  0.001570 -0.010982 -0.004811  \n2018-06-29  0.001541  0.002039  0.001740  \n2018-07-31  0.008943  0.010399  0.004684  \n"
     ]
    }
   ],
   "source": [
    "minsim = lookback\n",
    "maxsim = monthly.shape[0]\n",
    "\n",
    "for sim in range(minsim,maxsim):\n",
    "    train = monthly.iloc[sim-lookback:sim]\n",
    "    print(train)\n",
    "    train_bm = monthly_bm.iloc[sim-lookback:sim]\n",
    "    test = monthly.iloc[sim]\n",
    "    test_bm = monthly_bm.iloc[sim]\n",
    "    result = quadfit(train,train_bm,test,test_bm)\n",
    "    if sim == minsim:\n",
    "        backtestWeights = result[ticks]\n",
    "        backtestReturns = result[['Port Returns', 'Brk-B Returns']]\n",
    "    else:\n",
    "        backtestWeights = backtestWeights.append(result[ticks])\n",
    "        backtestReturns = backtestReturns.append(result[['Port Returns', 'Brk-B Returns']])\n",
    "    "
   ]
  },
  {
   "cell_type": "code",
   "execution_count": 60,
   "metadata": {
    "collapsed": true
   },
   "outputs": [
    {
     "data": {
      "text/html": [
       "<div>\n",
       "<style scoped>\n",
       "    .dataframe tbody tr th:only-of-type {\n",
       "        vertical-align: middle;\n",
       "    }\n",
       "\n",
       "    .dataframe tbody tr th {\n",
       "        vertical-align: top;\n",
       "    }\n",
       "\n",
       "    .dataframe thead th {\n",
       "        text-align: right;\n",
       "    }\n",
       "</style>\n",
       "<table border=\"1\" class=\"dataframe\">\n",
       "  <thead>\n",
       "    <tr style=\"text-align: right;\">\n",
       "      <th></th>\n",
       "      <th>XLB</th>\n",
       "      <th>XLI</th>\n",
       "      <th>XLY</th>\n",
       "      <th>XLP</th>\n",
       "      <th>XLE</th>\n",
       "      <th>XLF</th>\n",
       "      <th>XLU</th>\n",
       "      <th>XLV</th>\n",
       "      <th>XLK</th>\n",
       "    </tr>\n",
       "  </thead>\n",
       "  <tbody>\n",
       "    <tr>\n",
       "      <th>0</th>\n",
       "      <td>5.319819e-17</td>\n",
       "      <td>0.0</td>\n",
       "      <td>0.0</td>\n",
       "      <td>1.525821e-17</td>\n",
       "      <td>0.1</td>\n",
       "      <td>0.3</td>\n",
       "      <td>0.3</td>\n",
       "      <td>0.3</td>\n",
       "      <td>3.469447e-17</td>\n",
       "    </tr>\n",
       "    <tr>\n",
       "      <th>0</th>\n",
       "      <td>5.319819e-17</td>\n",
       "      <td>0.0</td>\n",
       "      <td>0.0</td>\n",
       "      <td>1.525821e-17</td>\n",
       "      <td>0.1</td>\n",
       "      <td>0.3</td>\n",
       "      <td>0.3</td>\n",
       "      <td>0.3</td>\n",
       "      <td>3.469447e-17</td>\n",
       "    </tr>\n",
       "    <tr>\n",
       "      <th>0</th>\n",
       "      <td>5.319819e-17</td>\n",
       "      <td>0.0</td>\n",
       "      <td>0.0</td>\n",
       "      <td>1.525821e-17</td>\n",
       "      <td>0.1</td>\n",
       "      <td>0.3</td>\n",
       "      <td>0.3</td>\n",
       "      <td>0.3</td>\n",
       "      <td>3.469447e-17</td>\n",
       "    </tr>\n",
       "    <tr>\n",
       "      <th>0</th>\n",
       "      <td>5.319819e-17</td>\n",
       "      <td>0.0</td>\n",
       "      <td>0.0</td>\n",
       "      <td>1.525821e-17</td>\n",
       "      <td>0.1</td>\n",
       "      <td>0.3</td>\n",
       "      <td>0.3</td>\n",
       "      <td>0.3</td>\n",
       "      <td>3.469447e-17</td>\n",
       "    </tr>\n",
       "    <tr>\n",
       "      <th>0</th>\n",
       "      <td>5.319819e-17</td>\n",
       "      <td>0.0</td>\n",
       "      <td>0.0</td>\n",
       "      <td>1.525821e-17</td>\n",
       "      <td>0.1</td>\n",
       "      <td>0.3</td>\n",
       "      <td>0.3</td>\n",
       "      <td>0.3</td>\n",
       "      <td>3.469447e-17</td>\n",
       "    </tr>\n",
       "    <tr>\n",
       "      <th>0</th>\n",
       "      <td>5.319819e-17</td>\n",
       "      <td>0.0</td>\n",
       "      <td>0.0</td>\n",
       "      <td>1.525821e-17</td>\n",
       "      <td>0.1</td>\n",
       "      <td>0.3</td>\n",
       "      <td>0.3</td>\n",
       "      <td>0.3</td>\n",
       "      <td>3.469447e-17</td>\n",
       "    </tr>\n",
       "    <tr>\n",
       "      <th>0</th>\n",
       "      <td>5.319819e-17</td>\n",
       "      <td>0.0</td>\n",
       "      <td>0.0</td>\n",
       "      <td>1.525821e-17</td>\n",
       "      <td>0.1</td>\n",
       "      <td>0.3</td>\n",
       "      <td>0.3</td>\n",
       "      <td>0.3</td>\n",
       "      <td>3.469447e-17</td>\n",
       "    </tr>\n",
       "    <tr>\n",
       "      <th>0</th>\n",
       "      <td>5.319819e-17</td>\n",
       "      <td>0.0</td>\n",
       "      <td>0.0</td>\n",
       "      <td>1.525821e-17</td>\n",
       "      <td>0.1</td>\n",
       "      <td>0.3</td>\n",
       "      <td>0.3</td>\n",
       "      <td>0.3</td>\n",
       "      <td>3.469447e-17</td>\n",
       "    </tr>\n",
       "    <tr>\n",
       "      <th>0</th>\n",
       "      <td>5.319819e-17</td>\n",
       "      <td>0.0</td>\n",
       "      <td>0.0</td>\n",
       "      <td>1.525821e-17</td>\n",
       "      <td>0.1</td>\n",
       "      <td>0.3</td>\n",
       "      <td>0.3</td>\n",
       "      <td>0.3</td>\n",
       "      <td>3.469447e-17</td>\n",
       "    </tr>\n",
       "    <tr>\n",
       "      <th>0</th>\n",
       "      <td>5.319819e-17</td>\n",
       "      <td>0.0</td>\n",
       "      <td>0.0</td>\n",
       "      <td>1.525821e-17</td>\n",
       "      <td>0.1</td>\n",
       "      <td>0.3</td>\n",
       "      <td>0.3</td>\n",
       "      <td>0.3</td>\n",
       "      <td>3.469447e-17</td>\n",
       "    </tr>\n",
       "    <tr>\n",
       "      <th>0</th>\n",
       "      <td>5.319819e-17</td>\n",
       "      <td>0.0</td>\n",
       "      <td>0.0</td>\n",
       "      <td>1.525821e-17</td>\n",
       "      <td>0.1</td>\n",
       "      <td>0.3</td>\n",
       "      <td>0.3</td>\n",
       "      <td>0.3</td>\n",
       "      <td>3.469447e-17</td>\n",
       "    </tr>\n",
       "    <tr>\n",
       "      <th>0</th>\n",
       "      <td>5.319819e-17</td>\n",
       "      <td>0.0</td>\n",
       "      <td>0.0</td>\n",
       "      <td>1.525821e-17</td>\n",
       "      <td>0.1</td>\n",
       "      <td>0.3</td>\n",
       "      <td>0.3</td>\n",
       "      <td>0.3</td>\n",
       "      <td>3.469447e-17</td>\n",
       "    </tr>\n",
       "    <tr>\n",
       "      <th>0</th>\n",
       "      <td>5.319819e-17</td>\n",
       "      <td>0.0</td>\n",
       "      <td>0.0</td>\n",
       "      <td>1.525821e-17</td>\n",
       "      <td>0.1</td>\n",
       "      <td>0.3</td>\n",
       "      <td>0.3</td>\n",
       "      <td>0.3</td>\n",
       "      <td>3.469447e-17</td>\n",
       "    </tr>\n",
       "    <tr>\n",
       "      <th>0</th>\n",
       "      <td>5.319819e-17</td>\n",
       "      <td>0.0</td>\n",
       "      <td>0.0</td>\n",
       "      <td>1.525821e-17</td>\n",
       "      <td>0.1</td>\n",
       "      <td>0.3</td>\n",
       "      <td>0.3</td>\n",
       "      <td>0.3</td>\n",
       "      <td>3.469447e-17</td>\n",
       "    </tr>\n",
       "    <tr>\n",
       "      <th>0</th>\n",
       "      <td>5.319819e-17</td>\n",
       "      <td>0.0</td>\n",
       "      <td>0.0</td>\n",
       "      <td>1.525821e-17</td>\n",
       "      <td>0.1</td>\n",
       "      <td>0.3</td>\n",
       "      <td>0.3</td>\n",
       "      <td>0.3</td>\n",
       "      <td>3.469447e-17</td>\n",
       "    </tr>\n",
       "    <tr>\n",
       "      <th>0</th>\n",
       "      <td>5.319819e-17</td>\n",
       "      <td>0.0</td>\n",
       "      <td>0.0</td>\n",
       "      <td>1.525821e-17</td>\n",
       "      <td>0.1</td>\n",
       "      <td>0.3</td>\n",
       "      <td>0.3</td>\n",
       "      <td>0.3</td>\n",
       "      <td>3.469447e-17</td>\n",
       "    </tr>\n",
       "    <tr>\n",
       "      <th>0</th>\n",
       "      <td>5.319819e-17</td>\n",
       "      <td>0.0</td>\n",
       "      <td>0.0</td>\n",
       "      <td>1.525821e-17</td>\n",
       "      <td>0.1</td>\n",
       "      <td>0.3</td>\n",
       "      <td>0.3</td>\n",
       "      <td>0.3</td>\n",
       "      <td>3.469447e-17</td>\n",
       "    </tr>\n",
       "    <tr>\n",
       "      <th>0</th>\n",
       "      <td>5.319819e-17</td>\n",
       "      <td>0.0</td>\n",
       "      <td>0.0</td>\n",
       "      <td>1.525821e-17</td>\n",
       "      <td>0.1</td>\n",
       "      <td>0.3</td>\n",
       "      <td>0.3</td>\n",
       "      <td>0.3</td>\n",
       "      <td>3.469447e-17</td>\n",
       "    </tr>\n",
       "    <tr>\n",
       "      <th>0</th>\n",
       "      <td>5.319819e-17</td>\n",
       "      <td>0.0</td>\n",
       "      <td>0.0</td>\n",
       "      <td>1.525821e-17</td>\n",
       "      <td>0.1</td>\n",
       "      <td>0.3</td>\n",
       "      <td>0.3</td>\n",
       "      <td>0.3</td>\n",
       "      <td>3.469447e-17</td>\n",
       "    </tr>\n",
       "    <tr>\n",
       "      <th>0</th>\n",
       "      <td>5.319819e-17</td>\n",
       "      <td>0.0</td>\n",
       "      <td>0.0</td>\n",
       "      <td>1.525821e-17</td>\n",
       "      <td>0.1</td>\n",
       "      <td>0.3</td>\n",
       "      <td>0.3</td>\n",
       "      <td>0.3</td>\n",
       "      <td>3.469447e-17</td>\n",
       "    </tr>\n",
       "    <tr>\n",
       "      <th>0</th>\n",
       "      <td>5.319819e-17</td>\n",
       "      <td>0.0</td>\n",
       "      <td>0.0</td>\n",
       "      <td>1.525821e-17</td>\n",
       "      <td>0.1</td>\n",
       "      <td>0.3</td>\n",
       "      <td>0.3</td>\n",
       "      <td>0.3</td>\n",
       "      <td>3.469447e-17</td>\n",
       "    </tr>\n",
       "    <tr>\n",
       "      <th>0</th>\n",
       "      <td>5.319819e-17</td>\n",
       "      <td>0.0</td>\n",
       "      <td>0.0</td>\n",
       "      <td>1.525821e-17</td>\n",
       "      <td>0.1</td>\n",
       "      <td>0.3</td>\n",
       "      <td>0.3</td>\n",
       "      <td>0.3</td>\n",
       "      <td>3.469447e-17</td>\n",
       "    </tr>\n",
       "    <tr>\n",
       "      <th>0</th>\n",
       "      <td>5.319819e-17</td>\n",
       "      <td>0.0</td>\n",
       "      <td>0.0</td>\n",
       "      <td>1.525821e-17</td>\n",
       "      <td>0.1</td>\n",
       "      <td>0.3</td>\n",
       "      <td>0.3</td>\n",
       "      <td>0.3</td>\n",
       "      <td>3.469447e-17</td>\n",
       "    </tr>\n",
       "    <tr>\n",
       "      <th>0</th>\n",
       "      <td>5.319819e-17</td>\n",
       "      <td>0.0</td>\n",
       "      <td>0.0</td>\n",
       "      <td>1.525821e-17</td>\n",
       "      <td>0.1</td>\n",
       "      <td>0.3</td>\n",
       "      <td>0.3</td>\n",
       "      <td>0.3</td>\n",
       "      <td>3.469447e-17</td>\n",
       "    </tr>\n",
       "    <tr>\n",
       "      <th>0</th>\n",
       "      <td>5.319819e-17</td>\n",
       "      <td>0.0</td>\n",
       "      <td>0.0</td>\n",
       "      <td>1.525821e-17</td>\n",
       "      <td>0.1</td>\n",
       "      <td>0.3</td>\n",
       "      <td>0.3</td>\n",
       "      <td>0.3</td>\n",
       "      <td>3.469447e-17</td>\n",
       "    </tr>\n",
       "    <tr>\n",
       "      <th>0</th>\n",
       "      <td>5.319819e-17</td>\n",
       "      <td>0.0</td>\n",
       "      <td>0.0</td>\n",
       "      <td>1.525821e-17</td>\n",
       "      <td>0.1</td>\n",
       "      <td>0.3</td>\n",
       "      <td>0.3</td>\n",
       "      <td>0.3</td>\n",
       "      <td>3.469447e-17</td>\n",
       "    </tr>\n",
       "    <tr>\n",
       "      <th>0</th>\n",
       "      <td>5.319819e-17</td>\n",
       "      <td>0.0</td>\n",
       "      <td>0.0</td>\n",
       "      <td>1.525821e-17</td>\n",
       "      <td>0.1</td>\n",
       "      <td>0.3</td>\n",
       "      <td>0.3</td>\n",
       "      <td>0.3</td>\n",
       "      <td>3.469447e-17</td>\n",
       "    </tr>\n",
       "    <tr>\n",
       "      <th>0</th>\n",
       "      <td>5.319819e-17</td>\n",
       "      <td>0.0</td>\n",
       "      <td>0.0</td>\n",
       "      <td>1.525821e-17</td>\n",
       "      <td>0.1</td>\n",
       "      <td>0.3</td>\n",
       "      <td>0.3</td>\n",
       "      <td>0.3</td>\n",
       "      <td>3.469447e-17</td>\n",
       "    </tr>\n",
       "    <tr>\n",
       "      <th>0</th>\n",
       "      <td>5.319819e-17</td>\n",
       "      <td>0.0</td>\n",
       "      <td>0.0</td>\n",
       "      <td>1.525821e-17</td>\n",
       "      <td>0.1</td>\n",
       "      <td>0.3</td>\n",
       "      <td>0.3</td>\n",
       "      <td>0.3</td>\n",
       "      <td>3.469447e-17</td>\n",
       "    </tr>\n",
       "    <tr>\n",
       "      <th>0</th>\n",
       "      <td>5.319819e-17</td>\n",
       "      <td>0.0</td>\n",
       "      <td>0.0</td>\n",
       "      <td>1.525821e-17</td>\n",
       "      <td>0.1</td>\n",
       "      <td>0.3</td>\n",
       "      <td>0.3</td>\n",
       "      <td>0.3</td>\n",
       "      <td>3.469447e-17</td>\n",
       "    </tr>\n",
       "    <tr>\n",
       "      <th>...</th>\n",
       "      <td>...</td>\n",
       "      <td>...</td>\n",
       "      <td>...</td>\n",
       "      <td>...</td>\n",
       "      <td>...</td>\n",
       "      <td>...</td>\n",
       "      <td>...</td>\n",
       "      <td>...</td>\n",
       "      <td>...</td>\n",
       "    </tr>\n",
       "    <tr>\n",
       "      <th>0</th>\n",
       "      <td>5.319819e-17</td>\n",
       "      <td>0.0</td>\n",
       "      <td>0.0</td>\n",
       "      <td>1.525821e-17</td>\n",
       "      <td>0.1</td>\n",
       "      <td>0.3</td>\n",
       "      <td>0.3</td>\n",
       "      <td>0.3</td>\n",
       "      <td>3.469447e-17</td>\n",
       "    </tr>\n",
       "    <tr>\n",
       "      <th>0</th>\n",
       "      <td>5.319819e-17</td>\n",
       "      <td>0.0</td>\n",
       "      <td>0.0</td>\n",
       "      <td>1.525821e-17</td>\n",
       "      <td>0.1</td>\n",
       "      <td>0.3</td>\n",
       "      <td>0.3</td>\n",
       "      <td>0.3</td>\n",
       "      <td>3.469447e-17</td>\n",
       "    </tr>\n",
       "    <tr>\n",
       "      <th>0</th>\n",
       "      <td>5.319819e-17</td>\n",
       "      <td>0.0</td>\n",
       "      <td>0.0</td>\n",
       "      <td>1.525821e-17</td>\n",
       "      <td>0.1</td>\n",
       "      <td>0.3</td>\n",
       "      <td>0.3</td>\n",
       "      <td>0.3</td>\n",
       "      <td>3.469447e-17</td>\n",
       "    </tr>\n",
       "    <tr>\n",
       "      <th>0</th>\n",
       "      <td>5.319819e-17</td>\n",
       "      <td>0.0</td>\n",
       "      <td>0.0</td>\n",
       "      <td>1.525821e-17</td>\n",
       "      <td>0.1</td>\n",
       "      <td>0.3</td>\n",
       "      <td>0.3</td>\n",
       "      <td>0.3</td>\n",
       "      <td>3.469447e-17</td>\n",
       "    </tr>\n",
       "    <tr>\n",
       "      <th>0</th>\n",
       "      <td>5.319819e-17</td>\n",
       "      <td>0.0</td>\n",
       "      <td>0.0</td>\n",
       "      <td>1.525821e-17</td>\n",
       "      <td>0.1</td>\n",
       "      <td>0.3</td>\n",
       "      <td>0.3</td>\n",
       "      <td>0.3</td>\n",
       "      <td>3.469447e-17</td>\n",
       "    </tr>\n",
       "    <tr>\n",
       "      <th>0</th>\n",
       "      <td>5.319819e-17</td>\n",
       "      <td>0.0</td>\n",
       "      <td>0.0</td>\n",
       "      <td>1.525821e-17</td>\n",
       "      <td>0.1</td>\n",
       "      <td>0.3</td>\n",
       "      <td>0.3</td>\n",
       "      <td>0.3</td>\n",
       "      <td>3.469447e-17</td>\n",
       "    </tr>\n",
       "    <tr>\n",
       "      <th>0</th>\n",
       "      <td>5.319819e-17</td>\n",
       "      <td>0.0</td>\n",
       "      <td>0.0</td>\n",
       "      <td>1.525821e-17</td>\n",
       "      <td>0.1</td>\n",
       "      <td>0.3</td>\n",
       "      <td>0.3</td>\n",
       "      <td>0.3</td>\n",
       "      <td>3.469447e-17</td>\n",
       "    </tr>\n",
       "    <tr>\n",
       "      <th>0</th>\n",
       "      <td>5.319819e-17</td>\n",
       "      <td>0.0</td>\n",
       "      <td>0.0</td>\n",
       "      <td>1.525821e-17</td>\n",
       "      <td>0.1</td>\n",
       "      <td>0.3</td>\n",
       "      <td>0.3</td>\n",
       "      <td>0.3</td>\n",
       "      <td>3.469447e-17</td>\n",
       "    </tr>\n",
       "    <tr>\n",
       "      <th>0</th>\n",
       "      <td>5.319819e-17</td>\n",
       "      <td>0.0</td>\n",
       "      <td>0.0</td>\n",
       "      <td>1.525821e-17</td>\n",
       "      <td>0.1</td>\n",
       "      <td>0.3</td>\n",
       "      <td>0.3</td>\n",
       "      <td>0.3</td>\n",
       "      <td>3.469447e-17</td>\n",
       "    </tr>\n",
       "    <tr>\n",
       "      <th>0</th>\n",
       "      <td>5.319819e-17</td>\n",
       "      <td>0.0</td>\n",
       "      <td>0.0</td>\n",
       "      <td>1.525821e-17</td>\n",
       "      <td>0.1</td>\n",
       "      <td>0.3</td>\n",
       "      <td>0.3</td>\n",
       "      <td>0.3</td>\n",
       "      <td>3.469447e-17</td>\n",
       "    </tr>\n",
       "    <tr>\n",
       "      <th>0</th>\n",
       "      <td>5.319819e-17</td>\n",
       "      <td>0.0</td>\n",
       "      <td>0.0</td>\n",
       "      <td>1.525821e-17</td>\n",
       "      <td>0.1</td>\n",
       "      <td>0.3</td>\n",
       "      <td>0.3</td>\n",
       "      <td>0.3</td>\n",
       "      <td>3.469447e-17</td>\n",
       "    </tr>\n",
       "    <tr>\n",
       "      <th>0</th>\n",
       "      <td>5.319819e-17</td>\n",
       "      <td>0.0</td>\n",
       "      <td>0.0</td>\n",
       "      <td>1.525821e-17</td>\n",
       "      <td>0.1</td>\n",
       "      <td>0.3</td>\n",
       "      <td>0.3</td>\n",
       "      <td>0.3</td>\n",
       "      <td>3.469447e-17</td>\n",
       "    </tr>\n",
       "    <tr>\n",
       "      <th>0</th>\n",
       "      <td>5.319819e-17</td>\n",
       "      <td>0.0</td>\n",
       "      <td>0.0</td>\n",
       "      <td>1.525821e-17</td>\n",
       "      <td>0.1</td>\n",
       "      <td>0.3</td>\n",
       "      <td>0.3</td>\n",
       "      <td>0.3</td>\n",
       "      <td>3.469447e-17</td>\n",
       "    </tr>\n",
       "    <tr>\n",
       "      <th>0</th>\n",
       "      <td>5.319819e-17</td>\n",
       "      <td>0.0</td>\n",
       "      <td>0.0</td>\n",
       "      <td>1.525821e-17</td>\n",
       "      <td>0.1</td>\n",
       "      <td>0.3</td>\n",
       "      <td>0.3</td>\n",
       "      <td>0.3</td>\n",
       "      <td>3.469447e-17</td>\n",
       "    </tr>\n",
       "    <tr>\n",
       "      <th>0</th>\n",
       "      <td>5.319819e-17</td>\n",
       "      <td>0.0</td>\n",
       "      <td>0.0</td>\n",
       "      <td>1.525821e-17</td>\n",
       "      <td>0.1</td>\n",
       "      <td>0.3</td>\n",
       "      <td>0.3</td>\n",
       "      <td>0.3</td>\n",
       "      <td>3.469447e-17</td>\n",
       "    </tr>\n",
       "    <tr>\n",
       "      <th>0</th>\n",
       "      <td>5.319819e-17</td>\n",
       "      <td>0.0</td>\n",
       "      <td>0.0</td>\n",
       "      <td>1.525821e-17</td>\n",
       "      <td>0.1</td>\n",
       "      <td>0.3</td>\n",
       "      <td>0.3</td>\n",
       "      <td>0.3</td>\n",
       "      <td>3.469447e-17</td>\n",
       "    </tr>\n",
       "    <tr>\n",
       "      <th>0</th>\n",
       "      <td>5.319819e-17</td>\n",
       "      <td>0.0</td>\n",
       "      <td>0.0</td>\n",
       "      <td>1.525821e-17</td>\n",
       "      <td>0.1</td>\n",
       "      <td>0.3</td>\n",
       "      <td>0.3</td>\n",
       "      <td>0.3</td>\n",
       "      <td>3.469447e-17</td>\n",
       "    </tr>\n",
       "    <tr>\n",
       "      <th>0</th>\n",
       "      <td>5.319819e-17</td>\n",
       "      <td>0.0</td>\n",
       "      <td>0.0</td>\n",
       "      <td>1.525821e-17</td>\n",
       "      <td>0.1</td>\n",
       "      <td>0.3</td>\n",
       "      <td>0.3</td>\n",
       "      <td>0.3</td>\n",
       "      <td>3.469447e-17</td>\n",
       "    </tr>\n",
       "    <tr>\n",
       "      <th>0</th>\n",
       "      <td>5.319819e-17</td>\n",
       "      <td>0.0</td>\n",
       "      <td>0.0</td>\n",
       "      <td>1.525821e-17</td>\n",
       "      <td>0.1</td>\n",
       "      <td>0.3</td>\n",
       "      <td>0.3</td>\n",
       "      <td>0.3</td>\n",
       "      <td>3.469447e-17</td>\n",
       "    </tr>\n",
       "    <tr>\n",
       "      <th>0</th>\n",
       "      <td>5.319819e-17</td>\n",
       "      <td>0.0</td>\n",
       "      <td>0.0</td>\n",
       "      <td>1.525821e-17</td>\n",
       "      <td>0.1</td>\n",
       "      <td>0.3</td>\n",
       "      <td>0.3</td>\n",
       "      <td>0.3</td>\n",
       "      <td>3.469447e-17</td>\n",
       "    </tr>\n",
       "    <tr>\n",
       "      <th>0</th>\n",
       "      <td>5.319819e-17</td>\n",
       "      <td>0.0</td>\n",
       "      <td>0.0</td>\n",
       "      <td>1.525821e-17</td>\n",
       "      <td>0.1</td>\n",
       "      <td>0.3</td>\n",
       "      <td>0.3</td>\n",
       "      <td>0.3</td>\n",
       "      <td>3.469447e-17</td>\n",
       "    </tr>\n",
       "    <tr>\n",
       "      <th>0</th>\n",
       "      <td>5.319819e-17</td>\n",
       "      <td>0.0</td>\n",
       "      <td>0.0</td>\n",
       "      <td>1.525821e-17</td>\n",
       "      <td>0.1</td>\n",
       "      <td>0.3</td>\n",
       "      <td>0.3</td>\n",
       "      <td>0.3</td>\n",
       "      <td>3.469447e-17</td>\n",
       "    </tr>\n",
       "    <tr>\n",
       "      <th>0</th>\n",
       "      <td>5.319819e-17</td>\n",
       "      <td>0.0</td>\n",
       "      <td>0.0</td>\n",
       "      <td>1.525821e-17</td>\n",
       "      <td>0.1</td>\n",
       "      <td>0.3</td>\n",
       "      <td>0.3</td>\n",
       "      <td>0.3</td>\n",
       "      <td>3.469447e-17</td>\n",
       "    </tr>\n",
       "    <tr>\n",
       "      <th>0</th>\n",
       "      <td>5.319819e-17</td>\n",
       "      <td>0.0</td>\n",
       "      <td>0.0</td>\n",
       "      <td>1.525821e-17</td>\n",
       "      <td>0.1</td>\n",
       "      <td>0.3</td>\n",
       "      <td>0.3</td>\n",
       "      <td>0.3</td>\n",
       "      <td>3.469447e-17</td>\n",
       "    </tr>\n",
       "    <tr>\n",
       "      <th>0</th>\n",
       "      <td>5.319819e-17</td>\n",
       "      <td>0.0</td>\n",
       "      <td>0.0</td>\n",
       "      <td>1.525821e-17</td>\n",
       "      <td>0.1</td>\n",
       "      <td>0.3</td>\n",
       "      <td>0.3</td>\n",
       "      <td>0.3</td>\n",
       "      <td>3.469447e-17</td>\n",
       "    </tr>\n",
       "    <tr>\n",
       "      <th>0</th>\n",
       "      <td>5.319819e-17</td>\n",
       "      <td>0.0</td>\n",
       "      <td>0.0</td>\n",
       "      <td>1.525821e-17</td>\n",
       "      <td>0.1</td>\n",
       "      <td>0.3</td>\n",
       "      <td>0.3</td>\n",
       "      <td>0.3</td>\n",
       "      <td>3.469447e-17</td>\n",
       "    </tr>\n",
       "    <tr>\n",
       "      <th>0</th>\n",
       "      <td>5.319819e-17</td>\n",
       "      <td>0.0</td>\n",
       "      <td>0.0</td>\n",
       "      <td>1.525821e-17</td>\n",
       "      <td>0.1</td>\n",
       "      <td>0.3</td>\n",
       "      <td>0.3</td>\n",
       "      <td>0.3</td>\n",
       "      <td>3.469447e-17</td>\n",
       "    </tr>\n",
       "    <tr>\n",
       "      <th>0</th>\n",
       "      <td>5.319819e-17</td>\n",
       "      <td>0.0</td>\n",
       "      <td>0.0</td>\n",
       "      <td>1.525821e-17</td>\n",
       "      <td>0.1</td>\n",
       "      <td>0.3</td>\n",
       "      <td>0.3</td>\n",
       "      <td>0.3</td>\n",
       "      <td>3.469447e-17</td>\n",
       "    </tr>\n",
       "    <tr>\n",
       "      <th>0</th>\n",
       "      <td>5.319819e-17</td>\n",
       "      <td>0.0</td>\n",
       "      <td>0.0</td>\n",
       "      <td>1.525821e-17</td>\n",
       "      <td>0.1</td>\n",
       "      <td>0.3</td>\n",
       "      <td>0.3</td>\n",
       "      <td>0.3</td>\n",
       "      <td>3.469447e-17</td>\n",
       "    </tr>\n",
       "    <tr>\n",
       "      <th>0</th>\n",
       "      <td>5.319819e-17</td>\n",
       "      <td>0.0</td>\n",
       "      <td>0.0</td>\n",
       "      <td>1.525821e-17</td>\n",
       "      <td>0.1</td>\n",
       "      <td>0.3</td>\n",
       "      <td>0.3</td>\n",
       "      <td>0.3</td>\n",
       "      <td>3.469447e-17</td>\n",
       "    </tr>\n",
       "  </tbody>\n",
       "</table>\n",
       "<p>109 rows × 9 columns</p>\n",
       "</div>"
      ],
      "text/plain": [
       "<div>\n",
       "<style scoped>\n",
       "    .dataframe tbody tr th:only-of-type {\n",
       "        vertical-align: middle;\n",
       "    }\n",
       "\n",
       "    .dataframe tbody tr th {\n",
       "        vertical-align: top;\n",
       "    }\n",
       "\n",
       "    .dataframe thead th {\n",
       "        text-align: right;\n",
       "    }\n",
       "</style>\n",
       "<table border=\"1\" class=\"dataframe\">\n",
       "  <thead>\n",
       "    <tr style=\"text-align: right;\">\n",
       "      <th></th>\n",
       "      <th>XLB</th>\n",
       "      <th>XLI</th>\n",
       "      <th>XLY</th>\n",
       "      <th>XLP</th>\n",
       "      <th>XLE</th>\n",
       "      <th>XLF</th>\n",
       "      <th>XLU</th>\n",
       "      <th>XLV</th>\n",
       "      <th>XLK</th>\n",
       "    </tr>\n",
       "  </thead>\n",
       "  <tbody>\n",
       "    <tr>\n",
       "      <th>0</th>\n",
       "      <td>5.319819e-17</td>\n",
       "      <td>0.0</td>\n",
       "      <td>0.0</td>\n",
       "      <td>1.525821e-17</td>\n",
       "      <td>0.1</td>\n",
       "      <td>0.3</td>\n",
       "      <td>0.3</td>\n",
       "      <td>0.3</td>\n",
       "      <td>3.469447e-17</td>\n",
       "    </tr>\n",
       "    <tr>\n",
       "      <th>0</th>\n",
       "      <td>5.319819e-17</td>\n",
       "      <td>0.0</td>\n",
       "      <td>0.0</td>\n",
       "      <td>1.525821e-17</td>\n",
       "      <td>0.1</td>\n",
       "      <td>0.3</td>\n",
       "      <td>0.3</td>\n",
       "      <td>0.3</td>\n",
       "      <td>3.469447e-17</td>\n",
       "    </tr>\n",
       "    <tr>\n",
       "      <th>0</th>\n",
       "      <td>5.319819e-17</td>\n",
       "      <td>0.0</td>\n",
       "      <td>0.0</td>\n",
       "      <td>1.525821e-17</td>\n",
       "      <td>0.1</td>\n",
       "      <td>0.3</td>\n",
       "      <td>0.3</td>\n",
       "      <td>0.3</td>\n",
       "      <td>3.469447e-17</td>\n",
       "    </tr>\n",
       "    <tr>\n",
       "      <th>0</th>\n",
       "      <td>5.319819e-17</td>\n",
       "      <td>0.0</td>\n",
       "      <td>0.0</td>\n",
       "      <td>1.525821e-17</td>\n",
       "      <td>0.1</td>\n",
       "      <td>0.3</td>\n",
       "      <td>0.3</td>\n",
       "      <td>0.3</td>\n",
       "      <td>3.469447e-17</td>\n",
       "    </tr>\n",
       "    <tr>\n",
       "      <th>0</th>\n",
       "      <td>5.319819e-17</td>\n",
       "      <td>0.0</td>\n",
       "      <td>0.0</td>\n",
       "      <td>1.525821e-17</td>\n",
       "      <td>0.1</td>\n",
       "      <td>0.3</td>\n",
       "      <td>0.3</td>\n",
       "      <td>0.3</td>\n",
       "      <td>3.469447e-17</td>\n",
       "    </tr>\n",
       "    <tr>\n",
       "      <th>0</th>\n",
       "      <td>5.319819e-17</td>\n",
       "      <td>0.0</td>\n",
       "      <td>0.0</td>\n",
       "      <td>1.525821e-17</td>\n",
       "      <td>0.1</td>\n",
       "      <td>0.3</td>\n",
       "      <td>0.3</td>\n",
       "      <td>0.3</td>\n",
       "      <td>3.469447e-17</td>\n",
       "    </tr>\n",
       "    <tr>\n",
       "      <th>0</th>\n",
       "      <td>5.319819e-17</td>\n",
       "      <td>0.0</td>\n",
       "      <td>0.0</td>\n",
       "      <td>1.525821e-17</td>\n",
       "      <td>0.1</td>\n",
       "      <td>0.3</td>\n",
       "      <td>0.3</td>\n",
       "      <td>0.3</td>\n",
       "      <td>3.469447e-17</td>\n",
       "    </tr>\n",
       "    <tr>\n",
       "      <th>0</th>\n",
       "      <td>5.319819e-17</td>\n",
       "      <td>0.0</td>\n",
       "      <td>0.0</td>\n",
       "      <td>1.525821e-17</td>\n",
       "      <td>0.1</td>\n",
       "      <td>0.3</td>\n",
       "      <td>0.3</td>\n",
       "      <td>0.3</td>\n",
       "      <td>3.469447e-17</td>\n",
       "    </tr>\n",
       "    <tr>\n",
       "      <th>0</th>\n",
       "      <td>5.319819e-17</td>\n",
       "      <td>0.0</td>\n",
       "      <td>0.0</td>\n",
       "      <td>1.525821e-17</td>\n",
       "      <td>0.1</td>\n",
       "      <td>0.3</td>\n",
       "      <td>0.3</td>\n",
       "      <td>0.3</td>\n",
       "      <td>3.469447e-17</td>\n",
       "    </tr>\n",
       "    <tr>\n",
       "      <th>0</th>\n",
       "      <td>5.319819e-17</td>\n",
       "      <td>0.0</td>\n",
       "      <td>0.0</td>\n",
       "      <td>1.525821e-17</td>\n",
       "      <td>0.1</td>\n",
       "      <td>0.3</td>\n",
       "      <td>0.3</td>\n",
       "      <td>0.3</td>\n",
       "      <td>3.469447e-17</td>\n",
       "    </tr>\n",
       "    <tr>\n",
       "      <th>0</th>\n",
       "      <td>5.319819e-17</td>\n",
       "      <td>0.0</td>\n",
       "      <td>0.0</td>\n",
       "      <td>1.525821e-17</td>\n",
       "      <td>0.1</td>\n",
       "      <td>0.3</td>\n",
       "      <td>0.3</td>\n",
       "      <td>0.3</td>\n",
       "      <td>3.469447e-17</td>\n",
       "    </tr>\n",
       "    <tr>\n",
       "      <th>0</th>\n",
       "      <td>5.319819e-17</td>\n",
       "      <td>0.0</td>\n",
       "      <td>0.0</td>\n",
       "      <td>1.525821e-17</td>\n",
       "      <td>0.1</td>\n",
       "      <td>0.3</td>\n",
       "      <td>0.3</td>\n",
       "      <td>0.3</td>\n",
       "      <td>3.469447e-17</td>\n",
       "    </tr>\n",
       "    <tr>\n",
       "      <th>0</th>\n",
       "      <td>5.319819e-17</td>\n",
       "      <td>0.0</td>\n",
       "      <td>0.0</td>\n",
       "      <td>1.525821e-17</td>\n",
       "      <td>0.1</td>\n",
       "      <td>0.3</td>\n",
       "      <td>0.3</td>\n",
       "      <td>0.3</td>\n",
       "      <td>3.469447e-17</td>\n",
       "    </tr>\n",
       "    <tr>\n",
       "      <th>0</th>\n",
       "      <td>5.319819e-17</td>\n",
       "      <td>0.0</td>\n",
       "      <td>0.0</td>\n",
       "      <td>1.525821e-17</td>\n",
       "      <td>0.1</td>\n",
       "      <td>0.3</td>\n",
       "      <td>0.3</td>\n",
       "      <td>0.3</td>\n",
       "      <td>3.469447e-17</td>\n",
       "    </tr>\n",
       "    <tr>\n",
       "      <th>0</th>\n",
       "      <td>5.319819e-17</td>\n",
       "      <td>0.0</td>\n",
       "      <td>0.0</td>\n",
       "      <td>1.525821e-17</td>\n",
       "      <td>0.1</td>\n",
       "      <td>0.3</td>\n",
       "      <td>0.3</td>\n",
       "      <td>0.3</td>\n",
       "      <td>3.469447e-17</td>\n",
       "    </tr>\n",
       "    <tr>\n",
       "      <th>0</th>\n",
       "      <td>5.319819e-17</td>\n",
       "      <td>0.0</td>\n",
       "      <td>0.0</td>\n",
       "      <td>1.525821e-17</td>\n",
       "      <td>0.1</td>\n",
       "      <td>0.3</td>\n",
       "      <td>0.3</td>\n",
       "      <td>0.3</td>\n",
       "      <td>3.469447e-17</td>\n",
       "    </tr>\n",
       "    <tr>\n",
       "      <th>0</th>\n",
       "      <td>5.319819e-17</td>\n",
       "      <td>0.0</td>\n",
       "      <td>0.0</td>\n",
       "      <td>1.525821e-17</td>\n",
       "      <td>0.1</td>\n",
       "      <td>0.3</td>\n",
       "      <td>0.3</td>\n",
       "      <td>0.3</td>\n",
       "      <td>3.469447e-17</td>\n",
       "    </tr>\n",
       "    <tr>\n",
       "      <th>0</th>\n",
       "      <td>5.319819e-17</td>\n",
       "      <td>0.0</td>\n",
       "      <td>0.0</td>\n",
       "      <td>1.525821e-17</td>\n",
       "      <td>0.1</td>\n",
       "      <td>0.3</td>\n",
       "      <td>0.3</td>\n",
       "      <td>0.3</td>\n",
       "      <td>3.469447e-17</td>\n",
       "    </tr>\n",
       "    <tr>\n",
       "      <th>0</th>\n",
       "      <td>5.319819e-17</td>\n",
       "      <td>0.0</td>\n",
       "      <td>0.0</td>\n",
       "      <td>1.525821e-17</td>\n",
       "      <td>0.1</td>\n",
       "      <td>0.3</td>\n",
       "      <td>0.3</td>\n",
       "      <td>0.3</td>\n",
       "      <td>3.469447e-17</td>\n",
       "    </tr>\n",
       "    <tr>\n",
       "      <th>0</th>\n",
       "      <td>5.319819e-17</td>\n",
       "      <td>0.0</td>\n",
       "      <td>0.0</td>\n",
       "      <td>1.525821e-17</td>\n",
       "      <td>0.1</td>\n",
       "      <td>0.3</td>\n",
       "      <td>0.3</td>\n",
       "      <td>0.3</td>\n",
       "      <td>3.469447e-17</td>\n",
       "    </tr>\n",
       "    <tr>\n",
       "      <th>0</th>\n",
       "      <td>5.319819e-17</td>\n",
       "      <td>0.0</td>\n",
       "      <td>0.0</td>\n",
       "      <td>1.525821e-17</td>\n",
       "      <td>0.1</td>\n",
       "      <td>0.3</td>\n",
       "      <td>0.3</td>\n",
       "      <td>0.3</td>\n",
       "      <td>3.469447e-17</td>\n",
       "    </tr>\n",
       "    <tr>\n",
       "      <th>0</th>\n",
       "      <td>5.319819e-17</td>\n",
       "      <td>0.0</td>\n",
       "      <td>0.0</td>\n",
       "      <td>1.525821e-17</td>\n",
       "      <td>0.1</td>\n",
       "      <td>0.3</td>\n",
       "      <td>0.3</td>\n",
       "      <td>0.3</td>\n",
       "      <td>3.469447e-17</td>\n",
       "    </tr>\n",
       "    <tr>\n",
       "      <th>0</th>\n",
       "      <td>5.319819e-17</td>\n",
       "      <td>0.0</td>\n",
       "      <td>0.0</td>\n",
       "      <td>1.525821e-17</td>\n",
       "      <td>0.1</td>\n",
       "      <td>0.3</td>\n",
       "      <td>0.3</td>\n",
       "      <td>0.3</td>\n",
       "      <td>3.469447e-17</td>\n",
       "    </tr>\n",
       "    <tr>\n",
       "      <th>0</th>\n",
       "      <td>5.319819e-17</td>\n",
       "      <td>0.0</td>\n",
       "      <td>0.0</td>\n",
       "      <td>1.525821e-17</td>\n",
       "      <td>0.1</td>\n",
       "      <td>0.3</td>\n",
       "      <td>0.3</td>\n",
       "      <td>0.3</td>\n",
       "      <td>3.469447e-17</td>\n",
       "    </tr>\n",
       "    <tr>\n",
       "      <th>0</th>\n",
       "      <td>5.319819e-17</td>\n",
       "      <td>0.0</td>\n",
       "      <td>0.0</td>\n",
       "      <td>1.525821e-17</td>\n",
       "      <td>0.1</td>\n",
       "      <td>0.3</td>\n",
       "      <td>0.3</td>\n",
       "      <td>0.3</td>\n",
       "      <td>3.469447e-17</td>\n",
       "    </tr>\n",
       "    <tr>\n",
       "      <th>0</th>\n",
       "      <td>5.319819e-17</td>\n",
       "      <td>0.0</td>\n",
       "      <td>0.0</td>\n",
       "      <td>1.525821e-17</td>\n",
       "      <td>0.1</td>\n",
       "      <td>0.3</td>\n",
       "      <td>0.3</td>\n",
       "      <td>0.3</td>\n",
       "      <td>3.469447e-17</td>\n",
       "    </tr>\n",
       "    <tr>\n",
       "      <th>0</th>\n",
       "      <td>5.319819e-17</td>\n",
       "      <td>0.0</td>\n",
       "      <td>0.0</td>\n",
       "      <td>1.525821e-17</td>\n",
       "      <td>0.1</td>\n",
       "      <td>0.3</td>\n",
       "      <td>0.3</td>\n",
       "      <td>0.3</td>\n",
       "      <td>3.469447e-17</td>\n",
       "    </tr>\n",
       "    <tr>\n",
       "      <th>0</th>\n",
       "      <td>5.319819e-17</td>\n",
       "      <td>0.0</td>\n",
       "      <td>0.0</td>\n",
       "      <td>1.525821e-17</td>\n",
       "      <td>0.1</td>\n",
       "      <td>0.3</td>\n",
       "      <td>0.3</td>\n",
       "      <td>0.3</td>\n",
       "      <td>3.469447e-17</td>\n",
       "    </tr>\n",
       "    <tr>\n",
       "      <th>0</th>\n",
       "      <td>5.319819e-17</td>\n",
       "      <td>0.0</td>\n",
       "      <td>0.0</td>\n",
       "      <td>1.525821e-17</td>\n",
       "      <td>0.1</td>\n",
       "      <td>0.3</td>\n",
       "      <td>0.3</td>\n",
       "      <td>0.3</td>\n",
       "      <td>3.469447e-17</td>\n",
       "    </tr>\n",
       "    <tr>\n",
       "      <th>0</th>\n",
       "      <td>5.319819e-17</td>\n",
       "      <td>0.0</td>\n",
       "      <td>0.0</td>\n",
       "      <td>1.525821e-17</td>\n",
       "      <td>0.1</td>\n",
       "      <td>0.3</td>\n",
       "      <td>0.3</td>\n",
       "      <td>0.3</td>\n",
       "      <td>3.469447e-17</td>\n",
       "    </tr>\n",
       "    <tr>\n",
       "      <th>...</th>\n",
       "      <td>...</td>\n",
       "      <td>...</td>\n",
       "      <td>...</td>\n",
       "      <td>...</td>\n",
       "      <td>...</td>\n",
       "      <td>...</td>\n",
       "      <td>...</td>\n",
       "      <td>...</td>\n",
       "      <td>...</td>\n",
       "    </tr>\n",
       "    <tr>\n",
       "      <th>0</th>\n",
       "      <td>5.319819e-17</td>\n",
       "      <td>0.0</td>\n",
       "      <td>0.0</td>\n",
       "      <td>1.525821e-17</td>\n",
       "      <td>0.1</td>\n",
       "      <td>0.3</td>\n",
       "      <td>0.3</td>\n",
       "      <td>0.3</td>\n",
       "      <td>3.469447e-17</td>\n",
       "    </tr>\n",
       "    <tr>\n",
       "      <th>0</th>\n",
       "      <td>5.319819e-17</td>\n",
       "      <td>0.0</td>\n",
       "      <td>0.0</td>\n",
       "      <td>1.525821e-17</td>\n",
       "      <td>0.1</td>\n",
       "      <td>0.3</td>\n",
       "      <td>0.3</td>\n",
       "      <td>0.3</td>\n",
       "      <td>3.469447e-17</td>\n",
       "    </tr>\n",
       "    <tr>\n",
       "      <th>0</th>\n",
       "      <td>5.319819e-17</td>\n",
       "      <td>0.0</td>\n",
       "      <td>0.0</td>\n",
       "      <td>1.525821e-17</td>\n",
       "      <td>0.1</td>\n",
       "      <td>0.3</td>\n",
       "      <td>0.3</td>\n",
       "      <td>0.3</td>\n",
       "      <td>3.469447e-17</td>\n",
       "    </tr>\n",
       "    <tr>\n",
       "      <th>0</th>\n",
       "      <td>5.319819e-17</td>\n",
       "      <td>0.0</td>\n",
       "      <td>0.0</td>\n",
       "      <td>1.525821e-17</td>\n",
       "      <td>0.1</td>\n",
       "      <td>0.3</td>\n",
       "      <td>0.3</td>\n",
       "      <td>0.3</td>\n",
       "      <td>3.469447e-17</td>\n",
       "    </tr>\n",
       "    <tr>\n",
       "      <th>0</th>\n",
       "      <td>5.319819e-17</td>\n",
       "      <td>0.0</td>\n",
       "      <td>0.0</td>\n",
       "      <td>1.525821e-17</td>\n",
       "      <td>0.1</td>\n",
       "      <td>0.3</td>\n",
       "      <td>0.3</td>\n",
       "      <td>0.3</td>\n",
       "      <td>3.469447e-17</td>\n",
       "    </tr>\n",
       "    <tr>\n",
       "      <th>0</th>\n",
       "      <td>5.319819e-17</td>\n",
       "      <td>0.0</td>\n",
       "      <td>0.0</td>\n",
       "      <td>1.525821e-17</td>\n",
       "      <td>0.1</td>\n",
       "      <td>0.3</td>\n",
       "      <td>0.3</td>\n",
       "      <td>0.3</td>\n",
       "      <td>3.469447e-17</td>\n",
       "    </tr>\n",
       "    <tr>\n",
       "      <th>0</th>\n",
       "      <td>5.319819e-17</td>\n",
       "      <td>0.0</td>\n",
       "      <td>0.0</td>\n",
       "      <td>1.525821e-17</td>\n",
       "      <td>0.1</td>\n",
       "      <td>0.3</td>\n",
       "      <td>0.3</td>\n",
       "      <td>0.3</td>\n",
       "      <td>3.469447e-17</td>\n",
       "    </tr>\n",
       "    <tr>\n",
       "      <th>0</th>\n",
       "      <td>5.319819e-17</td>\n",
       "      <td>0.0</td>\n",
       "      <td>0.0</td>\n",
       "      <td>1.525821e-17</td>\n",
       "      <td>0.1</td>\n",
       "      <td>0.3</td>\n",
       "      <td>0.3</td>\n",
       "      <td>0.3</td>\n",
       "      <td>3.469447e-17</td>\n",
       "    </tr>\n",
       "    <tr>\n",
       "      <th>0</th>\n",
       "      <td>5.319819e-17</td>\n",
       "      <td>0.0</td>\n",
       "      <td>0.0</td>\n",
       "      <td>1.525821e-17</td>\n",
       "      <td>0.1</td>\n",
       "      <td>0.3</td>\n",
       "      <td>0.3</td>\n",
       "      <td>0.3</td>\n",
       "      <td>3.469447e-17</td>\n",
       "    </tr>\n",
       "    <tr>\n",
       "      <th>0</th>\n",
       "      <td>5.319819e-17</td>\n",
       "      <td>0.0</td>\n",
       "      <td>0.0</td>\n",
       "      <td>1.525821e-17</td>\n",
       "      <td>0.1</td>\n",
       "      <td>0.3</td>\n",
       "      <td>0.3</td>\n",
       "      <td>0.3</td>\n",
       "      <td>3.469447e-17</td>\n",
       "    </tr>\n",
       "    <tr>\n",
       "      <th>0</th>\n",
       "      <td>5.319819e-17</td>\n",
       "      <td>0.0</td>\n",
       "      <td>0.0</td>\n",
       "      <td>1.525821e-17</td>\n",
       "      <td>0.1</td>\n",
       "      <td>0.3</td>\n",
       "      <td>0.3</td>\n",
       "      <td>0.3</td>\n",
       "      <td>3.469447e-17</td>\n",
       "    </tr>\n",
       "    <tr>\n",
       "      <th>0</th>\n",
       "      <td>5.319819e-17</td>\n",
       "      <td>0.0</td>\n",
       "      <td>0.0</td>\n",
       "      <td>1.525821e-17</td>\n",
       "      <td>0.1</td>\n",
       "      <td>0.3</td>\n",
       "      <td>0.3</td>\n",
       "      <td>0.3</td>\n",
       "      <td>3.469447e-17</td>\n",
       "    </tr>\n",
       "    <tr>\n",
       "      <th>0</th>\n",
       "      <td>5.319819e-17</td>\n",
       "      <td>0.0</td>\n",
       "      <td>0.0</td>\n",
       "      <td>1.525821e-17</td>\n",
       "      <td>0.1</td>\n",
       "      <td>0.3</td>\n",
       "      <td>0.3</td>\n",
       "      <td>0.3</td>\n",
       "      <td>3.469447e-17</td>\n",
       "    </tr>\n",
       "    <tr>\n",
       "      <th>0</th>\n",
       "      <td>5.319819e-17</td>\n",
       "      <td>0.0</td>\n",
       "      <td>0.0</td>\n",
       "      <td>1.525821e-17</td>\n",
       "      <td>0.1</td>\n",
       "      <td>0.3</td>\n",
       "      <td>0.3</td>\n",
       "      <td>0.3</td>\n",
       "      <td>3.469447e-17</td>\n",
       "    </tr>\n",
       "    <tr>\n",
       "      <th>0</th>\n",
       "      <td>5.319819e-17</td>\n",
       "      <td>0.0</td>\n",
       "      <td>0.0</td>\n",
       "      <td>1.525821e-17</td>\n",
       "      <td>0.1</td>\n",
       "      <td>0.3</td>\n",
       "      <td>0.3</td>\n",
       "      <td>0.3</td>\n",
       "      <td>3.469447e-17</td>\n",
       "    </tr>\n",
       "    <tr>\n",
       "      <th>0</th>\n",
       "      <td>5.319819e-17</td>\n",
       "      <td>0.0</td>\n",
       "      <td>0.0</td>\n",
       "      <td>1.525821e-17</td>\n",
       "      <td>0.1</td>\n",
       "      <td>0.3</td>\n",
       "      <td>0.3</td>\n",
       "      <td>0.3</td>\n",
       "      <td>3.469447e-17</td>\n",
       "    </tr>\n",
       "    <tr>\n",
       "      <th>0</th>\n",
       "      <td>5.319819e-17</td>\n",
       "      <td>0.0</td>\n",
       "      <td>0.0</td>\n",
       "      <td>1.525821e-17</td>\n",
       "      <td>0.1</td>\n",
       "      <td>0.3</td>\n",
       "      <td>0.3</td>\n",
       "      <td>0.3</td>\n",
       "      <td>3.469447e-17</td>\n",
       "    </tr>\n",
       "    <tr>\n",
       "      <th>0</th>\n",
       "      <td>5.319819e-17</td>\n",
       "      <td>0.0</td>\n",
       "      <td>0.0</td>\n",
       "      <td>1.525821e-17</td>\n",
       "      <td>0.1</td>\n",
       "      <td>0.3</td>\n",
       "      <td>0.3</td>\n",
       "      <td>0.3</td>\n",
       "      <td>3.469447e-17</td>\n",
       "    </tr>\n",
       "    <tr>\n",
       "      <th>0</th>\n",
       "      <td>5.319819e-17</td>\n",
       "      <td>0.0</td>\n",
       "      <td>0.0</td>\n",
       "      <td>1.525821e-17</td>\n",
       "      <td>0.1</td>\n",
       "      <td>0.3</td>\n",
       "      <td>0.3</td>\n",
       "      <td>0.3</td>\n",
       "      <td>3.469447e-17</td>\n",
       "    </tr>\n",
       "    <tr>\n",
       "      <th>0</th>\n",
       "      <td>5.319819e-17</td>\n",
       "      <td>0.0</td>\n",
       "      <td>0.0</td>\n",
       "      <td>1.525821e-17</td>\n",
       "      <td>0.1</td>\n",
       "      <td>0.3</td>\n",
       "      <td>0.3</td>\n",
       "      <td>0.3</td>\n",
       "      <td>3.469447e-17</td>\n",
       "    </tr>\n",
       "    <tr>\n",
       "      <th>0</th>\n",
       "      <td>5.319819e-17</td>\n",
       "      <td>0.0</td>\n",
       "      <td>0.0</td>\n",
       "      <td>1.525821e-17</td>\n",
       "      <td>0.1</td>\n",
       "      <td>0.3</td>\n",
       "      <td>0.3</td>\n",
       "      <td>0.3</td>\n",
       "      <td>3.469447e-17</td>\n",
       "    </tr>\n",
       "    <tr>\n",
       "      <th>0</th>\n",
       "      <td>5.319819e-17</td>\n",
       "      <td>0.0</td>\n",
       "      <td>0.0</td>\n",
       "      <td>1.525821e-17</td>\n",
       "      <td>0.1</td>\n",
       "      <td>0.3</td>\n",
       "      <td>0.3</td>\n",
       "      <td>0.3</td>\n",
       "      <td>3.469447e-17</td>\n",
       "    </tr>\n",
       "    <tr>\n",
       "      <th>0</th>\n",
       "      <td>5.319819e-17</td>\n",
       "      <td>0.0</td>\n",
       "      <td>0.0</td>\n",
       "      <td>1.525821e-17</td>\n",
       "      <td>0.1</td>\n",
       "      <td>0.3</td>\n",
       "      <td>0.3</td>\n",
       "      <td>0.3</td>\n",
       "      <td>3.469447e-17</td>\n",
       "    </tr>\n",
       "    <tr>\n",
       "      <th>0</th>\n",
       "      <td>5.319819e-17</td>\n",
       "      <td>0.0</td>\n",
       "      <td>0.0</td>\n",
       "      <td>1.525821e-17</td>\n",
       "      <td>0.1</td>\n",
       "      <td>0.3</td>\n",
       "      <td>0.3</td>\n",
       "      <td>0.3</td>\n",
       "      <td>3.469447e-17</td>\n",
       "    </tr>\n",
       "    <tr>\n",
       "      <th>0</th>\n",
       "      <td>5.319819e-17</td>\n",
       "      <td>0.0</td>\n",
       "      <td>0.0</td>\n",
       "      <td>1.525821e-17</td>\n",
       "      <td>0.1</td>\n",
       "      <td>0.3</td>\n",
       "      <td>0.3</td>\n",
       "      <td>0.3</td>\n",
       "      <td>3.469447e-17</td>\n",
       "    </tr>\n",
       "    <tr>\n",
       "      <th>0</th>\n",
       "      <td>5.319819e-17</td>\n",
       "      <td>0.0</td>\n",
       "      <td>0.0</td>\n",
       "      <td>1.525821e-17</td>\n",
       "      <td>0.1</td>\n",
       "      <td>0.3</td>\n",
       "      <td>0.3</td>\n",
       "      <td>0.3</td>\n",
       "      <td>3.469447e-17</td>\n",
       "    </tr>\n",
       "    <tr>\n",
       "      <th>0</th>\n",
       "      <td>5.319819e-17</td>\n",
       "      <td>0.0</td>\n",
       "      <td>0.0</td>\n",
       "      <td>1.525821e-17</td>\n",
       "      <td>0.1</td>\n",
       "      <td>0.3</td>\n",
       "      <td>0.3</td>\n",
       "      <td>0.3</td>\n",
       "      <td>3.469447e-17</td>\n",
       "    </tr>\n",
       "    <tr>\n",
       "      <th>0</th>\n",
       "      <td>5.319819e-17</td>\n",
       "      <td>0.0</td>\n",
       "      <td>0.0</td>\n",
       "      <td>1.525821e-17</td>\n",
       "      <td>0.1</td>\n",
       "      <td>0.3</td>\n",
       "      <td>0.3</td>\n",
       "      <td>0.3</td>\n",
       "      <td>3.469447e-17</td>\n",
       "    </tr>\n",
       "    <tr>\n",
       "      <th>0</th>\n",
       "      <td>5.319819e-17</td>\n",
       "      <td>0.0</td>\n",
       "      <td>0.0</td>\n",
       "      <td>1.525821e-17</td>\n",
       "      <td>0.1</td>\n",
       "      <td>0.3</td>\n",
       "      <td>0.3</td>\n",
       "      <td>0.3</td>\n",
       "      <td>3.469447e-17</td>\n",
       "    </tr>\n",
       "    <tr>\n",
       "      <th>0</th>\n",
       "      <td>5.319819e-17</td>\n",
       "      <td>0.0</td>\n",
       "      <td>0.0</td>\n",
       "      <td>1.525821e-17</td>\n",
       "      <td>0.1</td>\n",
       "      <td>0.3</td>\n",
       "      <td>0.3</td>\n",
       "      <td>0.3</td>\n",
       "      <td>3.469447e-17</td>\n",
       "    </tr>\n",
       "  </tbody>\n",
       "</table>\n",
       "<p>109 rows × 9 columns</p>\n",
       "</div>"
      ]
     },
     "execution_count": 60,
     "metadata": {},
     "output_type": "execute_result"
    }
   ],
   "source": [
    "backtestWeights"
   ]
  },
  {
   "cell_type": "code",
   "execution_count": null,
   "metadata": {},
   "outputs": [],
   "source": []
  }
 ],
 "metadata": {
  "kernelspec": {
   "display_name": "Python 3",
   "language": "python",
   "name": "python3"
  },
  "language_info": {
   "codemirror_mode": {
    "name": "ipython",
    "version": 3
   },
   "file_extension": ".py",
   "mimetype": "text/x-python",
   "name": "python",
   "nbconvert_exporter": "python",
   "pygments_lexer": "ipython3",
   "version": "3.6.5"
  }
 },
 "nbformat": 4,
 "nbformat_minor": 2
}
